{
 "cells": [
  {
   "cell_type": "code",
   "execution_count": 1,
   "metadata": {},
   "outputs": [
    {
     "name": "stdout",
     "output_type": "stream",
     "text": [
      "Collecting flask\n",
      "  Downloading Flask-2.3.1-py3-none-any.whl (96 kB)\n",
      "     ---------------------------------------- 97.0/97.0 kB 1.8 MB/s eta 0:00:00\n",
      "Requirement already satisfied: Jinja2>=3.1.2 in c:\\users\\saish\\appdata\\local\\packages\\pythonsoftwarefoundation.python.3.10_qbz5n2kfra8p0\\localcache\\local-packages\\python310\\site-packages (from flask) (3.1.2)\n",
      "Collecting blinker>=1.6.2\n",
      "  Downloading blinker-1.6.2-py3-none-any.whl (13 kB)\n",
      "Collecting Werkzeug>=2.3.0\n",
      "  Downloading Werkzeug-2.3.1-py3-none-any.whl (242 kB)\n",
      "     -------------------------------------- 242.0/242.0 kB 7.5 MB/s eta 0:00:00\n",
      "Collecting itsdangerous>=2.1.2\n",
      "  Downloading itsdangerous-2.1.2-py3-none-any.whl (15 kB)\n",
      "Collecting click>=8.1.3\n",
      "  Downloading click-8.1.3-py3-none-any.whl (96 kB)\n",
      "     ---------------------------------------- 96.6/96.6 kB ? eta 0:00:00\n",
      "Requirement already satisfied: colorama in c:\\users\\saish\\appdata\\local\\packages\\pythonsoftwarefoundation.python.3.10_qbz5n2kfra8p0\\localcache\\local-packages\\python310\\site-packages (from click>=8.1.3->flask) (0.4.6)\n",
      "Requirement already satisfied: MarkupSafe>=2.0 in c:\\users\\saish\\appdata\\local\\packages\\pythonsoftwarefoundation.python.3.10_qbz5n2kfra8p0\\localcache\\local-packages\\python310\\site-packages (from Jinja2>=3.1.2->flask) (2.1.2)\n",
      "Installing collected packages: Werkzeug, itsdangerous, click, blinker, flask\n",
      "  Attempting uninstall: Werkzeug\n",
      "    Found existing installation: Werkzeug 2.2.3\n",
      "    Uninstalling Werkzeug-2.2.3:\n",
      "      Successfully uninstalled Werkzeug-2.2.3\n",
      "Successfully installed Werkzeug-2.3.1 blinker-1.6.2 click-8.1.3 flask-2.3.1 itsdangerous-2.1.2\n"
     ]
    },
    {
     "name": "stderr",
     "output_type": "stream",
     "text": [
      "\n",
      "[notice] A new release of pip available: 22.3.1 -> 23.1.2\n",
      "[notice] To update, run: C:\\Users\\saish\\AppData\\Local\\Microsoft\\WindowsApps\\PythonSoftwareFoundation.Python.3.10_qbz5n2kfra8p0\\python.exe -m pip install --upgrade pip\n"
     ]
    },
    {
     "name": "stdout",
     "output_type": "stream",
     "text": [
      "Collecting nltk\n",
      "  Downloading nltk-3.8.1-py3-none-any.whl (1.5 MB)\n",
      "     ---------------------------------------- 1.5/1.5 MB 8.0 MB/s eta 0:00:00\n",
      "Requirement already satisfied: tqdm in c:\\users\\saish\\appdata\\local\\packages\\pythonsoftwarefoundation.python.3.10_qbz5n2kfra8p0\\localcache\\local-packages\\python310\\site-packages (from nltk) (4.65.0)\n",
      "Requirement already satisfied: joblib in c:\\users\\saish\\appdata\\local\\packages\\pythonsoftwarefoundation.python.3.10_qbz5n2kfra8p0\\localcache\\local-packages\\python310\\site-packages (from nltk) (1.2.0)\n",
      "Requirement already satisfied: click in c:\\users\\saish\\appdata\\local\\packages\\pythonsoftwarefoundation.python.3.10_qbz5n2kfra8p0\\localcache\\local-packages\\python310\\site-packages (from nltk) (8.1.3)\n",
      "Collecting regex>=2021.8.3\n",
      "  Downloading regex-2023.3.23-cp310-cp310-win_amd64.whl (267 kB)\n",
      "     ------------------------------------- 267.9/267.9 kB 16.1 MB/s eta 0:00:00\n",
      "Requirement already satisfied: colorama in c:\\users\\saish\\appdata\\local\\packages\\pythonsoftwarefoundation.python.3.10_qbz5n2kfra8p0\\localcache\\local-packages\\python310\\site-packages (from click->nltk) (0.4.6)\n",
      "Installing collected packages: regex, nltk\n",
      "Successfully installed nltk-3.8.1 regex-2023.3.23\n"
     ]
    },
    {
     "name": "stderr",
     "output_type": "stream",
     "text": [
      "\n",
      "[notice] A new release of pip available: 22.3.1 -> 23.1.2\n",
      "[notice] To update, run: C:\\Users\\saish\\AppData\\Local\\Microsoft\\WindowsApps\\PythonSoftwareFoundation.Python.3.10_qbz5n2kfra8p0\\python.exe -m pip install --upgrade pip\n",
      "\n",
      "[notice] A new release of pip available: 22.3.1 -> 23.1.2\n",
      "[notice] To update, run: C:\\Users\\saish\\AppData\\Local\\Microsoft\\WindowsApps\\PythonSoftwareFoundation.Python.3.10_qbz5n2kfra8p0\\python.exe -m pip install --upgrade pip\n"
     ]
    },
    {
     "name": "stdout",
     "output_type": "stream",
     "text": [
      "Requirement already satisfied: urllib3 in c:\\users\\saish\\appdata\\local\\packages\\pythonsoftwarefoundation.python.3.10_qbz5n2kfra8p0\\localcache\\local-packages\\python310\\site-packages (1.26.13)\n",
      "Requirement already satisfied: bs4 in c:\\users\\saish\\appdata\\local\\packages\\pythonsoftwarefoundation.python.3.10_qbz5n2kfra8p0\\localcache\\local-packages\\python310\\site-packages (0.0.1)\n",
      "Requirement already satisfied: beautifulsoup4 in c:\\users\\saish\\appdata\\local\\packages\\pythonsoftwarefoundation.python.3.10_qbz5n2kfra8p0\\localcache\\local-packages\\python310\\site-packages (from bs4) (4.11.1)\n",
      "Requirement already satisfied: soupsieve>1.2 in c:\\users\\saish\\appdata\\local\\packages\\pythonsoftwarefoundation.python.3.10_qbz5n2kfra8p0\\localcache\\local-packages\\python310\\site-packages (from beautifulsoup4->bs4) (2.3.2.post1)\n"
     ]
    },
    {
     "name": "stderr",
     "output_type": "stream",
     "text": [
      "\n",
      "[notice] A new release of pip available: 22.3.1 -> 23.1.2\n",
      "[notice] To update, run: C:\\Users\\saish\\AppData\\Local\\Microsoft\\WindowsApps\\PythonSoftwareFoundation.Python.3.10_qbz5n2kfra8p0\\python.exe -m pip install --upgrade pip\n"
     ]
    },
    {
     "name": "stdout",
     "output_type": "stream",
     "text": [
      "Requirement already satisfied: plotly in c:\\users\\saish\\appdata\\local\\packages\\pythonsoftwarefoundation.python.3.10_qbz5n2kfra8p0\\localcache\\local-packages\\python310\\site-packages (5.14.0)\n",
      "Requirement already satisfied: packaging in c:\\users\\saish\\appdata\\local\\packages\\pythonsoftwarefoundation.python.3.10_qbz5n2kfra8p0\\localcache\\local-packages\\python310\\site-packages (from plotly) (23.0)\n",
      "Requirement already satisfied: tenacity>=6.2.0 in c:\\users\\saish\\appdata\\local\\packages\\pythonsoftwarefoundation.python.3.10_qbz5n2kfra8p0\\localcache\\local-packages\\python310\\site-packages (from plotly) (8.2.2)\n"
     ]
    },
    {
     "name": "stderr",
     "output_type": "stream",
     "text": [
      "\n",
      "[notice] A new release of pip available: 22.3.1 -> 23.1.2\n",
      "[notice] To update, run: C:\\Users\\saish\\AppData\\Local\\Microsoft\\WindowsApps\\PythonSoftwareFoundation.Python.3.10_qbz5n2kfra8p0\\python.exe -m pip install --upgrade pip\n"
     ]
    }
   ],
   "source": [
    "!pip install flask\n",
    "!pip install nltk\n",
    "!pip install urllib3\n",
    "!pip install bs4\n",
    "!pip install plotly"
   ]
  },
  {
   "attachments": {},
   "cell_type": "markdown",
   "metadata": {},
   "source": [
    "## Importing all the libraries"
   ]
  },
  {
   "cell_type": "code",
   "execution_count": 2,
   "metadata": {},
   "outputs": [
    {
     "name": "stderr",
     "output_type": "stream",
     "text": [
      "[nltk_data] Downloading package vader_lexicon to\n",
      "[nltk_data]     C:\\Users\\saish\\AppData\\Roaming\\nltk_data...\n"
     ]
    }
   ],
   "source": [
    "# Import libraries\n",
    "from urllib.request import urlopen, Request\n",
    "from bs4 import BeautifulSoup\n",
    "import pandas as pd\n",
    "import plotly.express as px\n",
    "# NLTK VADER for sentiment analysis\n",
    "import nltk\n",
    "nltk.downloader.download('vader_lexicon')\n",
    "from nltk.sentiment.vader import SentimentIntensityAnalyzer\n",
    "from nltk.sentiment.vader import SentimentIntensityAnalyzer\n",
    "\n",
    "# for extracting data from finviz\n",
    "finviz_url = 'https://finviz.com/quote.ashx?t='"
   ]
  },
  {
   "attachments": {},
   "cell_type": "markdown",
   "metadata": {},
   "source": [
    "## Getting HTML Headlines from FinViz Using Beautiful Soup"
   ]
  },
  {
   "cell_type": "code",
   "execution_count": 6,
   "metadata": {},
   "outputs": [
    {
     "data": {
      "text/plain": [
       "<table border=\"0\" cellpadding=\"1\" cellspacing=\"0\" class=\"fullview-news-outer\" id=\"news-table\" width=\"100%\">\n",
       "<tr><td align=\"right\" width=\"130\">Apr-27-23 08:06PM</td><td align=\"left\"><div class=\"news-link-container\"><div class=\"news-link-left\"><a class=\"tab-link-news\" href=\"https://finance.yahoo.com/m/f3bcc7e4-fded-3001-8564-a2206ed1629d/amazon-stock-shocks.html\" onclick=\"trackAndOpenNews(event, 'Motley Fool', 'https://finance.yahoo.com/m/f3bcc7e4-fded-3001-8564-a2206ed1629d/amazon-stock-shocks.html');\" rel=\"nofollow\" target=\"_blank\">Amazon Stock Shocks Investors: What Happened?</a></div><div class=\"news-link-right\"><span>(Motley Fool)</span></div></div></td></tr>\n",
       "<tr><td align=\"right\" width=\"130\">07:59PM</td><td align=\"left\"><div class=\"news-link-container\"><div class=\"news-link-left\"><a class=\"tab-link-news\" href=\"https://finance.yahoo.com/news/amazon-stock-forfeits-gains-after-company-warns-on-optimizations-from-aws-customers-235944403.html\" onclick=\"trackAndOpenNews(event, 'Yahoo Finance', 'https://finance.yahoo.com/news/amazon-stock-forfeits-gains-after-company-warns-on-optimizations-from-aws-customers-235944403.html');\" rel=\"nofollow\" target=\"_blank\">Amazon stock forfeits gains after company warns on 'optimizations' from AWS customers</a></div><div class=\"news-link-right\"><span>(Yahoo Finance)</span></div></div></td></tr>\n",
       "<tr><td align=\"right\" width=\"130\">07:43PM</td><td align=\"left\"><div class=\"news-link-container\"><div class=\"news-link-left\"><a class=\"tab-link-news\" href=\"https://finance.yahoo.com/news/amazon-raises-investor-fears-continued-222122533.html\" onclick=\"trackAndOpenNews(event, 'Bloomberg', 'https://finance.yahoo.com/news/amazon-raises-investor-fears-continued-222122533.html');\" rel=\"nofollow\" target=\"_blank\">Amazon Jolts Investors With Talk of Cloud Growth Slowdown</a></div><div class=\"news-link-right\"><span>(Bloomberg)</span></div></div></td></tr>\n",
       "<tr><td align=\"right\" width=\"130\">07:35PM</td><td align=\"left\"><div class=\"news-link-container\"><div class=\"news-link-left\"><a class=\"tab-link-news\" href=\"https://finance.yahoo.com/video/amazons-q1-earnings-call-wall-233534167.html\" onclick=\"trackAndOpenNews(event, 'Yahoo Finance Video', 'https://finance.yahoo.com/video/amazons-q1-earnings-call-wall-233534167.html');\" rel=\"nofollow\" target=\"_blank\">Amazon's Q1 earnings call: What Wall Street is concerned about</a></div><div class=\"news-link-right\"><span>(Yahoo Finance Video)</span></div></div></td></tr>\n",
       "<tr><td align=\"right\" width=\"130\">07:30PM</td><td align=\"left\"><div class=\"news-link-container\"><div class=\"news-link-left\"><a class=\"tab-link-news\" href=\"https://finance.yahoo.com/m/41a1a680-fda0-3b2e-94d1-0c178dd9eb65/amazon-rebounds-from.html\" onclick=\"trackAndOpenNews(event, 'The Wall Street Journal', 'https://finance.yahoo.com/m/41a1a680-fda0-3b2e-94d1-0c178dd9eb65/amazon-rebounds-from.html');\" rel=\"nofollow\" target=\"_blank\">Amazon Rebounds From Postpandemic Doldrums, but Says Cloud Growth Is Slowing</a></div><div class=\"news-link-right\"><span>(The Wall Street Journal)</span></div></div></td></tr>\n",
       "<tr>\n",
       "<td align=\"right\" width=\"130\">07:20PM</td>\n",
       "<td align=\"left\" id=\"IC_D_3x8_1\"><span class=\"block text-3xs text-gray-500 leading-none\">Loading…</span></td>\n",
       "</tr>\n",
       "<tr><td align=\"right\" width=\"130\">07:20PM</td><td align=\"left\"><div class=\"news-link-container\"><div class=\"news-link-left\"><a class=\"tab-link-news\" href=\"https://finance.yahoo.com/m/c40181ef-a67e-31f2-bb8f-b14f4b1db902/amazon-stock-falls-amid.html\" onclick=\"trackAndOpenNews(event, 'Investor\\u0027s Business Daily', 'https://finance.yahoo.com/m/c40181ef-a67e-31f2-bb8f-b14f4b1db902/amazon-stock-falls-amid.html');\" rel=\"nofollow\" target=\"_blank\">Amazon Stock Falls Amid Earnings Beat On Worries Over Cloud Computing</a></div><div class=\"news-link-right\"><span>(Investor's Business Daily)</span></div></div></td></tr>\n",
       "<tr><td align=\"right\" width=\"130\">07:19PM</td><td align=\"left\"><div class=\"news-link-container\"><div class=\"news-link-left\"><a class=\"tab-link-news\" href=\"https://finance.yahoo.com/m/fdd166ec-98a2-3c97-a05c-e3a01ad23b81/amazon%E2%80%99s-cloud-casts-a-shadow.html\" onclick=\"trackAndOpenNews(event, 'The Wall Street Journal', 'https://finance.yahoo.com/m/fdd166ec-98a2-3c97-a05c-e3a01ad23b81/amazon%E2%80%99s-cloud-casts-a-shadow.html');\" rel=\"nofollow\" target=\"_blank\">Amazons Cloud Casts a Shadow</a></div><div class=\"news-link-right\"><span>(The Wall Street Journal)</span></div></div></td></tr>\n",
       "<tr><td align=\"right\" width=\"130\">07:18PM</td><td align=\"left\"><div class=\"news-link-container\"><div class=\"news-link-left\"><a class=\"tab-link-news\" href=\"https://finance.yahoo.com/video/amazons-first-quarter-earnings-call-231829009.html\" onclick=\"trackAndOpenNews(event, 'Yahoo Finance Video', 'https://finance.yahoo.com/video/amazons-first-quarter-earnings-call-231829009.html');\" rel=\"nofollow\" target=\"_blank\">Amazon's first quarter earnings call: What you need to know</a></div><div class=\"news-link-right\"><span>(Yahoo Finance Video)</span></div></div></td></tr>\n",
       "<tr><td align=\"right\" width=\"130\">07:12PM</td><td align=\"left\"><div class=\"news-link-container\"><div class=\"news-link-left\"><a class=\"tab-link-news\" href=\"https://finance.yahoo.com/video/amazon-earnings-economic-uncertainty-loomed-231217016.html\" onclick=\"trackAndOpenNews(event, 'Yahoo Finance Video', 'https://finance.yahoo.com/video/amazon-earnings-economic-uncertainty-loomed-231217016.html');\" rel=\"nofollow\" target=\"_blank\">Amazon earnings: Economic uncertainty loomed large over the call</a></div><div class=\"news-link-right\"><span>(Yahoo Finance Video)</span></div></div></td></tr>\n",
       "<tr><td align=\"right\" width=\"130\">07:11PM</td><td align=\"left\"><div class=\"news-link-container\"><div class=\"news-link-left\"><a class=\"tab-link-news\" href=\"https://finance.yahoo.com/m/b813438c-4717-3b4b-b33e-f3c4d9036978/amazon-earnings-beat.html\" onclick=\"trackAndOpenNews(event, 'Barrons.com', 'https://finance.yahoo.com/m/b813438c-4717-3b4b-b33e-f3c4d9036978/amazon-earnings-beat.html');\" rel=\"nofollow\" target=\"_blank\">Amazon Earnings Beat Estimates. Why the Stock Is Dropping.</a></div><div class=\"news-link-right\"><span>(Barrons.com)</span></div></div></td></tr>\n",
       "<tr><td align=\"right\" width=\"130\">07:07PM</td><td align=\"left\"><div class=\"news-link-container\"><div class=\"news-link-left\"><a class=\"tab-link-news\" href=\"https://finance.yahoo.com/m/4f07e8ca-c79c-36cd-82e1-7fdf104d222a/amazon-stock-slides-as-softer.html\" onclick=\"trackAndOpenNews(event, 'TheStreet.com', 'https://finance.yahoo.com/m/4f07e8ca-c79c-36cd-82e1-7fdf104d222a/amazon-stock-slides-as-softer.html');\" rel=\"nofollow\" target=\"_blank\">Amazon Stock Slides As Softer Cloud Outlook Mars Q1 Earnings Beat</a></div><div class=\"news-link-right\"><span>(TheStreet.com)</span></div></div></td></tr>\n",
       "<tr><td align=\"right\" width=\"130\">06:07PM</td><td align=\"left\"><div class=\"news-link-container\"><div class=\"news-link-left\"><a class=\"tab-link-news\" href=\"https://finance.yahoo.com/m/0a9c5c17-7dca-358c-85e4-e1efc702a234/amazon%E2%80%99s-earnings-beat.html\" onclick=\"trackAndOpenNews(event, 'Financial Times', 'https://finance.yahoo.com/m/0a9c5c17-7dca-358c-85e4-e1efc702a234/amazon%E2%80%99s-earnings-beat.html');\" rel=\"nofollow\" target=\"_blank\">Amazons earnings beat expectations amid fears of softer demand</a></div><div class=\"news-link-right\"><span>(Financial Times)</span></div></div></td></tr>\n",
       "<tr><td align=\"right\" width=\"130\">06:07PM</td><td align=\"left\"><div class=\"news-link-container\"><div class=\"news-link-left\"><a class=\"tab-link-news\" href=\"https://finance.yahoo.com/m/c40181ef-a67e-31f2-bb8f-b14f4b1db902/amid-cost-cutting%2C-amazon.html\" onclick=\"trackAndOpenNews(event, 'Investor\\u0027s Business Daily', 'https://finance.yahoo.com/m/c40181ef-a67e-31f2-bb8f-b14f4b1db902/amid-cost-cutting%2C-amazon.html');\" rel=\"nofollow\" target=\"_blank\">Amid Cost Cutting, Amazon Stock Down As First-Quarter Results Beat</a></div><div class=\"news-link-right\"><span>(Investor's Business Daily)</span></div></div></td></tr>\n",
       "<tr><td align=\"right\" width=\"130\">05:59PM</td><td align=\"left\"><div class=\"news-link-container\"><div class=\"news-link-left\"><a class=\"tab-link-news\" href=\"https://finance.yahoo.com/m/d1a13a72-e60f-3032-8199-8e4cc2254848/amazon-shares-gains-more-than.html\" onclick=\"trackAndOpenNews(event, 'Investopedia', 'https://finance.yahoo.com/m/d1a13a72-e60f-3032-8199-8e4cc2254848/amazon-shares-gains-more-than.html');\" rel=\"nofollow\" target=\"_blank\">Amazon Shares Gains More Than 6% After First-Quarter Profit Beats Estimates</a></div><div class=\"news-link-right\"><span>(Investopedia)</span></div></div></td></tr>\n",
       "<tr><td align=\"right\" width=\"130\">05:56PM</td><td align=\"left\"><div class=\"news-link-container\"><div class=\"news-link-left\"><a class=\"tab-link-news\" href=\"https://finance.yahoo.com/news/amazon-surges-profit-cloud-unit-202923626.html\" onclick=\"trackAndOpenNews(event, 'Bloomberg', 'https://finance.yahoo.com/news/amazon-surges-profit-cloud-unit-202923626.html');\" rel=\"nofollow\" target=\"_blank\">Amazon Surges After Profit, Cloud-Unit Sales Top Estimates</a></div><div class=\"news-link-right\"><span>(Bloomberg)</span></div></div></td></tr>\n",
       "<tr>\n",
       "<td align=\"right\" width=\"130\">05:41PM</td>\n",
       "<td align=\"left\" id=\"IC_D_3x8_2\"><span class=\"block text-3xs text-gray-500 leading-none\">Loading…</span></td>\n",
       "</tr>\n",
       "<tr><td align=\"right\" width=\"130\">05:41PM</td><td align=\"left\"><div class=\"news-link-container\"><div class=\"news-link-left\"><a class=\"tab-link-news\" href=\"https://finance.yahoo.com/m/41a1a680-fda0-3b2e-94d1-0c178dd9eb65/amazon-surges-back-from.html\" onclick=\"trackAndOpenNews(event, 'The Wall Street Journal', 'https://finance.yahoo.com/m/41a1a680-fda0-3b2e-94d1-0c178dd9eb65/amazon-surges-back-from.html');\" rel=\"nofollow\" target=\"_blank\">Amazon Surges Back From Postpandemic Doldrums, Echoing Other Big Tech Companies</a></div><div class=\"news-link-right\"><span>(The Wall Street Journal)</span></div></div></td></tr>\n",
       "<tr><td align=\"right\" width=\"130\">05:15PM</td><td align=\"left\"><div class=\"news-link-container\"><div class=\"news-link-left\"><a class=\"tab-link-news\" href=\"https://finance.yahoo.com/news/stocks-moving-in-after-hours-amazon-snap-pinterest-intel-211513668.html\" onclick=\"trackAndOpenNews(event, 'Yahoo Finance', 'https://finance.yahoo.com/news/stocks-moving-in-after-hours-amazon-snap-pinterest-intel-211513668.html');\" rel=\"nofollow\" target=\"_blank\">Stocks moving in after-hours: Amazon, Snap, Pinterest, Intel</a></div><div class=\"news-link-right\"><span>(Yahoo Finance)</span></div></div></td></tr>\n",
       "<tr><td align=\"right\" width=\"130\">05:11PM</td><td align=\"left\"><div class=\"news-link-container\"><div class=\"news-link-left\"><a class=\"tab-link-news\" href=\"https://finance.yahoo.com/video/amazon-stock-jumps-earnings-revenue-211108163.html\" onclick=\"trackAndOpenNews(event, 'Yahoo Finance Video', 'https://finance.yahoo.com/video/amazon-stock-jumps-earnings-revenue-211108163.html');\" rel=\"nofollow\" target=\"_blank\">Amazon stock jumps on earnings, revenue beats</a></div><div class=\"news-link-right\"><span>(Yahoo Finance Video)</span></div></div></td></tr>\n",
       "<tr><td align=\"right\" width=\"130\">05:05PM</td><td align=\"left\"><div class=\"news-link-container\"><div class=\"news-link-left\"><a class=\"tab-link-news\" href=\"https://finance.yahoo.com/m/0a9c5c17-7dca-358c-85e4-e1efc702a234/amazon-shares-rise-after.html\" onclick=\"trackAndOpenNews(event, 'Financial Times', 'https://finance.yahoo.com/m/0a9c5c17-7dca-358c-85e4-e1efc702a234/amazon-shares-rise-after.html');\" rel=\"nofollow\" target=\"_blank\">Amazon shares rise after reporting steady revenue growth</a></div><div class=\"news-link-right\"><span>(Financial Times)</span></div></div></td></tr>\n",
       "<tr><td align=\"right\" width=\"130\">04:57PM</td><td align=\"left\"><div class=\"news-link-container\"><div class=\"news-link-left\"><a class=\"tab-link-news\" href=\"https://finance.yahoo.com/video/amazon-expected-squarely-competition-ai-205752480.html\" onclick=\"trackAndOpenNews(event, 'Yahoo Finance Video', 'https://finance.yahoo.com/video/amazon-expected-squarely-competition-ai-205752480.html');\" rel=\"nofollow\" target=\"_blank\">Amazon is expected to be 'squarely in the competition' for AI adoption: Analyst</a></div><div class=\"news-link-right\"><span>(Yahoo Finance Video)</span></div></div></td></tr>\n",
       "<tr><td align=\"right\" width=\"130\">04:56PM</td><td align=\"left\"><div class=\"news-link-container\"><div class=\"news-link-left\"><a class=\"tab-link-news\" href=\"https://finance.yahoo.com/video/stocks-moving-hours-amazon-snap-205620693.html\" onclick=\"trackAndOpenNews(event, 'Yahoo Finance Video', 'https://finance.yahoo.com/video/stocks-moving-hours-amazon-snap-205620693.html');\" rel=\"nofollow\" target=\"_blank\">Stocks moving in after hours: Amazon, Snap, Pinterest, Intel</a></div><div class=\"news-link-right\"><span>(Yahoo Finance Video)</span></div></div></td></tr>\n",
       "<tr><td align=\"right\" width=\"130\">04:47PM</td><td align=\"left\"><div class=\"news-link-container\"><div class=\"news-link-left\"><a class=\"tab-link-news\" href=\"https://finance.yahoo.com/news/amazon-shares-jump-bucks-inflation-204722989.html\" onclick=\"trackAndOpenNews(event, 'The Telegraph', 'https://finance.yahoo.com/news/amazon-shares-jump-bucks-inflation-204722989.html');\" rel=\"nofollow\" target=\"_blank\">Amazon shares jump as it bucks inflation crisis to post best profit in over a year</a></div><div class=\"news-link-right\"><span>(The Telegraph)</span></div></div></td></tr>\n",
       "<tr><td align=\"right\" width=\"130\">04:31PM</td><td align=\"left\"><div class=\"news-link-container\"><div class=\"news-link-left\"><a class=\"tab-link-news\" href=\"https://finance.yahoo.com/m/b813438c-4717-3b4b-b33e-f3c4d9036978/amazon-stock-jumps-on-strong.html\" onclick=\"trackAndOpenNews(event, 'Barrons.com', 'https://finance.yahoo.com/m/b813438c-4717-3b4b-b33e-f3c4d9036978/amazon-stock-jumps-on-strong.html');\" rel=\"nofollow\" target=\"_blank\">Amazon Stock Jumps on Strong Earnings</a></div><div class=\"news-link-right\"><span>(Barrons.com)</span></div></div></td></tr>\n",
       "<tr><td align=\"right\" width=\"130\">04:25PM</td><td align=\"left\"><div class=\"news-link-container\"><div class=\"news-link-left\"><a class=\"tab-link-news\" href=\"https://finance.yahoo.com/news/amazon-stocks-surge-q1-revenue-202531155.html\" onclick=\"trackAndOpenNews(event, 'AP Finance', 'https://finance.yahoo.com/news/amazon-stocks-surge-q1-revenue-202531155.html');\" rel=\"nofollow\" target=\"_blank\">Amazon stocks surge after Q1 revenue, profit wins</a></div><div class=\"news-link-right\"><span>(AP Finance)</span></div></div></td></tr>\n",
       "<tr><td align=\"right\" width=\"130\">04:25PM</td><td align=\"left\"><div class=\"news-link-container\"><div class=\"news-link-left\"><a class=\"tab-link-news\" href=\"https://finance.yahoo.com/m/bcd372a9-c6e5-3f44-8929-9b1cb615814e/dow-gains-500-points-after.html\" onclick=\"trackAndOpenNews(event, 'Investor\\u0027s Business Daily', 'https://finance.yahoo.com/m/bcd372a9-c6e5-3f44-8929-9b1cb615814e/dow-gains-500-points-after.html');\" rel=\"nofollow\" target=\"_blank\">Dow Gains 500 Points After Jobs, GDP Data; Amazon On Fire After Report</a></div><div class=\"news-link-right\"><span>(Investor's Business Daily)</span></div></div></td></tr>\n",
       "<tr><td align=\"right\" width=\"130\">04:24PM</td><td align=\"left\"><div class=\"news-link-container\"><div class=\"news-link-left\"><a class=\"tab-link-news\" href=\"https://finance.yahoo.com/m/41a1a680-fda0-3b2e-94d1-0c178dd9eb65/amazon-sees-surging-growth.html\" onclick=\"trackAndOpenNews(event, 'The Wall Street Journal', 'https://finance.yahoo.com/m/41a1a680-fda0-3b2e-94d1-0c178dd9eb65/amazon-sees-surging-growth.html');\" rel=\"nofollow\" target=\"_blank\">Amazon Sees Surging Growth After Postpandemic Slowdown</a></div><div class=\"news-link-right\"><span>(The Wall Street Journal)</span></div></div></td></tr>\n",
       "<tr><td align=\"right\" width=\"130\">04:21PM</td><td align=\"left\"><div class=\"news-link-container\"><div class=\"news-link-left\"><a class=\"tab-link-news\" href=\"https://finance.yahoo.com/m/4f07e8ca-c79c-36cd-82e1-7fdf104d222a/amazon-soars-after-aws%2C.html\" onclick=\"trackAndOpenNews(event, 'TheStreet.com', 'https://finance.yahoo.com/m/4f07e8ca-c79c-36cd-82e1-7fdf104d222a/amazon-soars-after-aws%2C.html');\" rel=\"nofollow\" target=\"_blank\">Amazon Soars After AWS, Online Retail Sales Drive Q1 Earnings Beat, Bullish Outlook From CEO Andy Jassy</a></div><div class=\"news-link-right\"><span>(TheStreet.com)</span></div></div></td></tr>\n",
       "<tr><td align=\"right\" width=\"130\">04:16PM</td><td align=\"left\"><div class=\"news-link-container\"><div class=\"news-link-left\"><a class=\"tab-link-news\" href=\"https://finance.yahoo.com/m/4f07e8ca-c79c-36cd-82e1-7fdf104d222a/amazon-stock-soars-after-q1.html\" onclick=\"trackAndOpenNews(event, 'TheStreet.com', 'https://finance.yahoo.com/m/4f07e8ca-c79c-36cd-82e1-7fdf104d222a/amazon-stock-soars-after-q1.html');\" rel=\"nofollow\" target=\"_blank\">Amazon Stock Soars After Q1 Earnings Beat, Bullish Outlook From CEO Andy Jassy</a></div><div class=\"news-link-right\"><span>(TheStreet.com)</span></div></div></td></tr>\n",
       "<tr><td align=\"right\" width=\"130\">04:14PM</td><td align=\"left\"><div class=\"news-link-container\"><div class=\"news-link-left\"><a class=\"tab-link-news\" href=\"https://finance.yahoo.com/m/c40181ef-a67e-31f2-bb8f-b14f4b1db902/amazon-stock-jumps-as-q1.html\" onclick=\"trackAndOpenNews(event, 'Investor\\u0027s Business Daily', 'https://finance.yahoo.com/m/c40181ef-a67e-31f2-bb8f-b14f4b1db902/amazon-stock-jumps-as-q1.html');\" rel=\"nofollow\" target=\"_blank\">Amazon Stock Jumps As Q1 Earnings, Revenue Beat Amid Cost Cutting</a></div><div class=\"news-link-right\"><span>(Investor's Business Daily)</span></div></div></td></tr>\n",
       "<tr><td align=\"right\" width=\"130\">04:12PM</td><td align=\"left\"><div class=\"news-link-container\"><div class=\"news-link-left\"><a class=\"tab-link-news\" href=\"https://finance.yahoo.com/m/949406b0-a7a0-3014-a480-1efe1867955f/these-stocks-are-moving-the.html\" onclick=\"trackAndOpenNews(event, 'Barrons.com', 'https://finance.yahoo.com/m/949406b0-a7a0-3014-a480-1efe1867955f/these-stocks-are-moving-the.html');\" rel=\"nofollow\" target=\"_blank\">These Stocks Are Moving the Most Today: Meta, Mobileye, Crocs, First Republic, Wolfspeed, AbbVie, and More Stock Movers</a></div><div class=\"news-link-right\"><span>(Barrons.com)</span></div></div></td></tr>\n",
       "<tr>\n",
       "<td align=\"right\" width=\"130\">04:07PM</td>\n",
       "<td align=\"left\" id=\"IC_D_3x8_3\"><span class=\"block text-3xs text-gray-500 leading-none\">Loading…</span></td>\n",
       "</tr>\n",
       "<tr><td align=\"right\" width=\"130\">04:07PM</td><td align=\"left\"><div class=\"news-link-container\"><div class=\"news-link-left\"><a class=\"tab-link-news\" href=\"https://finance.yahoo.com/news/amazon-earnings-results-beats-expectations-across-the-board-stock-soars-200717241.html\" onclick=\"trackAndOpenNews(event, 'Yahoo Finance', 'https://finance.yahoo.com/news/amazon-earnings-results-beats-expectations-across-the-board-stock-soars-200717241.html');\" rel=\"nofollow\" target=\"_blank\">Amazon earnings: Results beats expectations across the board, stock soars</a></div><div class=\"news-link-right\"><span>(Yahoo Finance)</span></div></div></td></tr>\n",
       "<tr><td align=\"right\" width=\"130\">04:07PM</td><td align=\"left\"><div class=\"news-link-container\"><div class=\"news-link-left\"><a class=\"tab-link-news\" href=\"https://finance.yahoo.com/news/amazon-earnings-results-beat-expectations-across-the-board-stock-soars-200734750.html\" onclick=\"trackAndOpenNews(event, 'Yahoo Finance', 'https://finance.yahoo.com/news/amazon-earnings-results-beat-expectations-across-the-board-stock-soars-200734750.html');\" rel=\"nofollow\" target=\"_blank\">Amazon earnings: Results beat expectations across the board, stock soars</a></div><div class=\"news-link-right\"><span>(Yahoo Finance)</span></div></div></td></tr>\n",
       "<tr><td align=\"right\" width=\"130\">03:10PM</td><td align=\"left\"><div class=\"news-link-container\"><div class=\"news-link-left\"><a class=\"tab-link-news\" href=\"https://finance.yahoo.com/m/bcd372a9-c6e5-3f44-8929-9b1cb615814e/indexes-hit-session-highs.html\" onclick=\"trackAndOpenNews(event, 'Investor\\u0027s Business Daily', 'https://finance.yahoo.com/m/bcd372a9-c6e5-3f44-8929-9b1cb615814e/indexes-hit-session-highs.html');\" rel=\"nofollow\" target=\"_blank\">Indexes Hit Session Highs After Jobs, GDP Data; Intel, Amazon Rise Ahead Of Earnings</a></div><div class=\"news-link-right\"><span>(Investor's Business Daily)</span></div></div></td></tr>\n",
       "<tr><td align=\"right\" width=\"130\">12:56PM</td><td align=\"left\"><div class=\"news-link-container\"><div class=\"news-link-left\"><a class=\"tab-link-news\" href=\"https://finance.yahoo.com/news/lyft-lays-off-1072-employees-or-26-of-its-team-in-cost-cutting-push-165650631.html\" onclick=\"trackAndOpenNews(event, 'Yahoo Finance', 'https://finance.yahoo.com/news/lyft-lays-off-1072-employees-or-26-of-its-team-in-cost-cutting-push-165650631.html');\" rel=\"nofollow\" target=\"_blank\">Lyft lays off 1,072 employees, or 26% of its team, in cost-cutting push</a></div><div class=\"news-link-right\"><span>(Yahoo Finance)</span></div></div></td></tr>\n",
       "<tr><td align=\"right\" width=\"130\">12:27PM</td><td align=\"left\"><div class=\"news-link-container\"><div class=\"news-link-left\"><a class=\"tab-link-news\" href=\"https://finance.yahoo.com/m/b813438c-4717-3b4b-b33e-f3c4d9036978/amazon-earnings-are-coming..html\" onclick=\"trackAndOpenNews(event, 'Barrons.com', 'https://finance.yahoo.com/m/b813438c-4717-3b4b-b33e-f3c4d9036978/amazon-earnings-are-coming..html');\" rel=\"nofollow\" target=\"_blank\">Amazon Earnings Are Coming. The Cloud Gives, Retail Might Take Away.</a></div><div class=\"news-link-right\"><span>(Barrons.com)</span></div></div></td></tr>\n",
       "<tr><td align=\"right\" width=\"130\">10:52AM</td><td align=\"left\"><div class=\"news-link-container\"><div class=\"news-link-left\"><a class=\"tab-link-news\" href=\"https://finance.yahoo.com/m/842e0694-e028-3de1-9005-4b170b46f992/amazon-made-a-big-mistake.html\" onclick=\"trackAndOpenNews(event, 'TheStreet.com', 'https://finance.yahoo.com/m/842e0694-e028-3de1-9005-4b170b46f992/amazon-made-a-big-mistake.html');\" rel=\"nofollow\" target=\"_blank\">Amazon Made a Big Mistake (And It Could Hurt You)</a></div><div class=\"news-link-right\"><span>(TheStreet.com)</span></div></div></td></tr>\n",
       "<tr><td align=\"right\" width=\"130\">10:07AM</td><td align=\"left\"><div class=\"news-link-container\"><div class=\"news-link-left\"><a class=\"tab-link-news\" href=\"https://finance.yahoo.com/m/ef31b8d6-d5a6-36eb-b17c-de3d91997322/the-companies-conducting.html\" onclick=\"trackAndOpenNews(event, 'The Wall Street Journal', 'https://finance.yahoo.com/m/ef31b8d6-d5a6-36eb-b17c-de3d91997322/the-companies-conducting.html');\" rel=\"nofollow\" target=\"_blank\">The Companies Conducting Layoffs in 2023: Heres the List</a></div><div class=\"news-link-right\"><span>(The Wall Street Journal)</span></div></div></td></tr>\n",
       "<tr><td align=\"right\" width=\"130\">10:06AM</td><td align=\"left\"><div class=\"news-link-container\"><div class=\"news-link-left\"><a class=\"tab-link-news\" href=\"https://finance.yahoo.com/m/58f80f14-301f-379f-8bb9-c8fac409757b/as-cloud-computing-growth.html\" onclick=\"trackAndOpenNews(event, 'Investor\\u0027s Business Daily', 'https://finance.yahoo.com/m/58f80f14-301f-379f-8bb9-c8fac409757b/as-cloud-computing-growth.html');\" rel=\"nofollow\" target=\"_blank\">As Cloud Computing Growth Slows, Tech Titans Turn To AI For A Boost</a></div><div class=\"news-link-right\"><span>(Investor's Business Daily)</span></div></div></td></tr>\n",
       "<tr><td align=\"right\" width=\"130\">10:06AM</td><td align=\"left\"><div class=\"news-link-container\"><div class=\"news-link-left\"><a class=\"tab-link-news\" href=\"https://finance.yahoo.com/news/amazon-earnings-preview-heres-what-to-expect-140631644.html\" onclick=\"trackAndOpenNews(event, 'Yahoo Finance', 'https://finance.yahoo.com/news/amazon-earnings-preview-heres-what-to-expect-140631644.html');\" rel=\"nofollow\" target=\"_blank\">Amazon earnings preview: Here's what to expect</a></div><div class=\"news-link-right\"><span>(Yahoo Finance)</span></div></div></td></tr>\n",
       "<tr><td align=\"right\" width=\"130\">10:00AM</td><td align=\"left\"><div class=\"news-link-container\"><div class=\"news-link-left\"><a class=\"tab-link-news\" href=\"https://finance.yahoo.com/m/adacc166-2e8b-3136-bb83-46fc3e88bd42/better-buy%3A-amazon-vs.-netflix.html\" onclick=\"trackAndOpenNews(event, 'Motley Fool', 'https://finance.yahoo.com/m/adacc166-2e8b-3136-bb83-46fc3e88bd42/better-buy%3A-amazon-vs.-netflix.html');\" rel=\"nofollow\" target=\"_blank\">Better Buy: Amazon vs. Netflix</a></div><div class=\"news-link-right\"><span>(Motley Fool)</span></div></div></td></tr>\n",
       "<tr><td align=\"right\" width=\"130\">08:40AM</td><td align=\"left\"><div class=\"news-link-container\"><div class=\"news-link-left\"><a class=\"tab-link-news\" href=\"https://finance.yahoo.com/m/e5ab1a35-657d-3f88-87dc-c57d2816ed15/what-makes-a-stock.html\" onclick=\"trackAndOpenNews(event, 'Motley Fool', 'https://finance.yahoo.com/m/e5ab1a35-657d-3f88-87dc-c57d2816ed15/what-makes-a-stock.html');\" rel=\"nofollow\" target=\"_blank\">What Makes a Stock Undervalued?</a></div><div class=\"news-link-right\"><span>(Motley Fool)</span></div></div></td></tr>\n",
       "<tr><td align=\"right\" width=\"130\">08:05AM</td><td align=\"left\"><div class=\"news-link-container\"><div class=\"news-link-left\"><a class=\"tab-link-news\" href=\"https://finance.yahoo.com/m/c74aa7e4-3f9a-3cb7-a9cb-b8463c1b1b57/5-things-to-know-before.html\" onclick=\"trackAndOpenNews(event, 'Investopedia', 'https://finance.yahoo.com/m/c74aa7e4-3f9a-3cb7-a9cb-b8463c1b1b57/5-things-to-know-before.html');\" rel=\"nofollow\" target=\"_blank\">5 Things to Know Before Markets Open</a></div><div class=\"news-link-right\"><span>(Investopedia)</span></div></div></td></tr>\n",
       "<tr><td align=\"right\" width=\"130\">07:38AM</td><td align=\"left\"><div class=\"news-link-container\"><div class=\"news-link-left\"><a class=\"tab-link-news\" href=\"https://finance.yahoo.com/m/b5ecaa7a-7b2c-349b-b833-e2511093006c/is-snowflake-stock-really-a.html\" onclick=\"trackAndOpenNews(event, 'Motley Fool', 'https://finance.yahoo.com/m/b5ecaa7a-7b2c-349b-b833-e2511093006c/is-snowflake-stock-really-a.html');\" rel=\"nofollow\" target=\"_blank\">Is Snowflake Stock Really a Buy With So Many Compelling Values Out There?</a></div><div class=\"news-link-right\"><span>(Motley Fool)</span></div></div></td></tr>\n",
       "<tr><td align=\"right\" width=\"130\">07:25AM</td><td align=\"left\"><div class=\"news-link-container\"><div class=\"news-link-left\"><a class=\"tab-link-news\" href=\"https://finance.yahoo.com/m/5cc228fa-d2a8-349a-a59f-4f2553e19253/2-bargain-growth-stocks-to.html\" onclick=\"trackAndOpenNews(event, 'Motley Fool', 'https://finance.yahoo.com/m/5cc228fa-d2a8-349a-a59f-4f2553e19253/2-bargain-growth-stocks-to.html');\" rel=\"nofollow\" target=\"_blank\">2 Bargain Growth Stocks to Buy Now</a></div><div class=\"news-link-right\"><span>(Motley Fool)</span></div></div></td></tr>\n",
       "<tr><td align=\"right\" width=\"130\">07:04AM</td><td align=\"left\"><div class=\"news-link-container\"><div class=\"news-link-left\"><a class=\"tab-link-news\" href=\"https://finance.yahoo.com/m/b9a1c9fe-3129-385d-bd54-52976dc84330/amazon-earnings-preview%3A-cost.html\" onclick=\"trackAndOpenNews(event, 'TheStreet.com', 'https://finance.yahoo.com/m/b9a1c9fe-3129-385d-bd54-52976dc84330/amazon-earnings-preview%3A-cost.html');\" rel=\"nofollow\" target=\"_blank\">Amazon Earnings Preview: Cost Cuts, Retail Sales Strength, AWS Outlook In Focus</a></div><div class=\"news-link-right\"><span>(TheStreet.com)</span></div></div></td></tr>\n",
       "<tr><td align=\"right\" width=\"130\">07:01AM</td><td align=\"left\"><div class=\"news-link-container\"><div class=\"news-link-left\"><a class=\"tab-link-news\" href=\"https://finance.yahoo.com/m/6be212bf-a56c-389b-8cbc-a64636224a59/wish-you-could-invest-in-elon.html\" onclick=\"trackAndOpenNews(event, 'Motley Fool', 'https://finance.yahoo.com/m/6be212bf-a56c-389b-8cbc-a64636224a59/wish-you-could-invest-in-elon.html');\" rel=\"nofollow\" target=\"_blank\">Wish You Could Invest in Elon Musk's StarLink? Here's 1 Way to Invest in Space Internet Now</a></div><div class=\"news-link-right\"><span>(Motley Fool)</span></div></div></td></tr>\n",
       "<tr><td align=\"right\" width=\"130\">05:40AM</td><td align=\"left\"><div class=\"news-link-container\"><div class=\"news-link-left\"><a class=\"tab-link-news\" href=\"https://finance.yahoo.com/m/68b5d2b4-5f67-304c-8481-5fb1299e2568/stocks-edge-higher%2C-facebook.html\" onclick=\"trackAndOpenNews(event, 'TheStreet.com', 'https://finance.yahoo.com/m/68b5d2b4-5f67-304c-8481-5fb1299e2568/stocks-edge-higher%2C-facebook.html');\" rel=\"nofollow\" target=\"_blank\">Stocks Edge Higher, Facebook Lifts Meta, Amazon And Intel Earnings On Deck, Samsung Chip Outlook - Five Things To Know</a></div><div class=\"news-link-right\"><span>(TheStreet.com)</span></div></div></td></tr>\n",
       "<tr><td align=\"right\" width=\"130\">05:30AM</td><td align=\"left\"><div class=\"news-link-container\"><div class=\"news-link-left\"><a class=\"tab-link-news\" href=\"https://finance.yahoo.com/m/41a1a680-fda0-3b2e-94d1-0c178dd9eb65/amazon-expected-to-see-slower.html\" onclick=\"trackAndOpenNews(event, 'The Wall Street Journal', 'https://finance.yahoo.com/m/41a1a680-fda0-3b2e-94d1-0c178dd9eb65/amazon-expected-to-see-slower.html');\" rel=\"nofollow\" target=\"_blank\">Amazon Expected to See Slower Growth as It Continues to Pare Back</a></div><div class=\"news-link-right\"><span>(The Wall Street Journal)</span></div></div></td></tr>\n",
       "<tr><td align=\"right\" width=\"130\">05:15AM</td><td align=\"left\"><div class=\"news-link-container\"><div class=\"news-link-left\"><a class=\"tab-link-news\" href=\"https://finance.yahoo.com/m/dff033c6-6aa3-3539-b8db-36ccffab3062/got-%241%2C000%3F-5-buffett-stocks.html\" onclick=\"trackAndOpenNews(event, 'Motley Fool', 'https://finance.yahoo.com/m/dff033c6-6aa3-3539-b8db-36ccffab3062/got-%241%2C000%3F-5-buffett-stocks.html');\" rel=\"nofollow\" target=\"_blank\">Got $1,000? 5 Buffett Stocks to Buy and Hold Forever</a></div><div class=\"news-link-right\"><span>(Motley Fool)</span></div></div></td></tr>\n",
       "<tr><td align=\"right\" width=\"130\">04:18AM</td><td align=\"left\"><div class=\"news-link-container\"><div class=\"news-link-left\"><a class=\"tab-link-news\" href=\"https://finance.yahoo.com/news/indias-reliance-jv-strikes-content-081832183.html\" onclick=\"trackAndOpenNews(event, 'Reuters', 'https://finance.yahoo.com/news/indias-reliance-jv-strikes-content-081832183.html');\" rel=\"nofollow\" target=\"_blank\">UPDATE 3-India's Reliance JV strikes content streaming deal with Warner Bros</a></div><div class=\"news-link-right\"><span>(Reuters)</span></div></div></td></tr>\n",
       "<tr><td align=\"right\" width=\"130\">Apr-26-23 04:16PM</td><td align=\"left\"><div class=\"news-link-container\"><div class=\"news-link-left\"><a class=\"tab-link-news\" href=\"https://finance.yahoo.com/news/amazon-axes-halo-fitness-devices-201606720.html\" onclick=\"trackAndOpenNews(event, 'AP Finance', 'https://finance.yahoo.com/news/amazon-axes-halo-fitness-devices-201606720.html');\" rel=\"nofollow\" target=\"_blank\">Amazon axes 'Halo' fitness devices in cost-cutting move</a></div><div class=\"news-link-right\"><span>(AP Finance)</span></div></div></td></tr>\n",
       "<tr><td align=\"right\" width=\"130\">04:05PM</td><td align=\"left\"><div class=\"news-link-container\"><div class=\"news-link-left\"><a class=\"tab-link-news\" href=\"https://finance.yahoo.com/news/amazon-shut-down-halo-division-200527286.html\" onclick=\"trackAndOpenNews(event, 'Reuters', 'https://finance.yahoo.com/news/amazon-shut-down-halo-division-200527286.html');\" rel=\"nofollow\" target=\"_blank\">Amazon to shut down Halo division, lays off some staff</a></div><div class=\"news-link-right\"><span>(Reuters)</span></div></div></td></tr>\n",
       "<tr><td align=\"right\" width=\"130\">04:01PM</td><td align=\"left\"><div class=\"news-link-container\"><div class=\"news-link-left\"><a class=\"tab-link-news\" href=\"https://finance.yahoo.com/m/b245250a-b5d0-312f-aafb-a05ccda49981/why-microsoft-is-a-safe-ai.html\" onclick=\"trackAndOpenNews(event, 'Motley Fool', 'https://finance.yahoo.com/m/b245250a-b5d0-312f-aafb-a05ccda49981/why-microsoft-is-a-safe-ai.html');\" rel=\"nofollow\" target=\"_blank\">Why Microsoft Is a Safe AI Stock</a></div><div class=\"news-link-right\"><span>(Motley Fool)</span></div></div></td></tr>\n",
       "<tr><td align=\"right\" width=\"130\">03:38PM</td><td align=\"left\"><div class=\"news-link-container\"><div class=\"news-link-left\"><a class=\"tab-link-news\" href=\"https://finance.yahoo.com/news/amazon-winding-down-halo-health-193855935.html\" onclick=\"trackAndOpenNews(event, 'Bloomberg', 'https://finance.yahoo.com/news/amazon-winding-down-halo-health-193855935.html');\" rel=\"nofollow\" target=\"_blank\">Amazon Is Winding Down Its Halo Health Trackers in Latest Cut</a></div><div class=\"news-link-right\"><span>(Bloomberg)</span></div></div></td></tr>\n",
       "<tr><td align=\"right\" width=\"130\">03:33PM</td><td align=\"left\"><div class=\"news-link-container\"><div class=\"news-link-left\"><a class=\"tab-link-news\" href=\"https://finance.yahoo.com/news/amazon-earning-preview-buy-amzn-193307591.html\" onclick=\"trackAndOpenNews(event, 'Zacks', 'https://finance.yahoo.com/news/amazon-earning-preview-buy-amzn-193307591.html');\" rel=\"nofollow\" target=\"_blank\">Amazon Earning Preview: Buy AMZN Stock Despite Slowing Cloud Growth?</a></div><div class=\"news-link-right\"><span>(Zacks)</span></div></div></td></tr>\n",
       "<tr><td align=\"right\" width=\"130\">03:00PM</td><td align=\"left\"><div class=\"news-link-container\"><div class=\"news-link-left\"><a class=\"tab-link-news\" href=\"https://finance.yahoo.com/news/10-best-semiconductor-equipment-stocks-190054202.html\" onclick=\"trackAndOpenNews(event, 'Insider Monkey', 'https://finance.yahoo.com/news/10-best-semiconductor-equipment-stocks-190054202.html');\" rel=\"nofollow\" target=\"_blank\">10 Best Semiconductor Equipment Stocks to Buy</a></div><div class=\"news-link-right\"><span>(Insider Monkey)</span></div></div></td></tr>\n",
       "<tr><td align=\"right\" width=\"130\">02:13PM</td><td align=\"left\"><div class=\"news-link-container\"><div class=\"news-link-left\"><a class=\"tab-link-news\" href=\"https://finance.yahoo.com/m/7fce5213-44e8-31e8-8b67-9dc98167af1b/google-is-just-fine-in-spite.html\" onclick=\"trackAndOpenNews(event, 'Motley Fool', 'https://finance.yahoo.com/m/7fce5213-44e8-31e8-8b67-9dc98167af1b/google-is-just-fine-in-spite.html');\" rel=\"nofollow\" target=\"_blank\">Google Is Just Fine in Spite of Microsoft's ChatGPT Bet on AI Internet Search</a></div><div class=\"news-link-right\"><span>(Motley Fool)</span></div></div></td></tr>\n",
       "<tr><td align=\"right\" width=\"130\">01:18PM</td><td align=\"left\"><div class=\"news-link-container\"><div class=\"news-link-left\"><a class=\"tab-link-news\" href=\"https://finance.yahoo.com/news/pinduoduo-explosive-growth-temu-disrupts-171829292.html\" onclick=\"trackAndOpenNews(event, 'GuruFocus.com', 'https://finance.yahoo.com/news/pinduoduo-explosive-growth-temu-disrupts-171829292.html');\" rel=\"nofollow\" target=\"_blank\">Pinduoduo: Explosive Growth as Temu Disrupts E-Commmerce</a></div><div class=\"news-link-right\"><span>(GuruFocus.com)</span></div></div></td></tr>\n",
       "<tr><td align=\"right\" width=\"130\">12:45PM</td><td align=\"left\"><div class=\"news-link-container\"><div class=\"news-link-left\"><a class=\"tab-link-news\" href=\"https://finance.yahoo.com/news/microsofts-msft-q3-earnings-revenues-164504416.html\" onclick=\"trackAndOpenNews(event, 'Zacks', 'https://finance.yahoo.com/news/microsofts-msft-q3-earnings-revenues-164504416.html');\" rel=\"nofollow\" target=\"_blank\">Microsoft's (MSFT) Q3 Earnings, Revenues Beat on Cloud Strength</a></div><div class=\"news-link-right\"><span>(Zacks)</span></div></div></td></tr>\n",
       "<tr><td align=\"right\" width=\"130\">12:25PM</td><td align=\"left\"><div class=\"news-link-container\"><div class=\"news-link-left\"><a class=\"tab-link-news\" href=\"https://finance.yahoo.com/m/04f2ef7f-da78-3c64-9e7a-ba60643d8975/amazon-reviews-are-undergoing.html\" onclick=\"trackAndOpenNews(event, 'TheStreet.com', 'https://finance.yahoo.com/m/04f2ef7f-da78-3c64-9e7a-ba60643d8975/amazon-reviews-are-undergoing.html');\" rel=\"nofollow\" target=\"_blank\">Amazon Reviews are Undergoing a Big Change -- And It's Not a Good One</a></div><div class=\"news-link-right\"><span>(TheStreet.com)</span></div></div></td></tr>\n",
       "<tr><td align=\"right\" width=\"130\">11:40AM</td><td align=\"left\"><div class=\"news-link-container\"><div class=\"news-link-left\"><a class=\"tab-link-news\" href=\"https://finance.yahoo.com/m/dd185348-bf7e-3124-bf08-1a58670cd527/3-stocks-i-hate-and-why-i.html\" onclick=\"trackAndOpenNews(event, 'Motley Fool', 'https://finance.yahoo.com/m/dd185348-bf7e-3124-bf08-1a58670cd527/3-stocks-i-hate-and-why-i.html');\" rel=\"nofollow\" target=\"_blank\">3 Stocks I Hate and Why I Still Own Them</a></div><div class=\"news-link-right\"><span>(Motley Fool)</span></div></div></td></tr>\n",
       "<tr><td align=\"right\" width=\"130\">11:31AM</td><td align=\"left\"><div class=\"news-link-container\"><div class=\"news-link-left\"><a class=\"tab-link-news\" href=\"https://finance.yahoo.com/m/e1d9c563-456f-3575-a898-5a52382d7385/here%27s-how-to-trade-options.html\" onclick=\"trackAndOpenNews(event, 'Investor\\u0027s Business Daily', 'https://finance.yahoo.com/m/e1d9c563-456f-3575-a898-5a52382d7385/here%27s-how-to-trade-options.html');\" rel=\"nofollow\" target=\"_blank\">Here's How To Trade Options On Amazon Stock Ahead Of Earnings</a></div><div class=\"news-link-right\"><span>(Investor's Business Daily)</span></div></div></td></tr>\n",
       "<tr><td align=\"right\" width=\"130\">11:17AM</td><td align=\"left\"><div class=\"news-link-container\"><div class=\"news-link-left\"><a class=\"tab-link-news\" href=\"https://finance.yahoo.com/news/amazon-starts-round-layoffs-aws-151744662.html\" onclick=\"trackAndOpenNews(event, 'Bloomberg', 'https://finance.yahoo.com/news/amazon-starts-round-layoffs-aws-151744662.html');\" rel=\"nofollow\" target=\"_blank\">Amazon Starts Round of Layoffs in AWS Cloud Division</a></div><div class=\"news-link-right\"><span>(Bloomberg)</span></div></div></td></tr>\n",
       "<tr><td align=\"right\" width=\"130\">11:10AM</td><td align=\"left\"><div class=\"news-link-container\"><div class=\"news-link-left\"><a class=\"tab-link-news\" href=\"https://finance.yahoo.com/m/a51e4de9-14da-3040-a35d-26a4aa019898/3-smart-reasons-to-buy-amazon.html\" onclick=\"trackAndOpenNews(event, 'Motley Fool', 'https://finance.yahoo.com/m/a51e4de9-14da-3040-a35d-26a4aa019898/3-smart-reasons-to-buy-amazon.html');\" rel=\"nofollow\" target=\"_blank\">3 Smart Reasons to Buy Amazon Stock Right Now</a></div><div class=\"news-link-right\"><span>(Motley Fool)</span></div></div></td></tr>\n",
       "<tr><td align=\"right\" width=\"130\">11:04AM</td><td align=\"left\"><div class=\"news-link-container\"><div class=\"news-link-left\"><a class=\"tab-link-news\" href=\"https://finance.yahoo.com/news/spotify-still-struggling-monetize-music-150447596.html\" onclick=\"trackAndOpenNews(event, 'Benzinga', 'https://finance.yahoo.com/news/spotify-still-struggling-monetize-music-150447596.html');\" rel=\"nofollow\" target=\"_blank\">Spotify Is Still Struggling to Monetize The Music Streaming Business Despite Playing The Right Notes</a></div><div class=\"news-link-right\"><span>(Benzinga)</span></div></div></td></tr>\n",
       "<tr><td align=\"right\" width=\"130\">10:30AM</td><td align=\"left\"><div class=\"news-link-container\"><div class=\"news-link-left\"><a class=\"tab-link-news\" href=\"https://finance.yahoo.com/m/c886cb53-913f-3682-9338-5967a087fd74/2-e-commerce-stocks-that.html\" onclick=\"trackAndOpenNews(event, 'Motley Fool', 'https://finance.yahoo.com/m/c886cb53-913f-3682-9338-5967a087fd74/2-e-commerce-stocks-that.html');\" rel=\"nofollow\" target=\"_blank\">2 E-Commerce Stocks That Could Help Make You a Fortune</a></div><div class=\"news-link-right\"><span>(Motley Fool)</span></div></div></td></tr>\n",
       "<tr><td align=\"right\" width=\"130\">09:52AM</td><td align=\"left\"><div class=\"news-link-container\"><div class=\"news-link-left\"><a class=\"tab-link-news\" href=\"https://finance.yahoo.com/news/top-20-companies-pakistan-135257437.html\" onclick=\"trackAndOpenNews(event, 'Insider Monkey', 'https://finance.yahoo.com/news/top-20-companies-pakistan-135257437.html');\" rel=\"nofollow\" target=\"_blank\">Top 20 Companies in Pakistan</a></div><div class=\"news-link-right\"><span>(Insider Monkey)</span></div></div></td></tr>\n",
       "<tr><td align=\"right\" width=\"130\">09:34AM</td><td align=\"left\"><div class=\"news-link-container\"><div class=\"news-link-left\"><a class=\"tab-link-news\" href=\"https://finance.yahoo.com/video/microsoft-alphabet-amazon-leaders-paradigm-133457680.html\" onclick=\"trackAndOpenNews(event, 'Yahoo Finance Video', 'https://finance.yahoo.com/video/microsoft-alphabet-amazon-leaders-paradigm-133457680.html');\" rel=\"nofollow\" target=\"_blank\">Microsoft, Alphabet, Amazon are the leaders in a paradigm shift toward AI, strategist says</a></div><div class=\"news-link-right\"><span>(Yahoo Finance Video)</span></div></div></td></tr>\n",
       "<tr><td align=\"right\" width=\"130\">09:00AM</td><td align=\"left\"><div class=\"news-link-container\"><div class=\"news-link-left\"><a class=\"tab-link-news\" href=\"https://finance.yahoo.com/news/why-investors-advantage-2-retail-130001366.html\" onclick=\"trackAndOpenNews(event, 'Zacks', 'https://finance.yahoo.com/news/why-investors-advantage-2-retail-130001366.html');\" rel=\"nofollow\" target=\"_blank\">Why Investors Need to Take Advantage of These 2 Retail-Wholesale Stocks Now</a></div><div class=\"news-link-right\"><span>(Zacks)</span></div></div></td></tr>\n",
       "<tr><td align=\"right\" width=\"130\">08:41AM</td><td align=\"left\"><div class=\"news-link-container\"><div class=\"news-link-left\"><a class=\"tab-link-news\" href=\"https://finance.yahoo.com/m/75d210d8-381a-3ddd-b99f-d39c6c982fd4/fang-stocks-news-%26-quotes%3A.html\" onclick=\"trackAndOpenNews(event, 'Investor\\u0027s Business Daily', 'https://finance.yahoo.com/m/75d210d8-381a-3ddd-b99f-d39c6c982fd4/fang-stocks-news-%26-quotes%3A.html');\" rel=\"nofollow\" target=\"_blank\">FANG Stocks News &amp; Quotes: Facebook, Amazon, Netflix, Google</a></div><div class=\"news-link-right\"><span>(Investor's Business Daily)</span></div></div></td></tr>\n",
       "<tr><td align=\"right\" width=\"130\">08:34AM</td><td align=\"left\"><div class=\"news-link-container\"><div class=\"news-link-left\"><a class=\"tab-link-news\" href=\"https://finance.yahoo.com/news/surprise-coming-amazon-amzn-earnings-123412221.html\" onclick=\"trackAndOpenNews(event, 'Zacks', 'https://finance.yahoo.com/news/surprise-coming-amazon-amzn-earnings-123412221.html');\" rel=\"nofollow\" target=\"_blank\">Is a Surprise Coming for Amazon (AMZN) This Earnings Season?</a></div><div class=\"news-link-right\"><span>(Zacks)</span></div></div></td></tr>\n",
       "<tr><td align=\"right\" width=\"130\">07:01AM</td><td align=\"left\"><div class=\"news-link-container\"><div class=\"news-link-left\"><a class=\"tab-link-news\" href=\"https://finance.yahoo.com/news/59-ownership-shares-amazon-com-110123062.html\" onclick=\"trackAndOpenNews(event, 'Simply Wall St.', 'https://finance.yahoo.com/news/59-ownership-shares-amazon-com-110123062.html');\" rel=\"nofollow\" target=\"_blank\">With 59% ownership of the shares, Amazon.com, Inc. (NASDAQ:AMZN) is heavily dominated by institutional owners</a></div><div class=\"news-link-right\"><span>(Simply Wall St.)</span></div></div></td></tr>\n",
       "<tr><td align=\"right\" width=\"130\">05:42AM</td><td align=\"left\"><div class=\"news-link-container\"><div class=\"news-link-left\"><a class=\"tab-link-news\" href=\"https://finance.yahoo.com/news/why-polen-capital-focus-growth-094249035.html\" onclick=\"trackAndOpenNews(event, 'Insider Monkey', 'https://finance.yahoo.com/news/why-polen-capital-focus-growth-094249035.html');\" rel=\"nofollow\" target=\"_blank\">Heres Why Polen Capital Focus Growth Strategy Sold Dollar General Corporation (DG)</a></div><div class=\"news-link-right\"><span>(Insider Monkey)</span></div></div></td></tr>\n",
       "<tr><td align=\"right\" width=\"130\">05:25AM</td><td align=\"left\"><div class=\"news-link-container\"><div class=\"news-link-left\"><a class=\"tab-link-news\" href=\"https://finance.yahoo.com/m/29997451-adc8-32b1-a5b6-f43348e444f2/down-20%25-to-46%25%2C-these.html\" onclick=\"trackAndOpenNews(event, 'Motley Fool', 'https://finance.yahoo.com/m/29997451-adc8-32b1-a5b6-f43348e444f2/down-20%25-to-46%25%2C-these.html');\" rel=\"nofollow\" target=\"_blank\">Down 20% to 46%, These Colossal Growth Stocks Could Be Ready for a Surge</a></div><div class=\"news-link-right\"><span>(Motley Fool)</span></div></div></td></tr>\n",
       "<tr><td align=\"right\" width=\"130\">Apr-25-23 04:06PM</td><td align=\"left\"><div class=\"news-link-container\"><div class=\"news-link-left\"><a class=\"tab-link-news\" href=\"https://finance.yahoo.com/news/microsoft-q3-earnings-despite-cloud-struggles-tech-giant-beat-on-revenue-and-eps-200655635.html\" onclick=\"trackAndOpenNews(event, 'Yahoo Finance', 'https://finance.yahoo.com/news/microsoft-q3-earnings-despite-cloud-struggles-tech-giant-beat-on-revenue-and-eps-200655635.html');\" rel=\"nofollow\" target=\"_blank\">Microsoft Q3 earnings: Despite cloud struggles, tech giant beat on revenue and EPS</a></div><div class=\"news-link-right\"><span>(Yahoo Finance)</span></div></div></td></tr>\n",
       "<tr><td align=\"right\" width=\"130\">03:52PM</td><td align=\"left\"><div class=\"news-link-container\"><div class=\"news-link-left\"><a class=\"tab-link-news\" href=\"https://finance.yahoo.com/m/f68aff50-0773-3c71-8e09-710cd7336da2/everything-you-need-to-know.html\" onclick=\"trackAndOpenNews(event, 'Motley Fool', 'https://finance.yahoo.com/m/f68aff50-0773-3c71-8e09-710cd7336da2/everything-you-need-to-know.html');\" rel=\"nofollow\" target=\"_blank\">Everything You Need to Know About Amazon's Upcoming Earnings</a></div><div class=\"news-link-right\"><span>(Motley Fool)</span></div></div></td></tr>\n",
       "<tr><td align=\"right\" width=\"130\">02:05PM</td><td align=\"left\"><div class=\"news-link-container\"><div class=\"news-link-left\"><a class=\"tab-link-news\" href=\"https://finance.yahoo.com/m/8f5ac436-8e96-3b75-ad06-f5b7aba68015/something%27s-clicking-with.html\" onclick=\"trackAndOpenNews(event, 'TheStreet.com', 'https://finance.yahoo.com/m/8f5ac436-8e96-3b75-ad06-f5b7aba68015/something%27s-clicking-with.html');\" rel=\"nofollow\" target=\"_blank\">Something's Clicking With Amazon Ahead of Earnings</a></div><div class=\"news-link-right\"><span>(TheStreet.com)</span></div></div></td></tr>\n",
       "<tr><td align=\"right\" width=\"130\">01:56PM</td><td align=\"left\"><div class=\"news-link-container\"><div class=\"news-link-left\"><a class=\"tab-link-news\" href=\"https://finance.yahoo.com/m/98869e1e-b8b1-39bd-8424-486a86c346e2/tiktok%2C-twitter%2C-meta-face.html\" onclick=\"trackAndOpenNews(event, 'The Wall Street Journal', 'https://finance.yahoo.com/m/98869e1e-b8b1-39bd-8424-486a86c346e2/tiktok%2C-twitter%2C-meta-face.html');\" rel=\"nofollow\" target=\"_blank\">TikTok, Twitter, Meta Face Countdown to Comply With Wests Toughest Content Law</a></div><div class=\"news-link-right\"><span>(The Wall Street Journal)</span></div></div></td></tr>\n",
       "<tr><td align=\"right\" width=\"130\">01:48PM</td><td align=\"left\"><div class=\"news-link-container\"><div class=\"news-link-left\"><a class=\"tab-link-news\" href=\"https://finance.yahoo.com/news/w-w-grainger-winners-keep-174814244.html\" onclick=\"trackAndOpenNews(event, 'GuruFocus.com', 'https://finance.yahoo.com/news/w-w-grainger-winners-keep-174814244.html');\" rel=\"nofollow\" target=\"_blank\">W.W. Grainger: Winners Keep Winning</a></div><div class=\"news-link-right\"><span>(GuruFocus.com)</span></div></div></td></tr>\n",
       "<tr><td align=\"right\" width=\"130\">01:45PM</td><td align=\"left\"><div class=\"news-link-container\"><div class=\"news-link-left\"><a class=\"tab-link-news\" href=\"https://finance.yahoo.com/news/solid-aws-momentum-aid-amazons-174505536.html\" onclick=\"trackAndOpenNews(event, 'Zacks', 'https://finance.yahoo.com/news/solid-aws-momentum-aid-amazons-174505536.html');\" rel=\"nofollow\" target=\"_blank\">Will Solid AWS Momentum Aid Amazon's (AMZN) Q1 Earnings?</a></div><div class=\"news-link-right\"><span>(Zacks)</span></div></div></td></tr>\n",
       "<tr><td align=\"right\" width=\"130\">12:30PM</td><td align=\"left\"><div class=\"news-link-container\"><div class=\"news-link-left\"><a class=\"tab-link-news\" href=\"https://finance.yahoo.com/m/541272f1-6c2b-38e2-b754-a3417c214e23/love-reading%3F-get-your-free.html\" onclick=\"trackAndOpenNews(event, 'Motley Fool', 'https://finance.yahoo.com/m/541272f1-6c2b-38e2-b754-a3417c214e23/love-reading%3F-get-your-free.html');\" rel=\"nofollow\" target=\"_blank\">Love Reading? Get Your Free Kindle Book Today</a></div><div class=\"news-link-right\"><span>(Motley Fool)</span></div></div></td></tr>\n",
       "<tr><td align=\"right\" width=\"130\">12:19PM</td><td align=\"left\"><div class=\"news-link-container\"><div class=\"news-link-left\"><a class=\"tab-link-news\" href=\"https://finance.yahoo.com/m/3f1ba059-ca0f-3e5b-97b3-13eae57f6140/amazon-projected-to-turn-a.html\" onclick=\"trackAndOpenNews(event, 'Investopedia', 'https://finance.yahoo.com/m/3f1ba059-ca0f-3e5b-97b3-13eae57f6140/amazon-projected-to-turn-a.html');\" rel=\"nofollow\" target=\"_blank\">Amazon Projected to Turn a Profit Despite Slowdown in Cloud Services Revenue</a></div><div class=\"news-link-right\"><span>(Investopedia)</span></div></div></td></tr>\n",
       "<tr><td align=\"right\" width=\"130\">12:16PM</td><td align=\"left\"><div class=\"news-link-container\"><div class=\"news-link-left\"><a class=\"tab-link-news\" href=\"https://finance.yahoo.com/news/25-biggest-cloud-providers-revenue-161605971.html\" onclick=\"trackAndOpenNews(event, 'Insider Monkey', 'https://finance.yahoo.com/news/25-biggest-cloud-providers-revenue-161605971.html');\" rel=\"nofollow\" target=\"_blank\">25 Biggest Cloud Providers by Revenue</a></div><div class=\"news-link-right\"><span>(Insider Monkey)</span></div></div></td></tr>\n",
       "<tr><td align=\"right\" width=\"130\">11:40AM</td><td align=\"left\"><div class=\"news-link-container\"><div class=\"news-link-left\"><a class=\"tab-link-news\" href=\"https://finance.yahoo.com/news/paid-spend-money-22-ways-110048286.html\" onclick=\"trackAndOpenNews(event, 'GOBankingRates', 'https://finance.yahoo.com/news/paid-spend-money-22-ways-110048286.html');\" rel=\"nofollow\" target=\"_blank\">Get Paid To Spend Money: 22 Ways You Can Get Paid to Go Shopping</a></div><div class=\"news-link-right\"><span>(GOBankingRates)</span></div></div></td></tr>\n",
       "<tr><td align=\"right\" width=\"130\">11:00AM</td><td align=\"left\"><div class=\"news-link-container\"><div class=\"news-link-left\"><a class=\"tab-link-news\" href=\"https://finance.yahoo.com/m/2c973db8-6964-35ea-8548-7a6b2a048baf/3-no-brainer-stocks-to-buy.html\" onclick=\"trackAndOpenNews(event, 'Motley Fool', 'https://finance.yahoo.com/m/2c973db8-6964-35ea-8548-7a6b2a048baf/3-no-brainer-stocks-to-buy.html');\" rel=\"nofollow\" target=\"_blank\">3 No-Brainer Stocks to Buy Right Now for Less Than $120</a></div><div class=\"news-link-right\"><span>(Motley Fool)</span></div></div></td></tr>\n",
       "<tr><td align=\"right\" width=\"130\">10:42AM</td><td align=\"left\"><div class=\"news-link-container\"><div class=\"news-link-left\"><a class=\"tab-link-news\" href=\"https://finance.yahoo.com/news/ups-stock-drops-as-weakening-consumer-demand-hits-volumes-135434293.html\" onclick=\"trackAndOpenNews(event, 'Yahoo Finance', 'https://finance.yahoo.com/news/ups-stock-drops-as-weakening-consumer-demand-hits-volumes-135434293.html');\" rel=\"nofollow\" target=\"_blank\">UPS stock drops as weakening consumer demand hits volumes</a></div><div class=\"news-link-right\"><span>(Yahoo Finance)</span></div></div></td></tr>\n",
       "<tr><td align=\"right\" width=\"130\">09:01AM</td><td align=\"left\"><div class=\"news-link-container\"><div class=\"news-link-left\"><a class=\"tab-link-news\" href=\"https://finance.yahoo.com/news/amazonfresh-instacart-more-best-grocery-130101198.html\" onclick=\"trackAndOpenNews(event, 'GOBankingRates', 'https://finance.yahoo.com/news/amazonfresh-instacart-more-best-grocery-130101198.html');\" rel=\"nofollow\" target=\"_blank\">AmazonFresh, Instacart, and More: The Best Grocery Delivery Service for Your Budget</a></div><div class=\"news-link-right\"><span>(GOBankingRates)</span></div></div></td></tr>\n",
       "<tr><td align=\"right\" width=\"130\">09:00AM</td><td align=\"left\"><div class=\"news-link-container\"><div class=\"news-link-left\"><a class=\"tab-link-news\" href=\"https://finance.yahoo.com/news/7-most-overpriced-target-items-191613600.html\" onclick=\"trackAndOpenNews(event, 'GOBankingRates', 'https://finance.yahoo.com/news/7-most-overpriced-target-items-191613600.html');\" rel=\"nofollow\" target=\"_blank\">7 Most Overpriced Target Items, According to Superfans</a></div><div class=\"news-link-right\"><span>(GOBankingRates)</span></div></div></td></tr>\n",
       "<tr><td align=\"right\" width=\"130\">08:55AM</td><td align=\"left\"><div class=\"news-link-container\"><div class=\"news-link-left\"><a class=\"tab-link-news\" href=\"https://finance.yahoo.com/m/cd356085-aab5-30b0-b1a3-bbefe7f1fd37/amazon-pushed-to-change.html\" onclick=\"trackAndOpenNews(event, 'TheStreet.com', 'https://finance.yahoo.com/m/cd356085-aab5-30b0-b1a3-bbefe7f1fd37/amazon-pushed-to-change.html');\" rel=\"nofollow\" target=\"_blank\">Amazon Pushed to Change Decision to Kill AmazonSmile</a></div><div class=\"news-link-right\"><span>(TheStreet.com)</span></div></div></td></tr>\n",
       "<tr><td align=\"right\" width=\"130\">06:23AM</td><td align=\"left\"><div class=\"news-link-container\"><div class=\"news-link-left\"><a class=\"tab-link-news\" href=\"https://finance.yahoo.com/news/amazon-com-amzn-currently-trading-102337738.html\" onclick=\"trackAndOpenNews(event, 'Insider Monkey', 'https://finance.yahoo.com/news/amazon-com-amzn-currently-trading-102337738.html');\" rel=\"nofollow\" target=\"_blank\">Is Amazon.com (AMZN) Currently Trading at an Attractive Price?</a></div><div class=\"news-link-right\"><span>(Insider Monkey)</span></div></div></td></tr>\n",
       "<tr><td align=\"right\" width=\"130\">06:00AM</td><td align=\"left\"><div class=\"news-link-container\"><div class=\"news-link-left\"><a class=\"tab-link-news\" href=\"https://finance.yahoo.com/m/c5e30d92-8a48-3798-9feb-13345c38800c/ai-boom%3A-2-artificial.html\" onclick=\"trackAndOpenNews(event, 'Motley Fool', 'https://finance.yahoo.com/m/c5e30d92-8a48-3798-9feb-13345c38800c/ai-boom%3A-2-artificial.html');\" rel=\"nofollow\" target=\"_blank\">AI Boom: 2 Artificial Intelligence Stocks Billionaire Investors Are Buying Hand Over Fist</a></div><div class=\"news-link-right\"><span>(Motley Fool)</span></div></div></td></tr>\n",
       "<tr><td align=\"right\" width=\"130\">05:35AM</td><td align=\"left\"><div class=\"news-link-container\"><div class=\"news-link-left\"><a class=\"tab-link-news\" href=\"https://finance.yahoo.com/m/d591948e-1e55-307d-b07a-cf0417480951/here%27s-my-top-growth-stock-to.html\" onclick=\"trackAndOpenNews(event, 'Motley Fool', 'https://finance.yahoo.com/m/d591948e-1e55-307d-b07a-cf0417480951/here%27s-my-top-growth-stock-to.html');\" rel=\"nofollow\" target=\"_blank\">Here's My Top Growth Stock to Buy in 2023</a></div><div class=\"news-link-right\"><span>(Motley Fool)</span></div></div></td></tr>\n",
       "<tr><td align=\"right\" width=\"130\">05:30AM</td><td align=\"left\"><div class=\"news-link-container\"><div class=\"news-link-left\"><a class=\"tab-link-news\" href=\"https://finance.yahoo.com/m/84ddbedb-5f5a-3d30-b950-975c613fccdb/amazon%E2%80%99s-satellite-internet.html\" onclick=\"trackAndOpenNews(event, 'The Wall Street Journal', 'https://finance.yahoo.com/m/84ddbedb-5f5a-3d30-b950-975c613fccdb/amazon%E2%80%99s-satellite-internet.html');\" rel=\"nofollow\" target=\"_blank\">Amazons Satellite-Internet Ambitions Move Closer to Reality</a></div><div class=\"news-link-right\"><span>(The Wall Street Journal)</span></div></div></td></tr>\n",
       "<tr><td align=\"right\" width=\"130\">05:05AM</td><td align=\"left\"><div class=\"news-link-container\"><div class=\"news-link-left\"><a class=\"tab-link-news\" href=\"https://finance.yahoo.com/m/06ba9ae8-e077-381c-8996-218702f4c3a2/you-won%27t-believe-what.html\" onclick=\"trackAndOpenNews(event, 'Motley Fool', 'https://finance.yahoo.com/m/06ba9ae8-e077-381c-8996-218702f4c3a2/you-won%27t-believe-what.html');\" rel=\"nofollow\" target=\"_blank\">You Won't Believe What Amazon's CEO Just Said About Its Stock Price</a></div><div class=\"news-link-right\"><span>(Motley Fool)</span></div></div></td></tr>\n",
       "<tr><td align=\"right\" width=\"130\">05:00AM</td><td align=\"left\"><div class=\"news-link-container\"><div class=\"news-link-left\"><a class=\"tab-link-news\" href=\"https://finance.yahoo.com/news/zacks-industry-outlook-highlights-cvs-090009382.html\" onclick=\"trackAndOpenNews(event, 'Zacks', 'https://finance.yahoo.com/news/zacks-industry-outlook-highlights-cvs-090009382.html');\" rel=\"nofollow\" target=\"_blank\">Zacks Industry Outlook Highlights CVS Health, Walgreens BootsAlliance, Rite Aid and Amazon</a></div><div class=\"news-link-right\"><span>(Zacks)</span></div></div></td></tr>\n",
       "<tr><td align=\"right\" width=\"130\">05:00AM</td><td align=\"left\"><div class=\"news-link-container\"><div class=\"news-link-left\"><a class=\"tab-link-news\" href=\"https://finance.yahoo.com/news/alphabet-microsoft-meta-platforms-amazon-090009577.html\" onclick=\"trackAndOpenNews(event, 'Zacks', 'https://finance.yahoo.com/news/alphabet-microsoft-meta-platforms-amazon-090009577.html');\" rel=\"nofollow\" target=\"_blank\">Alphabet, Microsoft, Meta Platforms, Amazon and Snap are part of Zacks Earnings Preview</a></div><div class=\"news-link-right\"><span>(Zacks)</span></div></div></td></tr>\n",
       "<tr><td align=\"right\" width=\"130\">Apr-24-23 09:23PM</td><td align=\"left\"><div class=\"news-link-container\"><div class=\"news-link-left\"><a class=\"tab-link-news\" href=\"https://finance.yahoo.com/news/time-buy-amazon-microsoft-stock-012301320.html\" onclick=\"trackAndOpenNews(event, 'Zacks', 'https://finance.yahoo.com/news/time-buy-amazon-microsoft-stock-012301320.html');\" rel=\"nofollow\" target=\"_blank\">Time to Buy Amazon or Microsoft Stock with Earnings Approaching?</a></div><div class=\"news-link-right\"><span>(Zacks)</span></div></div></td></tr>\n",
       "<tr><td align=\"right\" width=\"130\">06:59PM</td><td align=\"left\"><div class=\"news-link-container\"><div class=\"news-link-left\"><a class=\"tab-link-news\" href=\"https://finance.yahoo.com/m/cd356085-aab5-30b0-b1a3-bbefe7f1fd37/amazon-faces-backlash-over.html\" onclick=\"trackAndOpenNews(event, 'TheStreet.com', 'https://finance.yahoo.com/m/cd356085-aab5-30b0-b1a3-bbefe7f1fd37/amazon-faces-backlash-over.html');\" rel=\"nofollow\" target=\"_blank\">Amazon Faces Backlash Over One Of Its Budget Cuts</a></div><div class=\"news-link-right\"><span>(TheStreet.com)</span></div></div></td></tr>\n",
       "<tr><td align=\"right\" width=\"130\">06:18PM</td><td align=\"left\"><div class=\"news-link-container\"><div class=\"news-link-left\"><a class=\"tab-link-news\" href=\"https://finance.yahoo.com/m/901bd60e-795d-3ebe-94e0-901c698f5e77/big-tech-earnings-are-coming..html\" onclick=\"trackAndOpenNews(event, 'Barrons.com', 'https://finance.yahoo.com/m/901bd60e-795d-3ebe-94e0-901c698f5e77/big-tech-earnings-are-coming..html');\" rel=\"nofollow\" target=\"_blank\">Big Tech Earnings Are Coming. What to Know About Amazon, Microsoft, Alphabet, and Meta.</a></div><div class=\"news-link-right\"><span>(Barrons.com)</span></div></div></td></tr>\n",
       "<tr><td align=\"right\" width=\"130\">05:53PM</td><td align=\"left\"><div class=\"news-link-container\"><div class=\"news-link-left\"><a class=\"tab-link-news\" href=\"https://finance.yahoo.com/news/amazon-contract-drivers-california-join-194942853.html\" onclick=\"trackAndOpenNews(event, 'Bloomberg', 'https://finance.yahoo.com/news/amazon-contract-drivers-california-join-194942853.html');\" rel=\"nofollow\" target=\"_blank\">Amazon Contract Drivers in California Join Teamsters Union</a></div><div class=\"news-link-right\"><span>(Bloomberg)</span></div></div></td></tr>\n",
       "</table>"
      ]
     },
     "execution_count": 6,
     "metadata": {},
     "output_type": "execute_result"
    }
   ],
   "source": [
    "def get_headlines(ticker):\n",
    "    url = finviz_url + ticker\n",
    "    req = Request(url=url,headers={'User-Agent': 'Mozilla/5.0 (Windows NT 6.1; WOW64; rv:20.0) Gecko/20100101 Firefox/20.0'}) \n",
    "    response = urlopen(req)    \n",
    "    # Read the contents of the file into 'html'\n",
    "    html = BeautifulSoup(response)\n",
    "    # Find 'news-table' in the Soup and load it into 'news_table'\n",
    "    news_table = html.find(id='news-table')\n",
    "    return news_table\n",
    "\n",
    "ticker = 'AMZN'\n",
    "news_table = get_headlines(ticker)\n",
    "news_table # pure html code, data is not parsed yet"
   ]
  },
  {
   "attachments": {},
   "cell_type": "markdown",
   "metadata": {},
   "source": [
    "## Parsing News into DF"
   ]
  },
  {
   "attachments": {},
   "cell_type": "markdown",
   "metadata": {},
   "source": []
  },
  {
   "cell_type": "code",
   "execution_count": 7,
   "metadata": {},
   "outputs": [
    {
     "ename": "AttributeError",
     "evalue": "'NoneType' object has no attribute 'get_text'",
     "output_type": "error",
     "traceback": [
      "\u001b[1;31m---------------------------------------------------------------------------\u001b[0m",
      "\u001b[1;31mAttributeError\u001b[0m                            Traceback (most recent call last)",
      "Cell \u001b[1;32mIn[7], line 31\u001b[0m\n\u001b[0;32m     27\u001b[0m         parsed_news_df[\u001b[39m'\u001b[39m\u001b[39mdatetime\u001b[39m\u001b[39m'\u001b[39m] \u001b[39m=\u001b[39m pd\u001b[39m.\u001b[39mto_datetime(parsed_news_df[\u001b[39m'\u001b[39m\u001b[39mdate\u001b[39m\u001b[39m'\u001b[39m] \u001b[39m+\u001b[39m \u001b[39m'\u001b[39m\u001b[39m \u001b[39m\u001b[39m'\u001b[39m \u001b[39m+\u001b[39m parsed_news_df[\u001b[39m'\u001b[39m\u001b[39mtime\u001b[39m\u001b[39m'\u001b[39m])\n\u001b[0;32m     29\u001b[0m     \u001b[39mreturn\u001b[39;00m parsed_news_df\n\u001b[1;32m---> 31\u001b[0m parsed_news_df \u001b[39m=\u001b[39m parse_news(news_table)\n\u001b[0;32m     32\u001b[0m parsed_news_df\u001b[39m.\u001b[39mhead()\n",
      "Cell \u001b[1;32mIn[7], line 7\u001b[0m, in \u001b[0;36mparse_news\u001b[1;34m(news_table)\u001b[0m\n\u001b[0;32m      2\u001b[0m parsed_news \u001b[39m=\u001b[39m []\n\u001b[0;32m      4\u001b[0m \u001b[39mfor\u001b[39;00m x \u001b[39min\u001b[39;00m news_table\u001b[39m.\u001b[39mfindAll(\u001b[39m'\u001b[39m\u001b[39mtr\u001b[39m\u001b[39m'\u001b[39m):\n\u001b[0;32m      5\u001b[0m     \u001b[39m# read the text from each tr tag into text\u001b[39;00m\n\u001b[0;32m      6\u001b[0m     \u001b[39m# get text from a only\u001b[39;00m\n\u001b[1;32m----> 7\u001b[0m     text \u001b[39m=\u001b[39m x\u001b[39m.\u001b[39;49ma\u001b[39m.\u001b[39;49mget_text() \n\u001b[0;32m      8\u001b[0m     \u001b[39m# splite text in the td tag into a list \u001b[39;00m\n\u001b[0;32m      9\u001b[0m     date_scrape \u001b[39m=\u001b[39m x\u001b[39m.\u001b[39mtd\u001b[39m.\u001b[39mtext\u001b[39m.\u001b[39msplit()\n",
      "\u001b[1;31mAttributeError\u001b[0m: 'NoneType' object has no attribute 'get_text'"
     ]
    }
   ],
   "source": [
    "def parse_news(news_table):\n",
    "    parsed_news = []\n",
    "    \n",
    "    for x in news_table.findAll('tr'):\n",
    "        # read the text from each tr tag into text\n",
    "        # get text from a only\n",
    "        text = x.a.get_text() \n",
    "        # splite text in the td tag into a list \n",
    "        date_scrape = x.td.text.split()\n",
    "        # if the length of 'date_scrape' is 1, load 'time' as the only element\n",
    "\n",
    "        if len(date_scrape) == 1:\n",
    "            time = date_scrape[0]\n",
    "            \n",
    "        # else load 'date' as the 1st element and 'time' as the second    \n",
    "        else:\n",
    "            date = date_scrape[0]\n",
    "            time = date_scrape[1]\n",
    "        \n",
    "        # Append ticker, date, time and headline as a list to the 'parsed_news' list\n",
    "        parsed_news.append([date, time, text])        \n",
    "        # Set column names\n",
    "        columns = ['date', 'time', 'headline']\n",
    "        # Convert the parsed_news list into a DataFrame called 'parsed_and_scored_news'\n",
    "        parsed_news_df = pd.DataFrame(parsed_news, columns=columns)        \n",
    "        # Create a pandas datetime object from the strings in 'date' and 'time' column\n",
    "        parsed_news_df['datetime'] = pd.to_datetime(parsed_news_df['date'] + ' ' + parsed_news_df['time'])\n",
    "        \n",
    "    return parsed_news_df\n",
    "        \n",
    "parsed_news_df = parse_news(news_table)\n",
    "parsed_news_df.head()"
   ]
  }
 ],
 "metadata": {
  "kernelspec": {
   "display_name": "Python 3",
   "language": "python",
   "name": "python3"
  },
  "language_info": {
   "codemirror_mode": {
    "name": "ipython",
    "version": 3
   },
   "file_extension": ".py",
   "mimetype": "text/x-python",
   "name": "python",
   "nbconvert_exporter": "python",
   "pygments_lexer": "ipython3",
   "version": "3.10.11"
  },
  "orig_nbformat": 4
 },
 "nbformat": 4,
 "nbformat_minor": 2
}
