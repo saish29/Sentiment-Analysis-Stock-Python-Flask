{
 "cells": [
  {
   "cell_type": "code",
   "execution_count": 1,
   "metadata": {},
   "outputs": [
    {
     "name": "stdout",
     "output_type": "stream",
     "text": [
      "Requirement already satisfied: flask in c:\\users\\saish\\appdata\\local\\packages\\pythonsoftwarefoundation.python.3.10_qbz5n2kfra8p0\\localcache\\local-packages\\python310\\site-packages (2.3.1)\n",
      "Requirement already satisfied: Werkzeug>=2.3.0 in c:\\users\\saish\\appdata\\local\\packages\\pythonsoftwarefoundation.python.3.10_qbz5n2kfra8p0\\localcache\\local-packages\\python310\\site-packages (from flask) (2.3.1)\n",
      "Requirement already satisfied: click>=8.1.3 in c:\\users\\saish\\appdata\\local\\packages\\pythonsoftwarefoundation.python.3.10_qbz5n2kfra8p0\\localcache\\local-packages\\python310\\site-packages (from flask) (8.1.3)\n",
      "Requirement already satisfied: blinker>=1.6.2 in c:\\users\\saish\\appdata\\local\\packages\\pythonsoftwarefoundation.python.3.10_qbz5n2kfra8p0\\localcache\\local-packages\\python310\\site-packages (from flask) (1.6.2)\n",
      "Requirement already satisfied: Jinja2>=3.1.2 in c:\\users\\saish\\appdata\\local\\packages\\pythonsoftwarefoundation.python.3.10_qbz5n2kfra8p0\\localcache\\local-packages\\python310\\site-packages (from flask) (3.1.2)\n",
      "Requirement already satisfied: itsdangerous>=2.1.2 in c:\\users\\saish\\appdata\\local\\packages\\pythonsoftwarefoundation.python.3.10_qbz5n2kfra8p0\\localcache\\local-packages\\python310\\site-packages (from flask) (2.1.2)\n",
      "Requirement already satisfied: colorama in c:\\users\\saish\\appdata\\local\\packages\\pythonsoftwarefoundation.python.3.10_qbz5n2kfra8p0\\localcache\\local-packages\\python310\\site-packages (from click>=8.1.3->flask) (0.4.6)\n",
      "Requirement already satisfied: MarkupSafe>=2.0 in c:\\users\\saish\\appdata\\local\\packages\\pythonsoftwarefoundation.python.3.10_qbz5n2kfra8p0\\localcache\\local-packages\\python310\\site-packages (from Jinja2>=3.1.2->flask) (2.1.2)\n"
     ]
    },
    {
     "name": "stderr",
     "output_type": "stream",
     "text": [
      "\n",
      "[notice] A new release of pip available: 22.3.1 -> 23.1.2\n",
      "[notice] To update, run: C:\\Users\\saish\\AppData\\Local\\Microsoft\\WindowsApps\\PythonSoftwareFoundation.Python.3.10_qbz5n2kfra8p0\\python.exe -m pip install --upgrade pip\n"
     ]
    },
    {
     "name": "stdout",
     "output_type": "stream",
     "text": [
      "Requirement already satisfied: nltk in c:\\users\\saish\\appdata\\local\\packages\\pythonsoftwarefoundation.python.3.10_qbz5n2kfra8p0\\localcache\\local-packages\\python310\\site-packages (3.8.1)\n",
      "Requirement already satisfied: joblib in c:\\users\\saish\\appdata\\local\\packages\\pythonsoftwarefoundation.python.3.10_qbz5n2kfra8p0\\localcache\\local-packages\\python310\\site-packages (from nltk) (1.2.0)\n",
      "Requirement already satisfied: regex>=2021.8.3 in c:\\users\\saish\\appdata\\local\\packages\\pythonsoftwarefoundation.python.3.10_qbz5n2kfra8p0\\localcache\\local-packages\\python310\\site-packages (from nltk) (2023.3.23)\n",
      "Requirement already satisfied: click in c:\\users\\saish\\appdata\\local\\packages\\pythonsoftwarefoundation.python.3.10_qbz5n2kfra8p0\\localcache\\local-packages\\python310\\site-packages (from nltk) (8.1.3)\n",
      "Requirement already satisfied: tqdm in c:\\users\\saish\\appdata\\local\\packages\\pythonsoftwarefoundation.python.3.10_qbz5n2kfra8p0\\localcache\\local-packages\\python310\\site-packages (from nltk) (4.65.0)\n",
      "Requirement already satisfied: colorama in c:\\users\\saish\\appdata\\local\\packages\\pythonsoftwarefoundation.python.3.10_qbz5n2kfra8p0\\localcache\\local-packages\\python310\\site-packages (from click->nltk) (0.4.6)\n"
     ]
    },
    {
     "name": "stderr",
     "output_type": "stream",
     "text": [
      "\n",
      "[notice] A new release of pip available: 22.3.1 -> 23.1.2\n",
      "[notice] To update, run: C:\\Users\\saish\\AppData\\Local\\Microsoft\\WindowsApps\\PythonSoftwareFoundation.Python.3.10_qbz5n2kfra8p0\\python.exe -m pip install --upgrade pip\n"
     ]
    },
    {
     "name": "stdout",
     "output_type": "stream",
     "text": [
      "Requirement already satisfied: urllib3 in c:\\users\\saish\\appdata\\local\\packages\\pythonsoftwarefoundation.python.3.10_qbz5n2kfra8p0\\localcache\\local-packages\\python310\\site-packages (1.26.13)\n"
     ]
    },
    {
     "name": "stderr",
     "output_type": "stream",
     "text": [
      "\n",
      "[notice] A new release of pip available: 22.3.1 -> 23.1.2\n",
      "[notice] To update, run: C:\\Users\\saish\\AppData\\Local\\Microsoft\\WindowsApps\\PythonSoftwareFoundation.Python.3.10_qbz5n2kfra8p0\\python.exe -m pip install --upgrade pip\n"
     ]
    },
    {
     "name": "stdout",
     "output_type": "stream",
     "text": [
      "Requirement already satisfied: bs4 in c:\\users\\saish\\appdata\\local\\packages\\pythonsoftwarefoundation.python.3.10_qbz5n2kfra8p0\\localcache\\local-packages\\python310\\site-packages (0.0.1)\n",
      "Requirement already satisfied: beautifulsoup4 in c:\\users\\saish\\appdata\\local\\packages\\pythonsoftwarefoundation.python.3.10_qbz5n2kfra8p0\\localcache\\local-packages\\python310\\site-packages (from bs4) (4.11.1)\n",
      "Requirement already satisfied: soupsieve>1.2 in c:\\users\\saish\\appdata\\local\\packages\\pythonsoftwarefoundation.python.3.10_qbz5n2kfra8p0\\localcache\\local-packages\\python310\\site-packages (from beautifulsoup4->bs4) (2.3.2.post1)\n"
     ]
    },
    {
     "name": "stderr",
     "output_type": "stream",
     "text": [
      "\n",
      "[notice] A new release of pip available: 22.3.1 -> 23.1.2\n",
      "[notice] To update, run: C:\\Users\\saish\\AppData\\Local\\Microsoft\\WindowsApps\\PythonSoftwareFoundation.Python.3.10_qbz5n2kfra8p0\\python.exe -m pip install --upgrade pip\n"
     ]
    },
    {
     "name": "stdout",
     "output_type": "stream",
     "text": [
      "Requirement already satisfied: plotly in c:\\users\\saish\\appdata\\local\\packages\\pythonsoftwarefoundation.python.3.10_qbz5n2kfra8p0\\localcache\\local-packages\\python310\\site-packages (5.14.0)\n",
      "Requirement already satisfied: packaging in c:\\users\\saish\\appdata\\local\\packages\\pythonsoftwarefoundation.python.3.10_qbz5n2kfra8p0\\localcache\\local-packages\\python310\\site-packages (from plotly) (23.0)\n",
      "Requirement already satisfied: tenacity>=6.2.0 in c:\\users\\saish\\appdata\\local\\packages\\pythonsoftwarefoundation.python.3.10_qbz5n2kfra8p0\\localcache\\local-packages\\python310\\site-packages (from plotly) (8.2.2)\n"
     ]
    },
    {
     "name": "stderr",
     "output_type": "stream",
     "text": [
      "\n",
      "[notice] A new release of pip available: 22.3.1 -> 23.1.2\n",
      "[notice] To update, run: C:\\Users\\saish\\AppData\\Local\\Microsoft\\WindowsApps\\PythonSoftwareFoundation.Python.3.10_qbz5n2kfra8p0\\python.exe -m pip install --upgrade pip\n"
     ]
    }
   ],
   "source": [
    "!pip install flask\n",
    "!pip install nltk\n",
    "!pip install urllib3\n",
    "!pip install bs4\n",
    "!pip install plotly\n",
    "!pip install numpy"
   ]
  },
  {
   "attachments": {},
   "cell_type": "markdown",
   "metadata": {},
   "source": [
    "## Importing all the libraries"
   ]
  },
  {
   "cell_type": "code",
   "execution_count": 1,
   "metadata": {},
   "outputs": [
    {
     "name": "stderr",
     "output_type": "stream",
     "text": [
      "[nltk_data] Downloading package vader_lexicon to\n",
      "[nltk_data]     C:\\Users\\saish\\AppData\\Roaming\\nltk_data...\n",
      "[nltk_data]   Package vader_lexicon is already up-to-date!\n"
     ]
    }
   ],
   "source": [
    "# Import libraries\n",
    "from urllib.request import urlopen, Request\n",
    "from bs4 import BeautifulSoup\n",
    "import pandas as pd\n",
    "import plotly.express as px\n",
    "# NLTK VADER for sentiment analysis\n",
    "import nltk\n",
    "nltk.downloader.download('vader_lexicon')\n",
    "from nltk.sentiment.vader import SentimentIntensityAnalyzer\n",
    "from nltk.sentiment.vader import SentimentIntensityAnalyzer\n",
    "import numpy as np\n",
    "\n",
    "# for extracting data from finviz\n",
    "finviz_url = 'https://finviz.com/quote.ashx?t='"
   ]
  },
  {
   "attachments": {},
   "cell_type": "markdown",
   "metadata": {},
   "source": [
    "## Getting HTML Headlines from FinViz Using Beautiful Soup"
   ]
  },
  {
   "cell_type": "code",
   "execution_count": 50,
   "metadata": {},
   "outputs": [
    {
     "data": {
      "text/plain": [
       "<table border=\"0\" cellpadding=\"1\" cellspacing=\"0\" class=\"fullview-news-outer\" id=\"news-table\" width=\"100%\">\n",
       "<tr class=\"cursor-pointer\" onclick=\"trackAndOpenNews(event, 'Investor\\u0027s Business Daily', 'https://finance.yahoo.com/m/93a3843c-94a6-3551-9b17-6a956f6ac989/tesla-stock-charges-up-after.html');\">\n",
       "<td align=\"right\" width=\"130\">\n",
       "            Jun-20-23 04:13PM\n",
       "        </td>\n",
       "<td align=\"left\">\n",
       "<div class=\"news-link-container\">\n",
       "<div class=\"news-link-left\">\n",
       "<a class=\"tab-link-news\" href=\"https://finance.yahoo.com/m/93a3843c-94a6-3551-9b17-6a956f6ac989/tesla-stock-charges-up-after.html\" rel=\"nofollow\" target=\"_blank\">Tesla Stock Charges Up After Rivian Signs Off On Supercharger Deal</a>\n",
       "</div>\n",
       "<div class=\"news-link-right\">\n",
       "<span>(Investor's Business Daily)</span> <span class=\"body-table-news-gain\">+5.34%</span></div></div></td></tr>\n",
       "<tr class=\"cursor-pointer\" onclick=\"trackAndOpenNews(event, 'Investor\\u0027s Business Daily', 'https://finance.yahoo.com/m/f765d21c-713e-36ac-807f-0adbb3460f4b/tesla-stock-hit-8-month-high.html');\">\n",
       "<td align=\"right\" width=\"130\">\n",
       "            04:07PM\n",
       "        </td>\n",
       "<td align=\"left\">\n",
       "<div class=\"news-link-container\">\n",
       "<div class=\"news-link-left\">\n",
       "<a class=\"tab-link-news\" href=\"https://finance.yahoo.com/m/f765d21c-713e-36ac-807f-0adbb3460f4b/tesla-stock-hit-8-month-high.html\" rel=\"nofollow\" target=\"_blank\">Tesla Stock Hit 8-Month High Friday; Cathie Wood Sold And Made Millions</a>\n",
       "</div>\n",
       "<div class=\"news-link-right\">\n",
       "<span>(Investor's Business Daily)</span></div></div></td></tr>\n",
       "<tr class=\"cursor-pointer\" onclick=\"trackAndOpenNews(event, 'Barrons.com', 'https://finance.yahoo.com/m/ac234217-f628-3bb5-8b69-fb5fd5d5f7fb/rivian-to-use-tesla%E2%80%99s.html');\">\n",
       "<td align=\"right\" width=\"130\">\n",
       "            04:06PM\n",
       "        </td>\n",
       "<td align=\"left\">\n",
       "<div class=\"news-link-container\">\n",
       "<div class=\"news-link-left\">\n",
       "<a class=\"tab-link-news\" href=\"https://finance.yahoo.com/m/ac234217-f628-3bb5-8b69-fb5fd5d5f7fb/rivian-to-use-tesla%E2%80%99s.html\" rel=\"nofollow\" target=\"_blank\">Rivian to Use Teslas Charging Network, Follows Ford and GM</a>\n",
       "</div>\n",
       "<div class=\"news-link-right\">\n",
       "<span>(Barrons.com)</span></div></div></td></tr>\n",
       "<tr class=\"cursor-pointer\" onclick=\"trackAndOpenNews(event, 'Reuters', 'https://finance.yahoo.com/news/us-stocks-p-500-ends-200027559.html');\">\n",
       "<td align=\"right\" width=\"130\">\n",
       "            04:00PM\n",
       "        </td>\n",
       "<td align=\"left\">\n",
       "<div class=\"news-link-container\">\n",
       "<div class=\"news-link-left\">\n",
       "<a class=\"tab-link-news\" href=\"https://finance.yahoo.com/news/us-stocks-p-500-ends-200027559.html\" rel=\"nofollow\" target=\"_blank\">US STOCKS-S&amp;P 500 ends lower, pausing rally with Powell testimony in view</a>\n",
       "</div>\n",
       "<div class=\"news-link-right\">\n",
       "<span>(Reuters)</span></div></div></td></tr>\n",
       "<tr class=\"cursor-pointer\" onclick=\"trackAndOpenNews(event, 'The Wall Street Journal', 'https://finance.yahoo.com/m/4d4d210e-4295-3dcd-8431-6a1ec9b3888b/tesla-recruits-another-rival.html');\">\n",
       "<td align=\"right\" width=\"130\">\n",
       "            03:58PM\n",
       "        </td>\n",
       "<td align=\"left\">\n",
       "<div class=\"news-link-container\">\n",
       "<div class=\"news-link-left\">\n",
       "<a class=\"tab-link-news\" href=\"https://finance.yahoo.com/m/4d4d210e-4295-3dcd-8431-6a1ec9b3888b/tesla-recruits-another-rival.html\" rel=\"nofollow\" target=\"_blank\">Tesla Recruits Another Rival to Use Its Supercharger Network</a>\n",
       "</div>\n",
       "<div class=\"news-link-right\">\n",
       "<span>(The Wall Street Journal)</span></div></div></td></tr>\n",
       "<tr>\n",
       "<td align=\"right\" width=\"130\">03:56PM</td>\n",
       "<td align=\"left\" id=\"IC_D_3x8_1\"><span class=\"block text-3xs text-gray-500 leading-none\">Loading…</span></td>\n",
       "</tr>\n",
       "<tr class=\"cursor-pointer\" onclick=\"trackAndOpenNews(event, 'Benzinga', 'https://finance.yahoo.com/news/really-needs-stop-elon-musk-200437195.html');\">\n",
       "<td align=\"right\" width=\"130\">\n",
       "            03:56PM\n",
       "        </td>\n",
       "<td align=\"left\">\n",
       "<div class=\"news-link-container\">\n",
       "<div class=\"news-link-left\">\n",
       "<a class=\"tab-link-news\" href=\"https://finance.yahoo.com/news/really-needs-stop-elon-musk-200437195.html\" rel=\"nofollow\" target=\"_blank\">'This Really Needs To Stop': Elon Musk Just Slammed Ireland's Plans To Slaughter 200K Cows For Climate Change  3 Top Green Stocks That Actually Make A Difference</a>\n",
       "</div>\n",
       "<div class=\"news-link-right\">\n",
       "<span>(Benzinga)</span></div></div></td></tr>\n",
       "<tr class=\"cursor-pointer\" onclick=\"trackAndOpenNews(event, 'TheStreet.com', 'https://finance.yahoo.com/m/2a220138-bad5-3443-a459-b97cc2deda9a/electric-vehicle-survey-could.html');\">\n",
       "<td align=\"right\" width=\"130\">\n",
       "            03:46PM\n",
       "        </td>\n",
       "<td align=\"left\">\n",
       "<div class=\"news-link-container\">\n",
       "<div class=\"news-link-left\">\n",
       "<a class=\"tab-link-news\" href=\"https://finance.yahoo.com/m/2a220138-bad5-3443-a459-b97cc2deda9a/electric-vehicle-survey-could.html\" rel=\"nofollow\" target=\"_blank\">Electric Vehicle Survey Could Mean Good News for Elon Musk</a>\n",
       "</div>\n",
       "<div class=\"news-link-right\">\n",
       "<span>(TheStreet.com)</span></div></div></td></tr>\n",
       "<tr class=\"cursor-pointer\" onclick=\"trackAndOpenNews(event, 'Investopedia', 'https://finance.yahoo.com/m/8c34524b-d29e-3db8-9e21-f4a7c1321bfd/rivian-joins-ev-makers.html');\">\n",
       "<td align=\"right\" width=\"130\">\n",
       "            03:39PM\n",
       "        </td>\n",
       "<td align=\"left\">\n",
       "<div class=\"news-link-container\">\n",
       "<div class=\"news-link-left\">\n",
       "<a class=\"tab-link-news\" href=\"https://finance.yahoo.com/m/8c34524b-d29e-3db8-9e21-f4a7c1321bfd/rivian-joins-ev-makers.html\" rel=\"nofollow\" target=\"_blank\">Rivian Joins EV Makers Adopting Tesla's Charging Station Standard</a>\n",
       "</div>\n",
       "<div class=\"news-link-right\">\n",
       "<span>(Investopedia)</span></div></div></td></tr>\n",
       "<tr class=\"cursor-pointer\" onclick=\"trackAndOpenNews(event, 'Barrons.com', 'https://finance.yahoo.com/m/b9f9b868-abac-3793-b6b3-960ed20b6723/rivian-shares-rise.html');\">\n",
       "<td align=\"right\" width=\"130\">\n",
       "            03:18PM\n",
       "        </td>\n",
       "<td align=\"left\">\n",
       "<div class=\"news-link-container\">\n",
       "<div class=\"news-link-left\">\n",
       "<a class=\"tab-link-news\" href=\"https://finance.yahoo.com/m/b9f9b868-abac-3793-b6b3-960ed20b6723/rivian-shares-rise.html\" rel=\"nofollow\" target=\"_blank\">Rivian Shares Rise</a>\n",
       "</div>\n",
       "<div class=\"news-link-right\">\n",
       "<span>(Barrons.com)</span></div></div></td></tr>\n",
       "<tr class=\"cursor-pointer\" onclick=\"trackAndOpenNews(event, 'Reuters', 'https://finance.yahoo.com/news/1-ev-maker-rivian-adopt-191741061.html');\">\n",
       "<td align=\"right\" width=\"130\">\n",
       "            03:17PM\n",
       "        </td>\n",
       "<td align=\"left\">\n",
       "<div class=\"news-link-container\">\n",
       "<div class=\"news-link-left\">\n",
       "<a class=\"tab-link-news\" href=\"https://finance.yahoo.com/news/1-ev-maker-rivian-adopt-191741061.html\" rel=\"nofollow\" target=\"_blank\">UPDATE 1-EV maker Rivian to adopt Tesla's charging standard</a>\n",
       "</div>\n",
       "<div class=\"news-link-right\">\n",
       "<span>(Reuters)</span></div></div></td></tr>\n",
       "<tr class=\"cursor-pointer\" onclick=\"trackAndOpenNews(event, 'Reuters', 'https://finance.yahoo.com/news/us-stocks-wall-street-pauses-184030250.html');\">\n",
       "<td align=\"right\" width=\"130\">\n",
       "            02:40PM\n",
       "        </td>\n",
       "<td align=\"left\">\n",
       "<div class=\"news-link-container\">\n",
       "<div class=\"news-link-left\">\n",
       "<a class=\"tab-link-news\" href=\"https://finance.yahoo.com/news/us-stocks-wall-street-pauses-184030250.html\" rel=\"nofollow\" target=\"_blank\">US STOCKS-Wall Street pauses rally, turns red ahead of Powell testimony</a>\n",
       "</div>\n",
       "<div class=\"news-link-right\">\n",
       "<span>(Reuters)</span></div></div></td></tr>\n",
       "<tr class=\"cursor-pointer\" onclick=\"trackAndOpenNews(event, 'Benzinga', 'https://finance.yahoo.com/news/worksport-stellantis-raising-games-while-183549913.html');\">\n",
       "<td align=\"right\" width=\"130\">\n",
       "            02:35PM\n",
       "        </td>\n",
       "<td align=\"left\">\n",
       "<div class=\"news-link-container\">\n",
       "<div class=\"news-link-left\">\n",
       "<a class=\"tab-link-news\" href=\"https://finance.yahoo.com/news/worksport-stellantis-raising-games-while-183549913.html\" rel=\"nofollow\" target=\"_blank\">Worksport And Stellantis Are Raising Their Games While Tesla Gets Closer To Changing The Industry Charging Standard</a>\n",
       "</div>\n",
       "<div class=\"news-link-right\">\n",
       "<span>(Benzinga)</span></div></div></td></tr>\n",
       "<tr class=\"cursor-pointer\" onclick=\"trackAndOpenNews(event, 'The Wall Street Journal', 'https://finance.yahoo.com/m/4d4d210e-4295-3dcd-8431-6a1ec9b3888b/rivian-to-use-tesla%E2%80%99s-ev.html');\">\n",
       "<td align=\"right\" width=\"130\">\n",
       "            02:14PM\n",
       "        </td>\n",
       "<td align=\"left\">\n",
       "<div class=\"news-link-container\">\n",
       "<div class=\"news-link-left\">\n",
       "<a class=\"tab-link-news\" href=\"https://finance.yahoo.com/m/4d4d210e-4295-3dcd-8431-6a1ec9b3888b/rivian-to-use-tesla%E2%80%99s-ev.html\" rel=\"nofollow\" target=\"_blank\">Rivian to Use Teslas EV Charging Standard</a>\n",
       "</div>\n",
       "<div class=\"news-link-right\">\n",
       "<span>(The Wall Street Journal)</span></div></div></td></tr>\n",
       "<tr class=\"cursor-pointer\" onclick=\"trackAndOpenNews(event, 'Reuters', 'https://finance.yahoo.com/news/exclusive-tesla-standard-btc-power-181257690.html');\">\n",
       "<td align=\"right\" width=\"130\">\n",
       "            02:12PM\n",
       "        </td>\n",
       "<td align=\"left\">\n",
       "<div class=\"news-link-container\">\n",
       "<div class=\"news-link-left\">\n",
       "<a class=\"tab-link-news\" href=\"https://finance.yahoo.com/news/exclusive-tesla-standard-btc-power-181257690.html\" rel=\"nofollow\" target=\"_blank\">Exclusive-Tesla standard: BTC Power joins move to add to EV chargers</a>\n",
       "</div>\n",
       "<div class=\"news-link-right\">\n",
       "<span>(Reuters)</span></div></div></td></tr>\n",
       "<tr class=\"cursor-pointer\" onclick=\"trackAndOpenNews(event, 'TheStreet.com', 'https://finance.yahoo.com/m/7381bc64-059d-3908-a2b5-011f34927028/rebel%27s-edge-june-20%3A.html');\">\n",
       "<td align=\"right\" width=\"130\">\n",
       "            02:10PM\n",
       "        </td>\n",
       "<td align=\"left\">\n",
       "<div class=\"news-link-container\">\n",
       "<div class=\"news-link-left\">\n",
       "<a class=\"tab-link-news\" href=\"https://finance.yahoo.com/m/7381bc64-059d-3908-a2b5-011f34927028/rebel%27s-edge-june-20%3A.html\" rel=\"nofollow\" target=\"_blank\">Rebel's Edge - June 20: $TSLA, $RIVN, $DICE, and Ja Morant</a>\n",
       "</div>\n",
       "<div class=\"news-link-right\">\n",
       "<span>(TheStreet.com)</span></div></div></td></tr>\n",
       "<tr>\n",
       "<td align=\"right\" width=\"130\">01:51PM</td>\n",
       "<td align=\"left\" id=\"IC_D_3x8_2\"><span class=\"block text-3xs text-gray-500 leading-none\">Loading…</span></td>\n",
       "</tr>\n",
       "<tr class=\"cursor-pointer\" onclick=\"trackAndOpenNews(event, 'Barrons.com', 'https://finance.yahoo.com/m/5d134d0f-6b7d-35db-90b4-ac4f34a306d7/tesla-has-the-most.html');\">\n",
       "<td align=\"right\" width=\"130\">\n",
       "            01:51PM\n",
       "        </td>\n",
       "<td align=\"left\">\n",
       "<div class=\"news-link-container\">\n",
       "<div class=\"news-link-left\">\n",
       "<a class=\"tab-link-news\" href=\"https://finance.yahoo.com/m/5d134d0f-6b7d-35db-90b4-ac4f34a306d7/tesla-has-the-most.html\" rel=\"nofollow\" target=\"_blank\">Tesla Has the Most Self-Driving Accidents. Theres a Good Reason for That.</a>\n",
       "</div>\n",
       "<div class=\"news-link-right\">\n",
       "<span>(Barrons.com)</span></div></div></td></tr>\n",
       "<tr class=\"cursor-pointer\" onclick=\"trackAndOpenNews(event, 'Reuters', 'https://finance.yahoo.com/news/musk-brief-modi-teslas-india-173946676.html');\">\n",
       "<td align=\"right\" width=\"130\">\n",
       "            01:39PM\n",
       "        </td>\n",
       "<td align=\"left\">\n",
       "<div class=\"news-link-container\">\n",
       "<div class=\"news-link-left\">\n",
       "<a class=\"tab-link-news\" href=\"https://finance.yahoo.com/news/musk-brief-modi-teslas-india-173946676.html\" rel=\"nofollow\" target=\"_blank\">Musk to brief Modi on Tesla's India investment plans in U.S. meeting-source</a>\n",
       "</div>\n",
       "<div class=\"news-link-right\">\n",
       "<span>(Reuters)</span></div></div></td></tr>\n",
       "<tr class=\"cursor-pointer\" onclick=\"trackAndOpenNews(event, 'Reuters', 'https://finance.yahoo.com/news/1-musk-brief-modi-teslas-173209641.html');\">\n",
       "<td align=\"right\" width=\"130\">\n",
       "            01:32PM\n",
       "        </td>\n",
       "<td align=\"left\">\n",
       "<div class=\"news-link-container\">\n",
       "<div class=\"news-link-left\">\n",
       "<a class=\"tab-link-news\" href=\"https://finance.yahoo.com/news/1-musk-brief-modi-teslas-173209641.html\" rel=\"nofollow\" target=\"_blank\">UPDATE 1-Musk to brief Modi on Tesla's India investment plans in U.S. meeting-source</a>\n",
       "</div>\n",
       "<div class=\"news-link-right\">\n",
       "<span>(Reuters)</span></div></div></td></tr>\n",
       "<tr class=\"cursor-pointer\" onclick=\"trackAndOpenNews(event, 'Yahoo Finance', 'https://finance.yahoo.com/news/tesla-supercharger-network-map-rivian-ford-gm-172631215.html');\">\n",
       "<td align=\"right\" width=\"130\">\n",
       "            01:26PM\n",
       "        </td>\n",
       "<td align=\"left\">\n",
       "<div class=\"news-link-container\">\n",
       "<div class=\"news-link-left\">\n",
       "<a class=\"tab-link-news\" href=\"https://finance.yahoo.com/news/tesla-supercharger-network-map-rivian-ford-gm-172631215.html\" rel=\"nofollow\" target=\"_blank\">Tesla: Heres the Supercharger network that Rivian, Ford, and GM are joining</a>\n",
       "</div>\n",
       "<div class=\"news-link-right\">\n",
       "<span>(Yahoo Finance)</span></div></div></td></tr>\n",
       "<tr class=\"cursor-pointer\" onclick=\"trackAndOpenNews(event, 'GOBankingRates', 'https://finance.yahoo.com/news/why-tesla-offering-3-months-172509451.html');\">\n",
       "<td align=\"right\" width=\"130\">\n",
       "            01:25PM\n",
       "        </td>\n",
       "<td align=\"left\">\n",
       "<div class=\"news-link-container\">\n",
       "<div class=\"news-link-left\">\n",
       "<a class=\"tab-link-news\" href=\"https://finance.yahoo.com/news/why-tesla-offering-3-months-172509451.html\" rel=\"nofollow\" target=\"_blank\">Why Tesla Is Offering 3 Months of Free Charging to Model 3 Buyers</a>\n",
       "</div>\n",
       "<div class=\"news-link-right\">\n",
       "<span>(GOBankingRates)</span></div></div></td></tr>\n",
       "<tr class=\"cursor-pointer\" onclick=\"trackAndOpenNews(event, 'Investopedia', 'https://finance.yahoo.com/m/4d3677f7-0671-3711-ac70-6e2953fdf15b/hyundai-considers-joining.html');\">\n",
       "<td align=\"right\" width=\"130\">\n",
       "            01:16PM\n",
       "        </td>\n",
       "<td align=\"left\">\n",
       "<div class=\"news-link-container\">\n",
       "<div class=\"news-link-left\">\n",
       "<a class=\"tab-link-news\" href=\"https://finance.yahoo.com/m/4d3677f7-0671-3711-ac70-6e2953fdf15b/hyundai-considers-joining.html\" rel=\"nofollow\" target=\"_blank\">Hyundai Considers Joining Teslas EV Charging Network</a>\n",
       "</div>\n",
       "<div class=\"news-link-right\">\n",
       "<span>(Investopedia)</span></div></div></td></tr>\n",
       "<tr class=\"cursor-pointer\" onclick=\"trackAndOpenNews(event, 'Reuters', 'https://finance.yahoo.com/news/musk-brief-modi-teslas-india-170403069.html');\">\n",
       "<td align=\"right\" width=\"130\">\n",
       "            01:04PM\n",
       "        </td>\n",
       "<td align=\"left\">\n",
       "<div class=\"news-link-container\">\n",
       "<div class=\"news-link-left\">\n",
       "<a class=\"tab-link-news\" href=\"https://finance.yahoo.com/news/musk-brief-modi-teslas-india-170403069.html\" rel=\"nofollow\" target=\"_blank\">Musk to brief Modi on Tesla's India investment plans in U.S. meeting-source</a>\n",
       "</div>\n",
       "<div class=\"news-link-right\">\n",
       "<span>(Reuters)</span></div></div></td></tr>\n",
       "<tr class=\"cursor-pointer\" onclick=\"trackAndOpenNews(event, 'Reuters', 'https://finance.yahoo.com/news/us-stocks-wall-st-kicks-165606190.html');\">\n",
       "<td align=\"right\" width=\"130\">\n",
       "            12:56PM\n",
       "        </td>\n",
       "<td align=\"left\">\n",
       "<div class=\"news-link-container\">\n",
       "<div class=\"news-link-left\">\n",
       "<a class=\"tab-link-news\" href=\"https://finance.yahoo.com/news/us-stocks-wall-st-kicks-165606190.html\" rel=\"nofollow\" target=\"_blank\">US STOCKS-Wall St kicks off week on dour note; Tesla climbs</a>\n",
       "</div>\n",
       "<div class=\"news-link-right\">\n",
       "<span>(Reuters)</span></div></div></td></tr>\n",
       "<tr class=\"cursor-pointer\" onclick=\"trackAndOpenNews(event, 'Motley Fool', 'https://finance.yahoo.com/m/2b14de00-467a-3d8c-a026-1a4b8ef9d9d2/why-rivian-shares-jumped-this.html');\">\n",
       "<td align=\"right\" width=\"130\">\n",
       "            12:38PM\n",
       "        </td>\n",
       "<td align=\"left\">\n",
       "<div class=\"news-link-container\">\n",
       "<div class=\"news-link-left\">\n",
       "<a class=\"tab-link-news\" href=\"https://finance.yahoo.com/m/2b14de00-467a-3d8c-a026-1a4b8ef9d9d2/why-rivian-shares-jumped-this.html\" rel=\"nofollow\" target=\"_blank\">Why Rivian Shares Jumped This Morning</a>\n",
       "</div>\n",
       "<div class=\"news-link-right\">\n",
       "<span>(Motley Fool)</span></div></div></td></tr>\n",
       "<tr class=\"cursor-pointer\" onclick=\"trackAndOpenNews(event, 'Benzinga', 'https://finance.yahoo.com/news/rivian-aligns-teslas-north-america-161338475.html');\">\n",
       "<td align=\"right\" width=\"130\">\n",
       "            12:13PM\n",
       "        </td>\n",
       "<td align=\"left\">\n",
       "<div class=\"news-link-container\">\n",
       "<div class=\"news-link-left\">\n",
       "<a class=\"tab-link-news\" href=\"https://finance.yahoo.com/news/rivian-aligns-teslas-north-america-161338475.html\" rel=\"nofollow\" target=\"_blank\">Rivian Aligns with Tesla's North America Charging Protocol to Boost Customer Access and EV Growth</a>\n",
       "</div>\n",
       "<div class=\"news-link-right\">\n",
       "<span>(Benzinga)</span></div></div></td></tr>\n",
       "<tr class=\"cursor-pointer\" onclick=\"trackAndOpenNews(event, 'Investor\\u0027s Business Daily', 'https://finance.yahoo.com/m/57faf6ff-34ba-37b7-9fd7-f6f2729cc1e0/rivian-drivers-to-have-access.html');\">\n",
       "<td align=\"right\" width=\"130\">\n",
       "            12:09PM\n",
       "        </td>\n",
       "<td align=\"left\">\n",
       "<div class=\"news-link-container\">\n",
       "<div class=\"news-link-left\">\n",
       "<a class=\"tab-link-news\" href=\"https://finance.yahoo.com/m/57faf6ff-34ba-37b7-9fd7-f6f2729cc1e0/rivian-drivers-to-have-access.html\" rel=\"nofollow\" target=\"_blank\">Rivian Drivers To Have Access To Tesla Supercharger Network. Rivian Stock A Buy?</a>\n",
       "</div>\n",
       "<div class=\"news-link-right\">\n",
       "<span>(Investor's Business Daily)</span></div></div></td></tr>\n",
       "<tr class=\"cursor-pointer\" onclick=\"trackAndOpenNews(event, 'Yahoo Finance', 'https://finance.yahoo.com/news/tesla-supercharger-network-gains-another-partner-as-rivian-signs-on-154300344.html');\">\n",
       "<td align=\"right\" width=\"130\">\n",
       "            11:43AM\n",
       "        </td>\n",
       "<td align=\"left\">\n",
       "<div class=\"news-link-container\">\n",
       "<div class=\"news-link-left\">\n",
       "<a class=\"tab-link-news\" href=\"https://finance.yahoo.com/news/tesla-supercharger-network-gains-another-partner-as-rivian-signs-on-154300344.html\" rel=\"nofollow\" target=\"_blank\">Tesla Supercharger network gains another partner as Rivian signs on</a>\n",
       "</div>\n",
       "<div class=\"news-link-right\">\n",
       "<span>(Yahoo Finance)</span></div></div></td></tr>\n",
       "<tr class=\"cursor-pointer\" onclick=\"trackAndOpenNews(event, 'Yahoo Finance Video', 'https://finance.yahoo.com/video/rivian-makes-deal-tesla-adopt-151236658.html');\">\n",
       "<td align=\"right\" width=\"130\">\n",
       "            11:12AM\n",
       "        </td>\n",
       "<td align=\"left\">\n",
       "<div class=\"news-link-container\">\n",
       "<div class=\"news-link-left\">\n",
       "<a class=\"tab-link-news\" href=\"https://finance.yahoo.com/video/rivian-makes-deal-tesla-adopt-151236658.html\" rel=\"nofollow\" target=\"_blank\">Rivian makes deal with Tesla to adopt its EV supercharger</a>\n",
       "</div>\n",
       "<div class=\"news-link-right\">\n",
       "<span>(Yahoo Finance Video)</span></div></div></td></tr>\n",
       "<tr class=\"cursor-pointer\" onclick=\"trackAndOpenNews(event, 'Barrons.com', 'https://finance.yahoo.com/m/317f8bf2-cbb9-3cfb-a4d9-bf1650eca809/tesla%2C-netflix%2C-and-nvidia.html');\">\n",
       "<td align=\"right\" width=\"130\">\n",
       "            11:10AM\n",
       "        </td>\n",
       "<td align=\"left\">\n",
       "<div class=\"news-link-container\">\n",
       "<div class=\"news-link-left\">\n",
       "<a class=\"tab-link-news\" href=\"https://finance.yahoo.com/m/317f8bf2-cbb9-3cfb-a4d9-bf1650eca809/tesla%2C-netflix%2C-and-nvidia.html\" rel=\"nofollow\" target=\"_blank\">Tesla, Netflix, and Nvidia Are Propping Up the S&amp;P 500</a>\n",
       "</div>\n",
       "<div class=\"news-link-right\">\n",
       "<span>(Barrons.com)</span></div></div></td></tr>\n",
       "<tr class=\"cursor-pointer\" onclick=\"trackAndOpenNews(event, 'The Wall Street Journal', 'https://finance.yahoo.com/m/f2264b12-97b0-30b3-a7d3-570e95a59ea5/tech-stocks-are-on-a-tear.-is.html');\">\n",
       "<td align=\"right\" width=\"130\">\n",
       "            10:57AM\n",
       "        </td>\n",
       "<td align=\"left\">\n",
       "<div class=\"news-link-container\">\n",
       "<div class=\"news-link-left\">\n",
       "<a class=\"tab-link-news\" href=\"https://finance.yahoo.com/m/f2264b12-97b0-30b3-a7d3-570e95a59ea5/tech-stocks-are-on-a-tear.-is.html\" rel=\"nofollow\" target=\"_blank\">Tech Stocks Are on a Tear. Is It 1999 Again?</a>\n",
       "</div>\n",
       "<div class=\"news-link-right\">\n",
       "<span>(The Wall Street Journal)</span></div></div></td></tr>\n",
       "<tr>\n",
       "<td align=\"right\" width=\"130\">10:39AM</td>\n",
       "<td align=\"left\" id=\"IC_D_3x8_3\"><span class=\"block text-3xs text-gray-500 leading-none\">Loading…</span></td>\n",
       "</tr>\n",
       "<tr class=\"cursor-pointer\" onclick=\"trackAndOpenNews(event, 'Reuters', 'https://finance.yahoo.com/news/us-stocks-wall-st-falls-143950082.html');\">\n",
       "<td align=\"right\" width=\"130\">\n",
       "            10:39AM\n",
       "        </td>\n",
       "<td align=\"left\">\n",
       "<div class=\"news-link-container\">\n",
       "<div class=\"news-link-left\">\n",
       "<a class=\"tab-link-news\" href=\"https://finance.yahoo.com/news/us-stocks-wall-st-falls-143950082.html\" rel=\"nofollow\" target=\"_blank\">US STOCKS-Wall St falls as Fed worries weigh; Tesla climbs</a>\n",
       "</div>\n",
       "<div class=\"news-link-right\">\n",
       "<span>(Reuters)</span></div></div></td></tr>\n",
       "<tr class=\"cursor-pointer\" onclick=\"trackAndOpenNews(event, 'AP Finance', 'https://finance.yahoo.com/news/electric-vehicle-maker-rivian-join-143127038.html');\">\n",
       "<td align=\"right\" width=\"130\">\n",
       "            10:31AM\n",
       "        </td>\n",
       "<td align=\"left\">\n",
       "<div class=\"news-link-container\">\n",
       "<div class=\"news-link-left\">\n",
       "<a class=\"tab-link-news\" href=\"https://finance.yahoo.com/news/electric-vehicle-maker-rivian-join-143127038.html\" rel=\"nofollow\" target=\"_blank\">Electric vehicle maker Rivian to join Tesla charging network as automakers consider company's plug</a>\n",
       "</div>\n",
       "<div class=\"news-link-right\">\n",
       "<span>(AP Finance)</span></div></div></td></tr>\n",
       "<tr class=\"cursor-pointer\" onclick=\"trackAndOpenNews(event, 'Barrons.com', 'https://finance.yahoo.com/m/9e00e34d-753f-3496-bb49-4b428bf0e4d8/rivian-factory-sale-shows-ev.html');\">\n",
       "<td align=\"right\" width=\"130\">\n",
       "            10:29AM\n",
       "        </td>\n",
       "<td align=\"left\">\n",
       "<div class=\"news-link-container\">\n",
       "<div class=\"news-link-left\">\n",
       "<a class=\"tab-link-news\" href=\"https://finance.yahoo.com/m/9e00e34d-753f-3496-bb49-4b428bf0e4d8/rivian-factory-sale-shows-ev.html\" rel=\"nofollow\" target=\"_blank\">Rivian Factory Sale Shows EV Orders Arent All Theyre Cracked Up to Be</a>\n",
       "</div>\n",
       "<div class=\"news-link-right\">\n",
       "<span>(Barrons.com)</span></div></div></td></tr>\n",
       "<tr class=\"cursor-pointer\" onclick=\"trackAndOpenNews(event, 'TheStreet.com', 'https://finance.yahoo.com/m/02a8a520-a321-33fb-93e3-060a0af1b1a8/big-tesla-rival-latest-to.html');\">\n",
       "<td align=\"right\" width=\"130\">\n",
       "            10:24AM\n",
       "        </td>\n",
       "<td align=\"left\">\n",
       "<div class=\"news-link-container\">\n",
       "<div class=\"news-link-left\">\n",
       "<a class=\"tab-link-news\" href=\"https://finance.yahoo.com/m/02a8a520-a321-33fb-93e3-060a0af1b1a8/big-tesla-rival-latest-to.html\" rel=\"nofollow\" target=\"_blank\">Big Tesla Rival Latest to Partner Up With The EV Leaders</a>\n",
       "</div>\n",
       "<div class=\"news-link-right\">\n",
       "<span>(TheStreet.com)</span></div></div></td></tr>\n",
       "<tr class=\"cursor-pointer\" onclick=\"trackAndOpenNews(event, 'Investor\\u0027s Business Daily', 'https://finance.yahoo.com/m/f765d21c-713e-36ac-807f-0adbb3460f4b/tesla-stock-hit-8-month-highs.html');\">\n",
       "<td align=\"right\" width=\"130\">\n",
       "            10:10AM\n",
       "        </td>\n",
       "<td align=\"left\">\n",
       "<div class=\"news-link-container\">\n",
       "<div class=\"news-link-left\">\n",
       "<a class=\"tab-link-news\" href=\"https://finance.yahoo.com/m/f765d21c-713e-36ac-807f-0adbb3460f4b/tesla-stock-hit-8-month-highs.html\" rel=\"nofollow\" target=\"_blank\">Tesla Stock Hit 8-Month Highs Friday; Cathie Wood Sold And Made Millions</a>\n",
       "</div>\n",
       "<div class=\"news-link-right\">\n",
       "<span>(Investor's Business Daily)</span></div></div></td></tr>\n",
       "<tr class=\"cursor-pointer\" onclick=\"trackAndOpenNews(event, 'TheStreet.com', 'https://finance.yahoo.com/m/7cc3dc82-92e0-3a8b-9cf6-4d3e15842aaa/elon-musk-may-embrace.html');\">\n",
       "<td align=\"right\" width=\"130\">\n",
       "            10:03AM\n",
       "        </td>\n",
       "<td align=\"left\">\n",
       "<div class=\"news-link-container\">\n",
       "<div class=\"news-link-left\">\n",
       "<a class=\"tab-link-news\" href=\"https://finance.yahoo.com/m/7cc3dc82-92e0-3a8b-9cf6-4d3e15842aaa/elon-musk-may-embrace.html\" rel=\"nofollow\" target=\"_blank\">Elon Musk May Embrace Billionaire Mark Cuban's Big Dream</a>\n",
       "</div>\n",
       "<div class=\"news-link-right\">\n",
       "<span>(TheStreet.com)</span></div></div></td></tr>\n",
       "<tr class=\"cursor-pointer\" onclick=\"trackAndOpenNews(event, 'Barrons.com', 'https://finance.yahoo.com/m/5d134d0f-6b7d-35db-90b4-ac4f34a306d7/tesla%E2%80%99s-crash-data-aren%E2%80%99t-as.html');\">\n",
       "<td align=\"right\" width=\"130\">\n",
       "            09:39AM\n",
       "        </td>\n",
       "<td align=\"left\">\n",
       "<div class=\"news-link-container\">\n",
       "<div class=\"news-link-left\">\n",
       "<a class=\"tab-link-news\" href=\"https://finance.yahoo.com/m/5d134d0f-6b7d-35db-90b4-ac4f34a306d7/tesla%E2%80%99s-crash-data-aren%E2%80%99t-as.html\" rel=\"nofollow\" target=\"_blank\">Teslas Crash Data Arent As Bad as They Look</a>\n",
       "</div>\n",
       "<div class=\"news-link-right\">\n",
       "<span>(Barrons.com)</span></div></div></td></tr>\n",
       "<tr class=\"cursor-pointer\" onclick=\"trackAndOpenNews(event, 'Barrons.com', 'https://finance.yahoo.com/m/85b3e0b5-b9fd-3cf8-9881-8d2d54fd777b/tesla-may-have-a-demand.html');\">\n",
       "<td align=\"right\" width=\"130\">\n",
       "            09:05AM\n",
       "        </td>\n",
       "<td align=\"left\">\n",
       "<div class=\"news-link-container\">\n",
       "<div class=\"news-link-left\">\n",
       "<a class=\"tab-link-news\" href=\"https://finance.yahoo.com/m/85b3e0b5-b9fd-3cf8-9881-8d2d54fd777b/tesla-may-have-a-demand.html\" rel=\"nofollow\" target=\"_blank\">Tesla May Have a Demand Problem With One of Its Models</a>\n",
       "</div>\n",
       "<div class=\"news-link-right\">\n",
       "<span>(Barrons.com)</span></div></div></td></tr>\n",
       "<tr class=\"cursor-pointer\" onclick=\"trackAndOpenNews(event, 'Benzinga', 'https://finance.yahoo.com/news/elon-musk-wasnt-original-founder-130014807.html');\">\n",
       "<td align=\"right\" width=\"130\">\n",
       "            09:00AM\n",
       "        </td>\n",
       "<td align=\"left\">\n",
       "<div class=\"news-link-container\">\n",
       "<div class=\"news-link-left\">\n",
       "<a class=\"tab-link-news\" href=\"https://finance.yahoo.com/news/elon-musk-wasnt-original-founder-130014807.html\" rel=\"nofollow\" target=\"_blank\">Elon Musk Wasn't The Original Founder of Tesla  The Forgotten Founders Behind The Iconic Brand</a>\n",
       "</div>\n",
       "<div class=\"news-link-right\">\n",
       "<span>(Benzinga)</span></div></div></td></tr>\n",
       "<tr class=\"cursor-pointer\" onclick=\"trackAndOpenNews(event, 'The Wall Street Journal', 'https://finance.yahoo.com/m/91edf70c-6211-315e-aaf8-874dac31774d/why-tesla%E2%80%99s-stock-rally.html');\">\n",
       "<td align=\"right\" width=\"130\">\n",
       "            08:57AM\n",
       "        </td>\n",
       "<td align=\"left\">\n",
       "<div class=\"news-link-container\">\n",
       "<div class=\"news-link-left\">\n",
       "<a class=\"tab-link-news\" href=\"https://finance.yahoo.com/m/91edf70c-6211-315e-aaf8-874dac31774d/why-tesla%E2%80%99s-stock-rally.html\" rel=\"nofollow\" target=\"_blank\">Why Teslas Stock Rally Doesnt Make Sensein Eight Charts</a>\n",
       "</div>\n",
       "<div class=\"news-link-right\">\n",
       "<span>(The Wall Street Journal)</span></div></div></td></tr>\n",
       "<tr class=\"cursor-pointer\" onclick=\"trackAndOpenNews(event, 'Barrons.com', 'https://finance.yahoo.com/m/5d134d0f-6b7d-35db-90b4-ac4f34a306d7/why-tesla%E2%80%99s-safety-data-isn%E2%80%99t.html');\">\n",
       "<td align=\"right\" width=\"130\">\n",
       "            08:36AM\n",
       "        </td>\n",
       "<td align=\"left\">\n",
       "<div class=\"news-link-container\">\n",
       "<div class=\"news-link-left\">\n",
       "<a class=\"tab-link-news\" href=\"https://finance.yahoo.com/m/5d134d0f-6b7d-35db-90b4-ac4f34a306d7/why-tesla%E2%80%99s-safety-data-isn%E2%80%99t.html\" rel=\"nofollow\" target=\"_blank\">Why Teslas Safety Data Isnt As Bad as It Looks</a>\n",
       "</div>\n",
       "<div class=\"news-link-right\">\n",
       "<span>(Barrons.com)</span></div></div></td></tr>\n",
       "<tr class=\"cursor-pointer\" onclick=\"trackAndOpenNews(event, 'Barrons.com', 'https://finance.yahoo.com/m/5d134d0f-6b7d-35db-90b4-ac4f34a306d7/why-tesla%E2%80%99s-safety-data.html');\">\n",
       "<td align=\"right\" width=\"130\">\n",
       "            08:36AM\n",
       "        </td>\n",
       "<td align=\"left\">\n",
       "<div class=\"news-link-container\">\n",
       "<div class=\"news-link-left\">\n",
       "<a class=\"tab-link-news\" href=\"https://finance.yahoo.com/m/5d134d0f-6b7d-35db-90b4-ac4f34a306d7/why-tesla%E2%80%99s-safety-data.html\" rel=\"nofollow\" target=\"_blank\">Why Teslas Safety Data Arent As Bad as They Look</a>\n",
       "</div>\n",
       "<div class=\"news-link-right\">\n",
       "<span>(Barrons.com)</span></div></div></td></tr>\n",
       "<tr class=\"cursor-pointer\" onclick=\"trackAndOpenNews(event, 'Reuters', 'https://finance.yahoo.com/news/exclusive-ev-maker-rivian-adopt-122840753.html');\">\n",
       "<td align=\"right\" width=\"130\">\n",
       "            08:28AM\n",
       "        </td>\n",
       "<td align=\"left\">\n",
       "<div class=\"news-link-container\">\n",
       "<div class=\"news-link-left\">\n",
       "<a class=\"tab-link-news\" href=\"https://finance.yahoo.com/news/exclusive-ev-maker-rivian-adopt-122840753.html\" rel=\"nofollow\" target=\"_blank\">Exclusive-EV maker Rivian to adopt Tesla's charging standard</a>\n",
       "</div>\n",
       "<div class=\"news-link-right\">\n",
       "<span>(Reuters)</span></div></div></td></tr>\n",
       "<tr class=\"cursor-pointer\" onclick=\"trackAndOpenNews(event, 'TheStreet.com', 'https://finance.yahoo.com/m/73ed471d-19b8-38b1-8814-2fe594408a04/cathie-wood-watch%3A-ark-buys.html');\">\n",
       "<td align=\"right\" width=\"130\">\n",
       "            08:00AM\n",
       "        </td>\n",
       "<td align=\"left\">\n",
       "<div class=\"news-link-container\">\n",
       "<div class=\"news-link-left\">\n",
       "<a class=\"tab-link-news\" href=\"https://finance.yahoo.com/m/73ed471d-19b8-38b1-8814-2fe594408a04/cathie-wood-watch%3A-ark-buys.html\" rel=\"nofollow\" target=\"_blank\">Cathie Wood Watch: Ark Buys Zoom, Sells Tesla</a>\n",
       "</div>\n",
       "<div class=\"news-link-right\">\n",
       "<span>(TheStreet.com)</span></div></div></td></tr>\n",
       "<tr class=\"cursor-pointer\" onclick=\"trackAndOpenNews(event, 'The Wall Street Journal', 'https://finance.yahoo.com/m/91edf70c-6211-315e-aaf8-874dac31774d/the-problem-with-tesla%E2%80%99s-ai.html');\">\n",
       "<td align=\"right\" width=\"130\">\n",
       "            07:49AM\n",
       "        </td>\n",
       "<td align=\"left\">\n",
       "<div class=\"news-link-container\">\n",
       "<div class=\"news-link-left\">\n",
       "<a class=\"tab-link-news\" href=\"https://finance.yahoo.com/m/91edf70c-6211-315e-aaf8-874dac31774d/the-problem-with-tesla%E2%80%99s-ai.html\" rel=\"nofollow\" target=\"_blank\">The Problem With Teslas AI Rally in Eight Charts</a>\n",
       "</div>\n",
       "<div class=\"news-link-right\">\n",
       "<span>(The Wall Street Journal)</span></div></div></td></tr>\n",
       "<tr class=\"cursor-pointer\" onclick=\"trackAndOpenNews(event, 'Barrons.com', 'https://finance.yahoo.com/m/85b3e0b5-b9fd-3cf8-9881-8d2d54fd777b/used-car-data-show-tesla-may.html');\">\n",
       "<td align=\"right\" width=\"130\">\n",
       "            07:40AM\n",
       "        </td>\n",
       "<td align=\"left\">\n",
       "<div class=\"news-link-container\">\n",
       "<div class=\"news-link-left\">\n",
       "<a class=\"tab-link-news\" href=\"https://finance.yahoo.com/m/85b3e0b5-b9fd-3cf8-9881-8d2d54fd777b/used-car-data-show-tesla-may.html\" rel=\"nofollow\" target=\"_blank\">Used-Car Data Show Tesla May Have Demand Problem With One Of Its Models</a>\n",
       "</div>\n",
       "<div class=\"news-link-right\">\n",
       "<span>(Barrons.com)</span></div></div></td></tr>\n",
       "<tr class=\"cursor-pointer\" onclick=\"trackAndOpenNews(event, 'Investopedia', 'https://finance.yahoo.com/m/324afecb-5c9a-3b5e-a491-e8dcf8e92d56/5-things-to-know-before.html');\">\n",
       "<td align=\"right\" width=\"130\">\n",
       "            07:34AM\n",
       "        </td>\n",
       "<td align=\"left\">\n",
       "<div class=\"news-link-container\">\n",
       "<div class=\"news-link-left\">\n",
       "<a class=\"tab-link-news\" href=\"https://finance.yahoo.com/m/324afecb-5c9a-3b5e-a491-e8dcf8e92d56/5-things-to-know-before.html\" rel=\"nofollow\" target=\"_blank\">5 Things to Know Before Markets Open</a>\n",
       "</div>\n",
       "<div class=\"news-link-right\">\n",
       "<span>(Investopedia)</span></div></div></td></tr>\n",
       "<tr class=\"cursor-pointer\" onclick=\"trackAndOpenNews(event, 'TheStreet.com', 'https://finance.yahoo.com/m/7cc3dc82-92e0-3a8b-9cf6-4d3e15842aaa/elon-musk-has-a-surprise-gift.html');\">\n",
       "<td align=\"right\" width=\"130\">\n",
       "            06:32AM\n",
       "        </td>\n",
       "<td align=\"left\">\n",
       "<div class=\"news-link-container\">\n",
       "<div class=\"news-link-left\">\n",
       "<a class=\"tab-link-news\" href=\"https://finance.yahoo.com/m/7cc3dc82-92e0-3a8b-9cf6-4d3e15842aaa/elon-musk-has-a-surprise-gift.html\" rel=\"nofollow\" target=\"_blank\">Elon Musk Has a Surprise Gift for Billionaire Mark Cuban</a>\n",
       "</div>\n",
       "<div class=\"news-link-right\">\n",
       "<span>(TheStreet.com)</span></div></div></td></tr>\n",
       "<tr class=\"cursor-pointer\" onclick=\"trackAndOpenNews(event, 'Reuters', 'https://finance.yahoo.com/news/modi-heads-us-deepen-ties-092252968.html');\">\n",
       "<td align=\"right\" width=\"130\">\n",
       "            05:22AM\n",
       "        </td>\n",
       "<td align=\"left\">\n",
       "<div class=\"news-link-container\">\n",
       "<div class=\"news-link-left\">\n",
       "<a class=\"tab-link-news\" href=\"https://finance.yahoo.com/news/modi-heads-us-deepen-ties-092252968.html\" rel=\"nofollow\" target=\"_blank\">Modi heads to US to deepen ties, says no doubting India's position on Ukraine</a>\n",
       "</div>\n",
       "<div class=\"news-link-right\">\n",
       "<span>(Reuters)</span></div></div></td></tr>\n",
       "<tr class=\"cursor-pointer\" onclick=\"trackAndOpenNews(event, 'Motley Fool', 'https://finance.yahoo.com/m/ce1405dc-fbf8-32e9-aed5-2cdb465a2019/3-ultra-popular-ai-stocks.html');\">\n",
       "<td align=\"right\" width=\"130\">\n",
       "            05:21AM\n",
       "        </td>\n",
       "<td align=\"left\">\n",
       "<div class=\"news-link-container\">\n",
       "<div class=\"news-link-left\">\n",
       "<a class=\"tab-link-news\" href=\"https://finance.yahoo.com/m/ce1405dc-fbf8-32e9-aed5-2cdb465a2019/3-ultra-popular-ai-stocks.html\" rel=\"nofollow\" target=\"_blank\">3 Ultra-Popular AI Stocks That Have Billionaires Running for the Exit</a>\n",
       "</div>\n",
       "<div class=\"news-link-right\">\n",
       "<span>(Motley Fool)</span></div></div></td></tr>\n",
       "<tr class=\"cursor-pointer\" onclick=\"trackAndOpenNews(event, 'Reuters', 'https://finance.yahoo.com/news/hyundai-consider-joining-teslas-north-083549170.html');\">\n",
       "<td align=\"right\" width=\"130\">\n",
       "            04:35AM\n",
       "        </td>\n",
       "<td align=\"left\">\n",
       "<div class=\"news-link-container\">\n",
       "<div class=\"news-link-left\">\n",
       "<a class=\"tab-link-news\" href=\"https://finance.yahoo.com/news/hyundai-consider-joining-teslas-north-083549170.html\" rel=\"nofollow\" target=\"_blank\">Hyundai to consider joining Tesla's North American charging standard alliance</a>\n",
       "</div>\n",
       "<div class=\"news-link-right\">\n",
       "<span>(Reuters)</span></div></div></td></tr>\n",
       "<tr class=\"cursor-pointer\" onclick=\"trackAndOpenNews(event, 'Reuters', 'https://finance.yahoo.com/news/hyundai-consider-joining-teslas-north-083242532.html');\">\n",
       "<td align=\"right\" width=\"130\">\n",
       "            04:32AM\n",
       "        </td>\n",
       "<td align=\"left\">\n",
       "<div class=\"news-link-container\">\n",
       "<div class=\"news-link-left\">\n",
       "<a class=\"tab-link-news\" href=\"https://finance.yahoo.com/news/hyundai-consider-joining-teslas-north-083242532.html\" rel=\"nofollow\" target=\"_blank\">Hyundai to consider joining Tesla's North American charging standard alliance</a>\n",
       "</div>\n",
       "<div class=\"news-link-right\">\n",
       "<span>(Reuters)</span></div></div></td></tr>\n",
       "<tr class=\"cursor-pointer\" onclick=\"trackAndOpenNews(event, 'The Wall Street Journal', 'https://finance.yahoo.com/m/f2264b12-97b0-30b3-a7d3-570e95a59ea5/tech-stocks-are-on-a-tear%E2%80%94is.html');\">\n",
       "<td align=\"right\" width=\"130\">\n",
       "            03:22AM\n",
       "        </td>\n",
       "<td align=\"left\">\n",
       "<div class=\"news-link-container\">\n",
       "<div class=\"news-link-left\">\n",
       "<a class=\"tab-link-news\" href=\"https://finance.yahoo.com/m/f2264b12-97b0-30b3-a7d3-570e95a59ea5/tech-stocks-are-on-a-tear%E2%80%94is.html\" rel=\"nofollow\" target=\"_blank\">Tech Stocks Are on a TearIs It 1999 Again?</a>\n",
       "</div>\n",
       "<div class=\"news-link-right\">\n",
       "<span>(The Wall Street Journal)</span></div></div></td></tr>\n",
       "<tr class=\"cursor-pointer\" onclick=\"trackAndOpenNews(event, 'Reuters', 'https://finance.yahoo.com/news/indias-modi-meet-elon-musk-054507385.html');\">\n",
       "<td align=\"right\" width=\"130\">\n",
       "            01:45AM\n",
       "        </td>\n",
       "<td align=\"left\">\n",
       "<div class=\"news-link-container\">\n",
       "<div class=\"news-link-left\">\n",
       "<a class=\"tab-link-news\" href=\"https://finance.yahoo.com/news/indias-modi-meet-elon-musk-054507385.html\" rel=\"nofollow\" target=\"_blank\">India's Modi to meet Elon Musk during US trip - ANI</a>\n",
       "</div>\n",
       "<div class=\"news-link-right\">\n",
       "<span>(Reuters)</span></div></div></td></tr>\n",
       "<tr class=\"cursor-pointer\" onclick=\"trackAndOpenNews(event, 'GOBankingRates', 'https://finance.yahoo.com/news/tesla-40k-electric-car-really-171352604.html');\">\n",
       "<td align=\"right\" width=\"130\">\n",
       "            Jun-19-23 03:01PM\n",
       "        </td>\n",
       "<td align=\"left\">\n",
       "<div class=\"news-link-container\">\n",
       "<div class=\"news-link-left\">\n",
       "<a class=\"tab-link-news\" href=\"https://finance.yahoo.com/news/tesla-40k-electric-car-really-171352604.html\" rel=\"nofollow\" target=\"_blank\">Is Teslas $40K Electric Car Really a Bargain Now That the Price Has Been Slashed 6 Times?</a>\n",
       "</div>\n",
       "<div class=\"news-link-right\">\n",
       "<span>(GOBankingRates)</span></div></div></td></tr>\n",
       "<tr class=\"cursor-pointer\" onclick=\"trackAndOpenNews(event, 'Motley Fool', 'https://finance.yahoo.com/m/e59681f0-9936-36e3-b57b-759638e79a4a/best-artificial-intelligence.html');\">\n",
       "<td align=\"right\" width=\"130\">\n",
       "            11:44AM\n",
       "        </td>\n",
       "<td align=\"left\">\n",
       "<div class=\"news-link-container\">\n",
       "<div class=\"news-link-left\">\n",
       "<a class=\"tab-link-news\" href=\"https://finance.yahoo.com/m/e59681f0-9936-36e3-b57b-759638e79a4a/best-artificial-intelligence.html\" rel=\"nofollow\" target=\"_blank\">Best Artificial Intelligence Stock to Buy: C3.ai vs. Tesla</a>\n",
       "</div>\n",
       "<div class=\"news-link-right\">\n",
       "<span>(Motley Fool)</span></div></div></td></tr>\n",
       "<tr class=\"cursor-pointer\" onclick=\"trackAndOpenNews(event, 'TheStreet.com', 'https://finance.yahoo.com/m/bc19ce6c-ceb9-33fa-aecd-1b488b33744d/tesla-has-more-awful-news.html');\">\n",
       "<td align=\"right\" width=\"130\">\n",
       "            10:24AM\n",
       "        </td>\n",
       "<td align=\"left\">\n",
       "<div class=\"news-link-container\">\n",
       "<div class=\"news-link-left\">\n",
       "<a class=\"tab-link-news\" href=\"https://finance.yahoo.com/m/bc19ce6c-ceb9-33fa-aecd-1b488b33744d/tesla-has-more-awful-news.html\" rel=\"nofollow\" target=\"_blank\">Tesla Has More Awful News About Its Semi Trucks</a>\n",
       "</div>\n",
       "<div class=\"news-link-right\">\n",
       "<span>(TheStreet.com)</span></div></div></td></tr>\n",
       "<tr class=\"cursor-pointer\" onclick=\"trackAndOpenNews(event, 'Zacks', 'https://finance.yahoo.com/news/ev-roundup-tslas-nacs-wave-131400701.html');\">\n",
       "<td align=\"right\" width=\"130\">\n",
       "            09:14AM\n",
       "        </td>\n",
       "<td align=\"left\">\n",
       "<div class=\"news-link-container\">\n",
       "<div class=\"news-link-left\">\n",
       "<a class=\"tab-link-news\" href=\"https://finance.yahoo.com/news/ev-roundup-tslas-nacs-wave-131400701.html\" rel=\"nofollow\" target=\"_blank\">EV Roundup: TSLA's NACS Wave, NKLA's Cost Optimization Drive &amp; More</a>\n",
       "</div>\n",
       "<div class=\"news-link-right\">\n",
       "<span>(Zacks)</span></div></div></td></tr>\n",
       "<tr class=\"cursor-pointer\" onclick=\"trackAndOpenNews(event, 'Motley Fool', 'https://finance.yahoo.com/m/658a0ad6-74b1-3d06-8b39-3b0ae7bf492f/is-the-bear-market-over%3F-big.html');\">\n",
       "<td align=\"right\" width=\"130\">\n",
       "            09:02AM\n",
       "        </td>\n",
       "<td align=\"left\">\n",
       "<div class=\"news-link-container\">\n",
       "<div class=\"news-link-left\">\n",
       "<a class=\"tab-link-news\" href=\"https://finance.yahoo.com/m/658a0ad6-74b1-3d06-8b39-3b0ae7bf492f/is-the-bear-market-over%3F-big.html\" rel=\"nofollow\" target=\"_blank\">Is the Bear Market Over? Big Tech Already Told You the Answer</a>\n",
       "</div>\n",
       "<div class=\"news-link-right\">\n",
       "<span>(Motley Fool)</span></div></div></td></tr>\n",
       "<tr class=\"cursor-pointer\" onclick=\"trackAndOpenNews(event, 'Motley Fool', 'https://finance.yahoo.com/m/88a99849-3ae2-308d-9932-f3757e0a9dd3/here%27s-why-you-should-take.html');\">\n",
       "<td align=\"right\" width=\"130\">\n",
       "            06:22AM\n",
       "        </td>\n",
       "<td align=\"left\">\n",
       "<div class=\"news-link-container\">\n",
       "<div class=\"news-link-left\">\n",
       "<a class=\"tab-link-news\" href=\"https://finance.yahoo.com/m/88a99849-3ae2-308d-9932-f3757e0a9dd3/here%27s-why-you-should-take.html\" rel=\"nofollow\" target=\"_blank\">Here's Why You Should Take Warren Buffett's Advice on EV Stocks</a>\n",
       "</div>\n",
       "<div class=\"news-link-right\">\n",
       "<span>(Motley Fool)</span></div></div></td></tr>\n",
       "<tr class=\"cursor-pointer\" onclick=\"trackAndOpenNews(event, 'Fortune', 'https://finance.yahoo.com/news/recall-notices-tesla-electric-powered-083713142.html');\">\n",
       "<td align=\"right\" width=\"130\">\n",
       "            04:37AM\n",
       "        </td>\n",
       "<td align=\"left\">\n",
       "<div class=\"news-link-container\">\n",
       "<div class=\"news-link-left\">\n",
       "<a class=\"tab-link-news\" href=\"https://finance.yahoo.com/news/recall-notices-tesla-electric-powered-083713142.html\" rel=\"nofollow\" target=\"_blank\">New recall notices for Teslas electric-powered truck suggest it may have produced as few as 36 units in 3 months</a>\n",
       "</div>\n",
       "<div class=\"news-link-right\">\n",
       "<span>(Fortune)</span></div></div></td></tr>\n",
       "<tr class=\"cursor-pointer\" onclick=\"trackAndOpenNews(event, 'TheStreet.com', 'https://finance.yahoo.com/m/8654fc5d-f03b-3c67-8f81-e6eedb502aa9/elon-musk-says-one-thing-may.html');\">\n",
       "<td align=\"right\" width=\"130\">\n",
       "            Jun-18-23 06:32PM\n",
       "        </td>\n",
       "<td align=\"left\">\n",
       "<div class=\"news-link-container\">\n",
       "<div class=\"news-link-left\">\n",
       "<a class=\"tab-link-news\" href=\"https://finance.yahoo.com/m/8654fc5d-f03b-3c67-8f81-e6eedb502aa9/elon-musk-says-one-thing-may.html\" rel=\"nofollow\" target=\"_blank\">Elon Musk Says One Thing May Make or Break Tesla</a>\n",
       "</div>\n",
       "<div class=\"news-link-right\">\n",
       "<span>(TheStreet.com)</span></div></div></td></tr>\n",
       "<tr class=\"cursor-pointer\" onclick=\"trackAndOpenNews(event, 'Bloomberg', 'https://finance.yahoo.com/news/china-plan-boost-rural-ev-210000878.html');\">\n",
       "<td align=\"right\" width=\"130\">\n",
       "            05:00PM\n",
       "        </td>\n",
       "<td align=\"left\">\n",
       "<div class=\"news-link-container\">\n",
       "<div class=\"news-link-left\">\n",
       "<a class=\"tab-link-news\" href=\"https://finance.yahoo.com/news/china-plan-boost-rural-ev-210000878.html\" rel=\"nofollow\" target=\"_blank\">Chinas Plan to Boost Rural EV Sales Meets With Skeptical Buyers</a>\n",
       "</div>\n",
       "<div class=\"news-link-right\">\n",
       "<span>(Bloomberg)</span></div></div></td></tr>\n",
       "<tr class=\"cursor-pointer\" onclick=\"trackAndOpenNews(event, 'Zacks', 'https://finance.yahoo.com/news/top-ev-etfs-electrifying-gains-174600658.html');\">\n",
       "<td align=\"right\" width=\"130\">\n",
       "            04:56PM\n",
       "        </td>\n",
       "<td align=\"left\">\n",
       "<div class=\"news-link-container\">\n",
       "<div class=\"news-link-left\">\n",
       "<a class=\"tab-link-news\" href=\"https://finance.yahoo.com/news/top-ev-etfs-electrifying-gains-174600658.html\" rel=\"nofollow\" target=\"_blank\">Top EV ETFs for Electrifying Gains as Charging Network Expands</a>\n",
       "</div>\n",
       "<div class=\"news-link-right\">\n",
       "<span>(Zacks)</span></div></div></td></tr>\n",
       "<tr class=\"cursor-pointer\" onclick=\"trackAndOpenNews(event, 'TheStreet.com', 'https://finance.yahoo.com/m/456f407c-c94b-3f52-b320-0a007be525f4/stellantis-has-a-new-weapon.html');\">\n",
       "<td align=\"right\" width=\"130\">\n",
       "            03:13PM\n",
       "        </td>\n",
       "<td align=\"left\">\n",
       "<div class=\"news-link-container\">\n",
       "<div class=\"news-link-left\">\n",
       "<a class=\"tab-link-news\" href=\"https://finance.yahoo.com/m/456f407c-c94b-3f52-b320-0a007be525f4/stellantis-has-a-new-weapon.html\" rel=\"nofollow\" target=\"_blank\">Stellantis Has a New Weapon to Challenge Tesla and General Motors</a>\n",
       "</div>\n",
       "<div class=\"news-link-right\">\n",
       "<span>(TheStreet.com)</span></div></div></td></tr>\n",
       "<tr class=\"cursor-pointer\" onclick=\"trackAndOpenNews(event, 'GOBankingRates', 'https://finance.yahoo.com/news/car-market-prices-plummet-due-153706713.html');\">\n",
       "<td align=\"right\" width=\"130\">\n",
       "            09:00AM\n",
       "        </td>\n",
       "<td align=\"left\">\n",
       "<div class=\"news-link-container\">\n",
       "<div class=\"news-link-left\">\n",
       "<a class=\"tab-link-news\" href=\"https://finance.yahoo.com/news/car-market-prices-plummet-due-153706713.html\" rel=\"nofollow\" target=\"_blank\">New Car Market: Prices Are About To Plummet Due to Oversupply</a>\n",
       "</div>\n",
       "<div class=\"news-link-right\">\n",
       "<span>(GOBankingRates)</span></div></div></td></tr>\n",
       "<tr class=\"cursor-pointer\" onclick=\"trackAndOpenNews(event, 'Motley Fool', 'https://finance.yahoo.com/m/c0ebf0dd-17cb-3263-a31f-b206d238b02e/want-to-get-richer%3F-5-top.html');\">\n",
       "<td align=\"right\" width=\"130\">\n",
       "            08:30AM\n",
       "        </td>\n",
       "<td align=\"left\">\n",
       "<div class=\"news-link-container\">\n",
       "<div class=\"news-link-left\">\n",
       "<a class=\"tab-link-news\" href=\"https://finance.yahoo.com/m/c0ebf0dd-17cb-3263-a31f-b206d238b02e/want-to-get-richer%3F-5-top.html\" rel=\"nofollow\" target=\"_blank\">Want to Get Richer? 5 Top Stocks to Buy Now and Hold Forever</a>\n",
       "</div>\n",
       "<div class=\"news-link-right\">\n",
       "<span>(Motley Fool)</span></div></div></td></tr>\n",
       "<tr class=\"cursor-pointer\" onclick=\"trackAndOpenNews(event, 'Financial Times', 'https://finance.yahoo.com/m/d190d04c-25ec-3fe3-8a34-f822e6522603/gm-tries-to-catch-tesla-by.html');\">\n",
       "<td align=\"right\" width=\"130\">\n",
       "            07:00AM\n",
       "        </td>\n",
       "<td align=\"left\">\n",
       "<div class=\"news-link-container\">\n",
       "<div class=\"news-link-left\">\n",
       "<a class=\"tab-link-news\" href=\"https://finance.yahoo.com/m/d190d04c-25ec-3fe3-8a34-f822e6522603/gm-tries-to-catch-tesla-by.html\" rel=\"nofollow\" target=\"_blank\">GM tries to catch Tesla by following its supply chain playbook</a>\n",
       "</div>\n",
       "<div class=\"news-link-right\">\n",
       "<span>(Financial Times)</span></div></div></td></tr>\n",
       "<tr class=\"cursor-pointer\" onclick=\"trackAndOpenNews(event, 'Investing.com', 'https://finance.yahoo.com/news/tesla-record-breaking-win-streak-082038947.html');\">\n",
       "<td align=\"right\" width=\"130\">\n",
       "            04:20AM\n",
       "        </td>\n",
       "<td align=\"left\">\n",
       "<div class=\"news-link-container\">\n",
       "<div class=\"news-link-left\">\n",
       "<a class=\"tab-link-news\" href=\"https://finance.yahoo.com/news/tesla-record-breaking-win-streak-082038947.html\" rel=\"nofollow\" target=\"_blank\">Teslas record-breaking win streak: This week in EVs</a>\n",
       "</div>\n",
       "<div class=\"news-link-right\">\n",
       "<span>(Investing.com)</span></div></div></td></tr>\n",
       "<tr class=\"cursor-pointer\" onclick=\"trackAndOpenNews(event, 'Investing.com', 'https://finance.yahoo.com/news/week-tech-oracle-adobe-serve-035624491.html');\">\n",
       "<td align=\"right\" width=\"130\">\n",
       "            Jun-17-23 11:56PM\n",
       "        </td>\n",
       "<td align=\"left\">\n",
       "<div class=\"news-link-container\">\n",
       "<div class=\"news-link-left\">\n",
       "<a class=\"tab-link-news\" href=\"https://finance.yahoo.com/news/week-tech-oracle-adobe-serve-035624491.html\" rel=\"nofollow\" target=\"_blank\">This week in tech: Oracle and Adobe serve up earnings beats; AMD's AI reveal</a>\n",
       "</div>\n",
       "<div class=\"news-link-right\">\n",
       "<span>(Investing.com)</span></div></div></td></tr>\n",
       "<tr class=\"cursor-pointer\" onclick=\"trackAndOpenNews(event, 'Fortune', 'https://finance.yahoo.com/news/world-two-richest-men-had-232415264.html');\">\n",
       "<td align=\"right\" width=\"130\">\n",
       "            07:24PM\n",
       "        </td>\n",
       "<td align=\"left\">\n",
       "<div class=\"news-link-container\">\n",
       "<div class=\"news-link-left\">\n",
       "<a class=\"tab-link-news\" href=\"https://finance.yahoo.com/news/world-two-richest-men-had-232415264.html\" rel=\"nofollow\" target=\"_blank\">The worlds two richest men had lunch in Paris as Elon Musks grand tour of Europe continues</a>\n",
       "</div>\n",
       "<div class=\"news-link-right\">\n",
       "<span>(Fortune)</span></div></div></td></tr>\n",
       "<tr class=\"cursor-pointer\" onclick=\"trackAndOpenNews(event, 'Barrons.com', 'https://finance.yahoo.com/m/ddff3bac-96e9-32b6-ae4f-0102d739f5c7/cathie-wood-sold-more-tesla.html');\">\n",
       "<td align=\"right\" width=\"130\">\n",
       "            04:39PM\n",
       "        </td>\n",
       "<td align=\"left\">\n",
       "<div class=\"news-link-container\">\n",
       "<div class=\"news-link-left\">\n",
       "<a class=\"tab-link-news\" href=\"https://finance.yahoo.com/m/ddff3bac-96e9-32b6-ae4f-0102d739f5c7/cathie-wood-sold-more-tesla.html\" rel=\"nofollow\" target=\"_blank\">Cathie Wood Sold More Tesla Stock. She Might Not Be Done.</a>\n",
       "</div>\n",
       "<div class=\"news-link-right\">\n",
       "<span>(Barrons.com)</span></div></div></td></tr>\n",
       "<tr class=\"cursor-pointer\" onclick=\"trackAndOpenNews(event, 'Fox Business', 'https://finance.yahoo.com/news/musk-says-tesla-close-reaching-173638261.html');\">\n",
       "<td align=\"right\" width=\"130\">\n",
       "            01:36PM\n",
       "        </td>\n",
       "<td align=\"left\">\n",
       "<div class=\"news-link-container\">\n",
       "<div class=\"news-link-left\">\n",
       "<a class=\"tab-link-news\" href=\"https://finance.yahoo.com/news/musk-says-tesla-close-reaching-173638261.html\" rel=\"nofollow\" target=\"_blank\">Musk says Tesla close to reaching vehicle autonomy</a>\n",
       "</div>\n",
       "<div class=\"news-link-right\">\n",
       "<span>(Fox Business)</span></div></div></td></tr>\n",
       "<tr class=\"cursor-pointer\" onclick=\"trackAndOpenNews(event, 'Investor\\u0027s Business Daily', 'https://finance.yahoo.com/m/3ce7d1c9-a5c6-39c5-aa87-7a13a2c16297/tesla-vs.-byd-2023%3A-tsla.html');\">\n",
       "<td align=\"right\" width=\"130\">\n",
       "            11:46AM\n",
       "        </td>\n",
       "<td align=\"left\">\n",
       "<div class=\"news-link-container\">\n",
       "<div class=\"news-link-left\">\n",
       "<a class=\"tab-link-news\" href=\"https://finance.yahoo.com/m/3ce7d1c9-a5c6-39c5-aa87-7a13a2c16297/tesla-vs.-byd-2023%3A-tsla.html\" rel=\"nofollow\" target=\"_blank\">Tesla Vs. BYD 2023: TSLA Stock Keeps Powering Higher; EV Archrival Running Too</a>\n",
       "</div>\n",
       "<div class=\"news-link-right\">\n",
       "<span>(Investor's Business Daily)</span></div></div></td></tr>\n",
       "<tr class=\"cursor-pointer\" onclick=\"trackAndOpenNews(event, 'Motley Fool', 'https://finance.yahoo.com/m/fd1620ac-41de-31ad-96c3-d1063440a911/everyone-wants-a-piece-of.html');\">\n",
       "<td align=\"right\" width=\"130\">\n",
       "            10:15AM\n",
       "        </td>\n",
       "<td align=\"left\">\n",
       "<div class=\"news-link-container\">\n",
       "<div class=\"news-link-left\">\n",
       "<a class=\"tab-link-news\" href=\"https://finance.yahoo.com/m/fd1620ac-41de-31ad-96c3-d1063440a911/everyone-wants-a-piece-of.html\" rel=\"nofollow\" target=\"_blank\">Everyone Wants a Piece of Tesla These Days</a>\n",
       "</div>\n",
       "<div class=\"news-link-right\">\n",
       "<span>(Motley Fool)</span></div></div></td></tr>\n",
       "<tr class=\"cursor-pointer\" onclick=\"trackAndOpenNews(event, 'Motley Fool', 'https://finance.yahoo.com/m/739f7ab9-4700-3daf-8b23-806087bc46e9/4-reasons-to-buy-this-tesla.html');\">\n",
       "<td align=\"right\" width=\"130\">\n",
       "            09:24AM\n",
       "        </td>\n",
       "<td align=\"left\">\n",
       "<div class=\"news-link-container\">\n",
       "<div class=\"news-link-left\">\n",
       "<a class=\"tab-link-news\" href=\"https://finance.yahoo.com/m/739f7ab9-4700-3daf-8b23-806087bc46e9/4-reasons-to-buy-this-tesla.html\" rel=\"nofollow\" target=\"_blank\">4 Reasons to Buy This Tesla Rival Hand Over Fist</a>\n",
       "</div>\n",
       "<div class=\"news-link-right\">\n",
       "<span>(Motley Fool)</span></div></div></td></tr>\n",
       "<tr class=\"cursor-pointer\" onclick=\"trackAndOpenNews(event, 'Motley Fool', 'https://finance.yahoo.com/m/1167517f-171a-3265-8cfe-cf40052d0071/elon-musk-talks-about-2-of.html');\">\n",
       "<td align=\"right\" width=\"130\">\n",
       "            05:55AM\n",
       "        </td>\n",
       "<td align=\"left\">\n",
       "<div class=\"news-link-container\">\n",
       "<div class=\"news-link-left\">\n",
       "<a class=\"tab-link-news\" href=\"https://finance.yahoo.com/m/1167517f-171a-3265-8cfe-cf40052d0071/elon-musk-talks-about-2-of.html\" rel=\"nofollow\" target=\"_blank\">Elon Musk Talks About 2 of the Biggest Risks to Civilization. But He's Betting Big on 1 of Them.</a>\n",
       "</div>\n",
       "<div class=\"news-link-right\">\n",
       "<span>(Motley Fool)</span></div></div></td></tr>\n",
       "<tr class=\"cursor-pointer\" onclick=\"trackAndOpenNews(event, 'The Wall Street Journal', 'https://finance.yahoo.com/m/19b694b0-b708-36c5-984b-2db7f1c2b74c/behind-elon-musk%E2%80%99s-management.html');\">\n",
       "<td align=\"right\" width=\"130\">\n",
       "            05:30AM\n",
       "        </td>\n",
       "<td align=\"left\">\n",
       "<div class=\"news-link-container\">\n",
       "<div class=\"news-link-left\">\n",
       "<a class=\"tab-link-news\" href=\"https://finance.yahoo.com/m/19b694b0-b708-36c5-984b-2db7f1c2b74c/behind-elon-musk%E2%80%99s-management.html\" rel=\"nofollow\" target=\"_blank\">Behind Elon Musks Management Philosophy: First Principles</a>\n",
       "</div>\n",
       "<div class=\"news-link-right\">\n",
       "<span>(The Wall Street Journal)</span></div></div></td></tr>\n",
       "<tr class=\"cursor-pointer\" onclick=\"trackAndOpenNews(event, 'Bloomberg', 'https://finance.yahoo.com/news/berlin-risks-water-shortages-fallout-060020471.html');\">\n",
       "<td align=\"right\" width=\"130\">\n",
       "            02:00AM\n",
       "        </td>\n",
       "<td align=\"left\">\n",
       "<div class=\"news-link-container\">\n",
       "<div class=\"news-link-left\">\n",
       "<a class=\"tab-link-news\" href=\"https://finance.yahoo.com/news/berlin-risks-water-shortages-fallout-060020471.html\" rel=\"nofollow\" target=\"_blank\">Berlin Risks Water Shortages in Fallout From Germanys Coal Exit</a>\n",
       "</div>\n",
       "<div class=\"news-link-right\">\n",
       "<span>(Bloomberg)</span></div></div></td></tr>\n",
       "<tr class=\"cursor-pointer\" onclick=\"trackAndOpenNews(event, 'Yahoo Finance Video', 'https://finance.yahoo.com/video/sofi-downgrades-virgin-galactics-flight-204915873.html');\">\n",
       "<td align=\"right\" width=\"130\">\n",
       "            Jun-16-23 04:49PM\n",
       "        </td>\n",
       "<td align=\"left\">\n",
       "<div class=\"news-link-container\">\n",
       "<div class=\"news-link-left\">\n",
       "<a class=\"tab-link-news\" href=\"https://finance.yahoo.com/video/sofi-downgrades-virgin-galactics-flight-204915873.html\" rel=\"nofollow\" target=\"_blank\">SoFi downgrades, Virgin Galactic's flight plans, Musk on Tesla's market cap: Trending tickers</a>\n",
       "</div>\n",
       "<div class=\"news-link-right\">\n",
       "<span>(Yahoo Finance Video)</span></div></div></td></tr>\n",
       "<tr class=\"cursor-pointer\" onclick=\"trackAndOpenNews(event, 'Yahoo Finance Video', 'https://finance.yahoo.com/video/blink-charging-waiting-dust-settle-203415185.html');\">\n",
       "<td align=\"right\" width=\"130\">\n",
       "            04:34PM\n",
       "        </td>\n",
       "<td align=\"left\">\n",
       "<div class=\"news-link-container\">\n",
       "<div class=\"news-link-left\">\n",
       "<a class=\"tab-link-news\" href=\"https://finance.yahoo.com/video/blink-charging-waiting-dust-settle-203415185.html\" rel=\"nofollow\" target=\"_blank\">Blink Charging waiting for 'dust to settle' on Tesla fast-charging deals: CEO</a>\n",
       "</div>\n",
       "<div class=\"news-link-right\">\n",
       "<span>(Yahoo Finance Video)</span></div></div></td></tr>\n",
       "<tr class=\"cursor-pointer\" onclick=\"trackAndOpenNews(event, 'Investopedia', 'https://finance.yahoo.com/m/80151075-abdf-3047-8c12-1c4071c04aa0/markets-ended-the-day-lower.html');\">\n",
       "<td align=\"right\" width=\"130\">\n",
       "            04:33PM\n",
       "        </td>\n",
       "<td align=\"left\">\n",
       "<div class=\"news-link-container\">\n",
       "<div class=\"news-link-left\">\n",
       "<a class=\"tab-link-news\" href=\"https://finance.yahoo.com/m/80151075-abdf-3047-8c12-1c4071c04aa0/markets-ended-the-day-lower.html\" rel=\"nofollow\" target=\"_blank\">Markets Ended the Day Lower on Friday, June 16, 2023, but Up for the Week on Inflation, Fed Optimism</a>\n",
       "</div>\n",
       "<div class=\"news-link-right\">\n",
       "<span>(Investopedia)</span></div></div></td></tr>\n",
       "<tr class=\"cursor-pointer\" onclick=\"trackAndOpenNews(event, 'Investopedia', 'https://finance.yahoo.com/m/80151075-abdf-3047-8c12-1c4071c04aa0/markets-end-friday-lower%2C-but.html');\">\n",
       "<td align=\"right\" width=\"130\">\n",
       "            04:33PM\n",
       "        </td>\n",
       "<td align=\"left\">\n",
       "<div class=\"news-link-container\">\n",
       "<div class=\"news-link-left\">\n",
       "<a class=\"tab-link-news\" href=\"https://finance.yahoo.com/m/80151075-abdf-3047-8c12-1c4071c04aa0/markets-end-friday-lower%2C-but.html\" rel=\"nofollow\" target=\"_blank\">Markets End Friday Lower, but Post Weekly Gains Amid Inflation, Fed Optimism</a>\n",
       "</div>\n",
       "<div class=\"news-link-right\">\n",
       "<span>(Investopedia)</span></div></div></td></tr>\n",
       "<tr class=\"cursor-pointer\" onclick=\"trackAndOpenNews(event, 'Reuters', 'https://finance.yahoo.com/news/1-tesla-loses-bid-overturn-200604380.html');\">\n",
       "<td align=\"right\" width=\"130\">\n",
       "            04:06PM\n",
       "        </td>\n",
       "<td align=\"left\">\n",
       "<div class=\"news-link-container\">\n",
       "<div class=\"news-link-left\">\n",
       "<a class=\"tab-link-news\" href=\"https://finance.yahoo.com/news/1-tesla-loses-bid-overturn-200604380.html\" rel=\"nofollow\" target=\"_blank\">UPDATE 1-Tesla loses bid to overturn Louisianas ban on direct car sales</a>\n",
       "</div>\n",
       "<div class=\"news-link-right\">\n",
       "<span>(Reuters)</span></div></div></td></tr>\n",
       "<tr class=\"cursor-pointer\" onclick=\"trackAndOpenNews(event, 'Investor\\u0027s Business Daily', 'https://finance.yahoo.com/m/aa749ac1-c8dd-3504-adb2-617510219d6c/tesla-stock-gains-27%25-in.html');\">\n",
       "<td align=\"right\" width=\"130\">\n",
       "            04:04PM\n",
       "        </td>\n",
       "<td align=\"left\">\n",
       "<div class=\"news-link-container\">\n",
       "<div class=\"news-link-left\">\n",
       "<a class=\"tab-link-news\" href=\"https://finance.yahoo.com/m/aa749ac1-c8dd-3504-adb2-617510219d6c/tesla-stock-gains-27%25-in.html\" rel=\"nofollow\" target=\"_blank\">Tesla Stock Gains 27% In June; Musk/Macron Meet Amid U.S.-China Diplomatic Tensions</a>\n",
       "</div>\n",
       "<div class=\"news-link-right\">\n",
       "<span>(Investor's Business Daily)</span></div></div></td></tr>\n",
       "<tr class=\"cursor-pointer\" onclick=\"trackAndOpenNews(event, 'Reuters', 'https://finance.yahoo.com/news/tesla-loses-bid-overturn-louisiana-200415321.html');\">\n",
       "<td align=\"right\" width=\"130\">\n",
       "            04:04PM\n",
       "        </td>\n",
       "<td align=\"left\">\n",
       "<div class=\"news-link-container\">\n",
       "<div class=\"news-link-left\">\n",
       "<a class=\"tab-link-news\" href=\"https://finance.yahoo.com/news/tesla-loses-bid-overturn-louisiana-200415321.html\" rel=\"nofollow\" target=\"_blank\">Tesla loses bid to overturn Louisianas ban on direct car sales</a>\n",
       "</div>\n",
       "<div class=\"news-link-right\">\n",
       "<span>(Reuters)</span></div></div></td></tr>\n",
       "<tr class=\"cursor-pointer\" onclick=\"trackAndOpenNews(event, 'Reuters', 'https://finance.yahoo.com/news/tesla-loses-bid-overturn-louisiana-194158047.html');\">\n",
       "<td align=\"right\" width=\"130\">\n",
       "            03:41PM\n",
       "        </td>\n",
       "<td align=\"left\">\n",
       "<div class=\"news-link-container\">\n",
       "<div class=\"news-link-left\">\n",
       "<a class=\"tab-link-news\" href=\"https://finance.yahoo.com/news/tesla-loses-bid-overturn-louisiana-194158047.html\" rel=\"nofollow\" target=\"_blank\">Tesla loses bid to overturn Louisianas ban on direct car sales</a>\n",
       "</div>\n",
       "<div class=\"news-link-right\">\n",
       "<span>(Reuters)</span></div></div></td></tr>\n",
       "<tr class=\"cursor-pointer\" onclick=\"trackAndOpenNews(event, 'Motley Fool', 'https://finance.yahoo.com/m/343f855e-0414-3802-8042-75c9425be23f/why-renewable-energy-stocks.html');\">\n",
       "<td align=\"right\" width=\"130\">\n",
       "            03:38PM\n",
       "        </td>\n",
       "<td align=\"left\">\n",
       "<div class=\"news-link-container\">\n",
       "<div class=\"news-link-left\">\n",
       "<a class=\"tab-link-news\" href=\"https://finance.yahoo.com/m/343f855e-0414-3802-8042-75c9425be23f/why-renewable-energy-stocks.html\" rel=\"nofollow\" target=\"_blank\">Why Renewable Energy Stocks Popped This Week</a>\n",
       "</div>\n",
       "<div class=\"news-link-right\">\n",
       "<span>(Motley Fool)</span></div></div></td></tr>\n",
       "<tr class=\"cursor-pointer\" onclick=\"trackAndOpenNews(event, 'Investor\\u0027s Business Daily', 'https://finance.yahoo.com/m/aa749ac1-c8dd-3504-adb2-617510219d6c/tesla-stock-gains-25%25-in.html');\">\n",
       "<td align=\"right\" width=\"130\">\n",
       "            02:42PM\n",
       "        </td>\n",
       "<td align=\"left\">\n",
       "<div class=\"news-link-container\">\n",
       "<div class=\"news-link-left\">\n",
       "<a class=\"tab-link-news\" href=\"https://finance.yahoo.com/m/aa749ac1-c8dd-3504-adb2-617510219d6c/tesla-stock-gains-25%25-in.html\" rel=\"nofollow\" target=\"_blank\">Tesla Stock Gains 25% In June; Musk/Macron Meet Amid U.S.-China Diplomatic Tensions</a>\n",
       "</div>\n",
       "<div class=\"news-link-right\">\n",
       "<span>(Investor's Business Daily)</span></div></div></td></tr>\n",
       "<tr class=\"cursor-pointer\" onclick=\"trackAndOpenNews(event, 'The Telegraph', 'https://finance.yahoo.com/m/033b092c-9a35-3757-ae01-55ad04e2311f/the-%24470bn-lunch%3A-elon-musk.html');\">\n",
       "<td align=\"right\" width=\"130\">\n",
       "            02:33PM\n",
       "        </td>\n",
       "<td align=\"left\">\n",
       "<div class=\"news-link-container\">\n",
       "<div class=\"news-link-left\">\n",
       "<a class=\"tab-link-news\" href=\"https://finance.yahoo.com/m/033b092c-9a35-3757-ae01-55ad04e2311f/the-%24470bn-lunch%3A-elon-musk.html\" rel=\"nofollow\" target=\"_blank\">The $470bn lunch: Elon Musk and French tycoon Bernard Arnault dine in Paris</a>\n",
       "</div>\n",
       "<div class=\"news-link-right\">\n",
       "<span>(The Telegraph)</span></div></div></td></tr>\n",
       "<tr class=\"cursor-pointer\" onclick=\"trackAndOpenNews(event, 'TheStreet.com', 'https://finance.yahoo.com/m/c5fa6230-9adf-3ab1-8e4d-3610999d82fe/ron-desantis-helps-tesla-and.html');\">\n",
       "<td align=\"right\" width=\"130\">\n",
       "            01:24PM\n",
       "        </td>\n",
       "<td align=\"left\">\n",
       "<div class=\"news-link-container\">\n",
       "<div class=\"news-link-left\">\n",
       "<a class=\"tab-link-news\" href=\"https://finance.yahoo.com/m/c5fa6230-9adf-3ab1-8e4d-3610999d82fe/ron-desantis-helps-tesla-and.html\" rel=\"nofollow\" target=\"_blank\">Ron DeSantis Helps Tesla and Makes Some New Enemies</a>\n",
       "</div>\n",
       "<div class=\"news-link-right\">\n",
       "<span>(TheStreet.com)</span></div></div></td></tr>\n",
       "<tr class=\"cursor-pointer\" onclick=\"trackAndOpenNews(event, 'Benzinga', 'https://finance.yahoo.com/news/teslas-cybertruck-stalled-key-supply-170013976.html');\">\n",
       "<td align=\"right\" width=\"130\">\n",
       "            01:00PM\n",
       "        </td>\n",
       "<td align=\"left\">\n",
       "<div class=\"news-link-container\">\n",
       "<div class=\"news-link-left\">\n",
       "<a class=\"tab-link-news\" href=\"https://finance.yahoo.com/news/teslas-cybertruck-stalled-key-supply-170013976.html\" rel=\"nofollow\" target=\"_blank\">Tesla's Cybertruck Stalled As Key Supply Chain Manager Jumps Ship to Rivian, Causing More Delays</a>\n",
       "</div>\n",
       "<div class=\"news-link-right\">\n",
       "<span>(Benzinga)</span></div></div></td></tr>\n",
       "<tr class=\"cursor-pointer\" onclick=\"trackAndOpenNews(event, 'Fortune', 'https://finance.yahoo.com/news/mercedes-trials-chatgpt-vehicles-help-160220827.html');\">\n",
       "<td align=\"right\" width=\"130\">\n",
       "            12:02PM\n",
       "        </td>\n",
       "<td align=\"left\">\n",
       "<div class=\"news-link-container\">\n",
       "<div class=\"news-link-left\">\n",
       "<a class=\"tab-link-news\" href=\"https://finance.yahoo.com/news/mercedes-trials-chatgpt-vehicles-help-160220827.html\" rel=\"nofollow\" target=\"_blank\">Mercedes trials ChatGPT in its vehicles to help them sound more like humans: Heres how you can take part</a>\n",
       "</div>\n",
       "<div class=\"news-link-right\">\n",
       "<span>(Fortune)</span></div></div></td></tr>\n",
       "<tr class=\"cursor-pointer\" onclick=\"trackAndOpenNews(event, 'Reuters', 'https://finance.yahoo.com/news/factbox-makers-evs-chargers-adopt-155206168.html');\">\n",
       "<td align=\"right\" width=\"130\">\n",
       "            11:52AM\n",
       "        </td>\n",
       "<td align=\"left\">\n",
       "<div class=\"news-link-container\">\n",
       "<div class=\"news-link-left\">\n",
       "<a class=\"tab-link-news\" href=\"https://finance.yahoo.com/news/factbox-makers-evs-chargers-adopt-155206168.html\" rel=\"nofollow\" target=\"_blank\">Factbox-Makers of EVs, chargers adopt Tesla's charging standard</a>\n",
       "</div>\n",
       "<div class=\"news-link-right\">\n",
       "<span>(Reuters)</span></div></div></td></tr>\n",
       "<tr class=\"cursor-pointer\" onclick=\"trackAndOpenNews(event, 'Reuters', 'https://finance.yahoo.com/news/musk-teslas-value-based-primarily-154535802.html');\">\n",
       "<td align=\"right\" width=\"130\">\n",
       "            11:45AM\n",
       "        </td>\n",
       "<td align=\"left\">\n",
       "<div class=\"news-link-container\">\n",
       "<div class=\"news-link-left\">\n",
       "<a class=\"tab-link-news\" href=\"https://finance.yahoo.com/news/musk-teslas-value-based-primarily-154535802.html\" rel=\"nofollow\" target=\"_blank\">Musk says vehicle autonomy is 'main driver' of Tesla value</a>\n",
       "</div>\n",
       "<div class=\"news-link-right\">\n",
       "<span>(Reuters)</span></div></div></td></tr>\n",
       "<tr class=\"cursor-pointer\" onclick=\"trackAndOpenNews(event, 'Reuters', 'https://finance.yahoo.com/news/1-musk-teslas-value-based-154248164.html');\">\n",
       "<td align=\"right\" width=\"130\">\n",
       "            11:42AM\n",
       "        </td>\n",
       "<td align=\"left\">\n",
       "<div class=\"news-link-container\">\n",
       "<div class=\"news-link-left\">\n",
       "<a class=\"tab-link-news\" href=\"https://finance.yahoo.com/news/1-musk-teslas-value-based-154248164.html\" rel=\"nofollow\" target=\"_blank\">UPDATE 2-Musk says vehicle autonomy is 'main driver' of Tesla value</a>\n",
       "</div>\n",
       "<div class=\"news-link-right\">\n",
       "<span>(Reuters)</span></div></div></td></tr>\n",
       "<tr class=\"cursor-pointer\" onclick=\"trackAndOpenNews(event, 'Reuters', 'https://finance.yahoo.com/news/elon-musk-repeats-call-artificial-151526977.html');\">\n",
       "<td align=\"right\" width=\"130\">\n",
       "            11:15AM\n",
       "        </td>\n",
       "<td align=\"left\">\n",
       "<div class=\"news-link-container\">\n",
       "<div class=\"news-link-left\">\n",
       "<a class=\"tab-link-news\" href=\"https://finance.yahoo.com/news/elon-musk-repeats-call-artificial-151526977.html\" rel=\"nofollow\" target=\"_blank\">Elon Musk repeats call for artificial intelligence regulation</a>\n",
       "</div>\n",
       "<div class=\"news-link-right\">\n",
       "<span>(Reuters)</span></div></div></td></tr>\n",
       "<tr class=\"cursor-pointer\" onclick=\"trackAndOpenNews(event, 'Reuters', 'https://finance.yahoo.com/news/musk-teslas-value-based-primarily-150527304.html');\">\n",
       "<td align=\"right\" width=\"130\">\n",
       "            11:05AM\n",
       "        </td>\n",
       "<td align=\"left\">\n",
       "<div class=\"news-link-container\">\n",
       "<div class=\"news-link-left\">\n",
       "<a class=\"tab-link-news\" href=\"https://finance.yahoo.com/news/musk-teslas-value-based-primarily-150527304.html\" rel=\"nofollow\" target=\"_blank\">Musk: Tesla's value is based primarily on autonomy</a>\n",
       "</div>\n",
       "<div class=\"news-link-right\">\n",
       "<span>(Reuters)</span></div></div></td></tr>\n",
       "<tr class=\"cursor-pointer\" onclick=\"trackAndOpenNews(event, 'Reuters', 'https://finance.yahoo.com/news/elon-musk-seeing-time-highs-145451664.html');\">\n",
       "<td align=\"right\" width=\"130\">\n",
       "            10:54AM\n",
       "        </td>\n",
       "<td align=\"left\">\n",
       "<div class=\"news-link-container\">\n",
       "<div class=\"news-link-left\">\n",
       "<a class=\"tab-link-news\" href=\"https://finance.yahoo.com/news/elon-musk-seeing-time-highs-145451664.html\" rel=\"nofollow\" target=\"_blank\">Elon Musk: seeing all-time highs in terms of Twitter use</a>\n",
       "</div>\n",
       "<div class=\"news-link-right\">\n",
       "<span>(Reuters)</span></div></div></td></tr>\n",
       "<tr class=\"cursor-pointer\" onclick=\"trackAndOpenNews(event, 'TheStreet.com', 'https://finance.yahoo.com/m/c5fa6230-9adf-3ab1-8e4d-3610999d82fe/why-ford%2C-gm%2C-and-toyota-are.html');\">\n",
       "<td align=\"right\" width=\"130\">\n",
       "            10:53AM\n",
       "        </td>\n",
       "<td align=\"left\">\n",
       "<div class=\"news-link-container\">\n",
       "<div class=\"news-link-left\">\n",
       "<a class=\"tab-link-news\" href=\"https://finance.yahoo.com/m/c5fa6230-9adf-3ab1-8e4d-3610999d82fe/why-ford%2C-gm%2C-and-toyota-are.html\" rel=\"nofollow\" target=\"_blank\">Why Ford, GM, and Toyota Are Mad At DeSantis (Tesla Isn't)</a>\n",
       "</div>\n",
       "<div class=\"news-link-right\">\n",
       "<span>(TheStreet.com)</span></div></div></td></tr>\n",
       "</table>"
      ]
     },
     "execution_count": 50,
     "metadata": {},
     "output_type": "execute_result"
    }
   ],
   "source": [
    "def get_news(ticker):\n",
    "    url = finviz_url + ticker\n",
    "    req = Request(url=url,headers={'User-Agent': 'Mozilla/5.0 (Windows NT 6.1; WOW64; rv:20.0) Gecko/20100101 Firefox/20.0'}) \n",
    "    response = urlopen(req)    \n",
    "    # Read the contents of the file into 'html'\n",
    "    html = BeautifulSoup(response)\n",
    "    # Find 'news-table' in the Soup and load it into 'news_table'\n",
    "    news_table = html.find(id='news-table')\n",
    "    return news_table\n",
    "\n",
    "ticker = 'TSLA'\n",
    "amz = get_news(ticker)\n",
    "amz # pure html code, data is not parsed yet"
   ]
  },
  {
   "attachments": {},
   "cell_type": "markdown",
   "metadata": {},
   "source": [
    "## Parsing News into DF"
   ]
  },
  {
   "attachments": {},
   "cell_type": "markdown",
   "metadata": {},
   "source": []
  },
  {
   "cell_type": "code",
   "execution_count": 51,
   "metadata": {},
   "outputs": [],
   "source": [
    "def parse_news(news_table):\n",
    "    parsed_news = []\n",
    "    \n",
    "    for x in news_table.findAll('tr'):\n",
    "        # check if 'a' tag is present in the 'tr' tag\n",
    "        if x.a is not None:\n",
    "            # read the text from 'a' tag into text\n",
    "            text = x.a.get_text() \n",
    "            # splite text in the td tag into a list \n",
    "            date_scrape = x.td.text.split()\n",
    "            # if the length of 'date_scrape' is 1, load 'time' as the only element\n",
    "            if len(date_scrape) == 1:\n",
    "                time = date_scrape[0]\n",
    "            # else load 'date' as the 1st element and 'time' as the second    \n",
    "            else:\n",
    "                date = date_scrape[0]\n",
    "                time = date_scrape[1]\n",
    "            # Append ticker, date, time and headline as a list to the 'parsed_news' list\n",
    "            parsed_news.append([date, time, text])        \n",
    "    # Set column names\n",
    "    columns = ['date', 'time', 'headline']\n",
    "    # Convert the parsed_news list into a DataFrame called 'parsed_and_scored_news'\n",
    "    parsed_news_df = pd.DataFrame(parsed_news, columns=columns)        \n",
    "    # Create a pandas datetime object from the strings in 'date' and 'time' column\n",
    "    parsed_news_df['datetime'] = pd.to_datetime(parsed_news_df['date'] + ' ' + parsed_news_df['time'])\n",
    "    \n",
    "    return parsed_news_df\n"
   ]
  },
  {
   "cell_type": "code",
   "execution_count": 52,
   "metadata": {},
   "outputs": [
    {
     "name": "stderr",
     "output_type": "stream",
     "text": [
      "C:\\Users\\saish\\AppData\\Local\\Temp\\ipykernel_16388\\1631053543.py:25: UserWarning:\n",
      "\n",
      "Could not infer format, so each element will be parsed individually, falling back to `dateutil`. To ensure parsing is consistent and as-expected, please specify a format.\n",
      "\n"
     ]
    }
   ],
   "source": [
    "parsed_news_df = parse_news(amz)\n"
   ]
  },
  {
   "cell_type": "code",
   "execution_count": 53,
   "metadata": {},
   "outputs": [
    {
     "data": {
      "text/html": [
       "<div>\n",
       "<style scoped>\n",
       "    .dataframe tbody tr th:only-of-type {\n",
       "        vertical-align: middle;\n",
       "    }\n",
       "\n",
       "    .dataframe tbody tr th {\n",
       "        vertical-align: top;\n",
       "    }\n",
       "\n",
       "    .dataframe thead th {\n",
       "        text-align: right;\n",
       "    }\n",
       "</style>\n",
       "<table border=\"1\" class=\"dataframe\">\n",
       "  <thead>\n",
       "    <tr style=\"text-align: right;\">\n",
       "      <th></th>\n",
       "      <th>date</th>\n",
       "      <th>time</th>\n",
       "      <th>headline</th>\n",
       "      <th>datetime</th>\n",
       "    </tr>\n",
       "  </thead>\n",
       "  <tbody>\n",
       "    <tr>\n",
       "      <th>0</th>\n",
       "      <td>Jun-20-23</td>\n",
       "      <td>04:13PM</td>\n",
       "      <td>Tesla Stock Charges Up After Rivian Signs Off ...</td>\n",
       "      <td>2023-06-20 16:13:00</td>\n",
       "    </tr>\n",
       "    <tr>\n",
       "      <th>1</th>\n",
       "      <td>Jun-20-23</td>\n",
       "      <td>04:07PM</td>\n",
       "      <td>Tesla Stock Hit 8-Month High Friday; Cathie Wo...</td>\n",
       "      <td>2023-06-20 16:07:00</td>\n",
       "    </tr>\n",
       "    <tr>\n",
       "      <th>2</th>\n",
       "      <td>Jun-20-23</td>\n",
       "      <td>04:06PM</td>\n",
       "      <td>Rivian to Use Teslas Charging Network, Follows...</td>\n",
       "      <td>2023-06-20 16:06:00</td>\n",
       "    </tr>\n",
       "    <tr>\n",
       "      <th>3</th>\n",
       "      <td>Jun-20-23</td>\n",
       "      <td>04:00PM</td>\n",
       "      <td>US STOCKS-S&amp;P 500 ends lower, pausing rally wi...</td>\n",
       "      <td>2023-06-20 16:00:00</td>\n",
       "    </tr>\n",
       "    <tr>\n",
       "      <th>4</th>\n",
       "      <td>Jun-20-23</td>\n",
       "      <td>03:58PM</td>\n",
       "      <td>Tesla Recruits Another Rival to Use Its Superc...</td>\n",
       "      <td>2023-06-20 15:58:00</td>\n",
       "    </tr>\n",
       "    <tr>\n",
       "      <th>...</th>\n",
       "      <td>...</td>\n",
       "      <td>...</td>\n",
       "      <td>...</td>\n",
       "      <td>...</td>\n",
       "    </tr>\n",
       "    <tr>\n",
       "      <th>95</th>\n",
       "      <td>Jun-16-23</td>\n",
       "      <td>11:42AM</td>\n",
       "      <td>UPDATE 2-Musk says vehicle autonomy is 'main d...</td>\n",
       "      <td>2023-06-16 11:42:00</td>\n",
       "    </tr>\n",
       "    <tr>\n",
       "      <th>96</th>\n",
       "      <td>Jun-16-23</td>\n",
       "      <td>11:15AM</td>\n",
       "      <td>Elon Musk repeats call for artificial intellig...</td>\n",
       "      <td>2023-06-16 11:15:00</td>\n",
       "    </tr>\n",
       "    <tr>\n",
       "      <th>97</th>\n",
       "      <td>Jun-16-23</td>\n",
       "      <td>11:05AM</td>\n",
       "      <td>Musk: Tesla's value is based primarily on auto...</td>\n",
       "      <td>2023-06-16 11:05:00</td>\n",
       "    </tr>\n",
       "    <tr>\n",
       "      <th>98</th>\n",
       "      <td>Jun-16-23</td>\n",
       "      <td>10:54AM</td>\n",
       "      <td>Elon Musk: seeing all-time highs in terms of T...</td>\n",
       "      <td>2023-06-16 10:54:00</td>\n",
       "    </tr>\n",
       "    <tr>\n",
       "      <th>99</th>\n",
       "      <td>Jun-16-23</td>\n",
       "      <td>10:53AM</td>\n",
       "      <td>Why Ford, GM, and Toyota Are Mad At DeSantis (...</td>\n",
       "      <td>2023-06-16 10:53:00</td>\n",
       "    </tr>\n",
       "  </tbody>\n",
       "</table>\n",
       "<p>100 rows × 4 columns</p>\n",
       "</div>"
      ],
      "text/plain": [
       "         date     time                                           headline   \n",
       "0   Jun-20-23  04:13PM  Tesla Stock Charges Up After Rivian Signs Off ...  \\\n",
       "1   Jun-20-23  04:07PM  Tesla Stock Hit 8-Month High Friday; Cathie Wo...   \n",
       "2   Jun-20-23  04:06PM  Rivian to Use Teslas Charging Network, Follows...   \n",
       "3   Jun-20-23  04:00PM  US STOCKS-S&P 500 ends lower, pausing rally wi...   \n",
       "4   Jun-20-23  03:58PM  Tesla Recruits Another Rival to Use Its Superc...   \n",
       "..        ...      ...                                                ...   \n",
       "95  Jun-16-23  11:42AM  UPDATE 2-Musk says vehicle autonomy is 'main d...   \n",
       "96  Jun-16-23  11:15AM  Elon Musk repeats call for artificial intellig...   \n",
       "97  Jun-16-23  11:05AM  Musk: Tesla's value is based primarily on auto...   \n",
       "98  Jun-16-23  10:54AM  Elon Musk: seeing all-time highs in terms of T...   \n",
       "99  Jun-16-23  10:53AM  Why Ford, GM, and Toyota Are Mad At DeSantis (...   \n",
       "\n",
       "              datetime  \n",
       "0  2023-06-20 16:13:00  \n",
       "1  2023-06-20 16:07:00  \n",
       "2  2023-06-20 16:06:00  \n",
       "3  2023-06-20 16:00:00  \n",
       "4  2023-06-20 15:58:00  \n",
       "..                 ...  \n",
       "95 2023-06-16 11:42:00  \n",
       "96 2023-06-16 11:15:00  \n",
       "97 2023-06-16 11:05:00  \n",
       "98 2023-06-16 10:54:00  \n",
       "99 2023-06-16 10:53:00  \n",
       "\n",
       "[100 rows x 4 columns]"
      ]
     },
     "execution_count": 53,
     "metadata": {},
     "output_type": "execute_result"
    }
   ],
   "source": [
    "parsed_news_df"
   ]
  },
  {
   "attachments": {},
   "cell_type": "markdown",
   "metadata": {},
   "source": [
    "## Scores for Sentiment Analysis"
   ]
  },
  {
   "cell_type": "code",
   "execution_count": 54,
   "metadata": {},
   "outputs": [
    {
     "data": {
      "text/html": [
       "<div>\n",
       "<style scoped>\n",
       "    .dataframe tbody tr th:only-of-type {\n",
       "        vertical-align: middle;\n",
       "    }\n",
       "\n",
       "    .dataframe tbody tr th {\n",
       "        vertical-align: top;\n",
       "    }\n",
       "\n",
       "    .dataframe thead th {\n",
       "        text-align: right;\n",
       "    }\n",
       "</style>\n",
       "<table border=\"1\" class=\"dataframe\">\n",
       "  <thead>\n",
       "    <tr style=\"text-align: right;\">\n",
       "      <th></th>\n",
       "      <th>headline</th>\n",
       "      <th>neg</th>\n",
       "      <th>neu</th>\n",
       "      <th>pos</th>\n",
       "      <th>sentiment_score</th>\n",
       "    </tr>\n",
       "    <tr>\n",
       "      <th>datetime</th>\n",
       "      <th></th>\n",
       "      <th></th>\n",
       "      <th></th>\n",
       "      <th></th>\n",
       "      <th></th>\n",
       "    </tr>\n",
       "  </thead>\n",
       "  <tbody>\n",
       "    <tr>\n",
       "      <th>2023-06-20 16:13:00</th>\n",
       "      <td>Tesla Stock Charges Up After Rivian Signs Off ...</td>\n",
       "      <td>0.174</td>\n",
       "      <td>0.826</td>\n",
       "      <td>0.0</td>\n",
       "      <td>-0.2732</td>\n",
       "    </tr>\n",
       "    <tr>\n",
       "      <th>2023-06-20 16:07:00</th>\n",
       "      <td>Tesla Stock Hit 8-Month High Friday; Cathie Wo...</td>\n",
       "      <td>0.000</td>\n",
       "      <td>1.000</td>\n",
       "      <td>0.0</td>\n",
       "      <td>0.0000</td>\n",
       "    </tr>\n",
       "    <tr>\n",
       "      <th>2023-06-20 16:06:00</th>\n",
       "      <td>Rivian to Use Teslas Charging Network, Follows...</td>\n",
       "      <td>0.000</td>\n",
       "      <td>1.000</td>\n",
       "      <td>0.0</td>\n",
       "      <td>0.0000</td>\n",
       "    </tr>\n",
       "    <tr>\n",
       "      <th>2023-06-20 16:00:00</th>\n",
       "      <td>US STOCKS-S&amp;P 500 ends lower, pausing rally wi...</td>\n",
       "      <td>0.167</td>\n",
       "      <td>0.833</td>\n",
       "      <td>0.0</td>\n",
       "      <td>-0.2960</td>\n",
       "    </tr>\n",
       "    <tr>\n",
       "      <th>2023-06-20 15:58:00</th>\n",
       "      <td>Tesla Recruits Another Rival to Use Its Superc...</td>\n",
       "      <td>0.000</td>\n",
       "      <td>1.000</td>\n",
       "      <td>0.0</td>\n",
       "      <td>0.0000</td>\n",
       "    </tr>\n",
       "  </tbody>\n",
       "</table>\n",
       "</div>"
      ],
      "text/plain": [
       "                                                              headline    neg   \n",
       "datetime                                                                        \n",
       "2023-06-20 16:13:00  Tesla Stock Charges Up After Rivian Signs Off ...  0.174  \\\n",
       "2023-06-20 16:07:00  Tesla Stock Hit 8-Month High Friday; Cathie Wo...  0.000   \n",
       "2023-06-20 16:06:00  Rivian to Use Teslas Charging Network, Follows...  0.000   \n",
       "2023-06-20 16:00:00  US STOCKS-S&P 500 ends lower, pausing rally wi...  0.167   \n",
       "2023-06-20 15:58:00  Tesla Recruits Another Rival to Use Its Superc...  0.000   \n",
       "\n",
       "                       neu  pos  sentiment_score  \n",
       "datetime                                          \n",
       "2023-06-20 16:13:00  0.826  0.0          -0.2732  \n",
       "2023-06-20 16:07:00  1.000  0.0           0.0000  \n",
       "2023-06-20 16:06:00  1.000  0.0           0.0000  \n",
       "2023-06-20 16:00:00  0.833  0.0          -0.2960  \n",
       "2023-06-20 15:58:00  1.000  0.0           0.0000  "
      ]
     },
     "execution_count": 54,
     "metadata": {},
     "output_type": "execute_result"
    }
   ],
   "source": [
    "def score_news(parsed_news_df):\n",
    "    # Instantiate the sentiment intensity analyzer\n",
    "    vader = SentimentIntensityAnalyzer()\n",
    "    \n",
    "    # Iterate through the headlines and get the polarity scores using vader\n",
    "    scores = parsed_news_df['headline'].apply(vader.polarity_scores).tolist()\n",
    "\n",
    "    # Convert the 'scores' list of dicts into a DataFrame\n",
    "    scores_df = pd.DataFrame(scores)\n",
    "\n",
    "    # Join the DataFrames of the news and the list of dicts\n",
    "    parsed_and_scored_news = parsed_news_df.join(scores_df, rsuffix='_right')        \n",
    "    parsed_and_scored_news = parsed_and_scored_news.set_index('datetime')    \n",
    "    parsed_and_scored_news = parsed_and_scored_news.drop(['date', 'time'], axis = 1)          \n",
    "    parsed_and_scored_news = parsed_and_scored_news.rename(columns={\"compound\": \"sentiment_score\"})\n",
    "    #parsed_and_scored_news.set_index('datetime', inplace=True)\n",
    "    return parsed_and_scored_news\n",
    "\n",
    "parsed_and_scored_news = score_news(parsed_news_df)\n",
    "parsed_and_scored_news.head()"
   ]
  },
  {
   "cell_type": "code",
   "execution_count": 55,
   "metadata": {},
   "outputs": [
    {
     "data": {
      "text/html": [
       "<div>\n",
       "<style scoped>\n",
       "    .dataframe tbody tr th:only-of-type {\n",
       "        vertical-align: middle;\n",
       "    }\n",
       "\n",
       "    .dataframe tbody tr th {\n",
       "        vertical-align: top;\n",
       "    }\n",
       "\n",
       "    .dataframe thead th {\n",
       "        text-align: right;\n",
       "    }\n",
       "</style>\n",
       "<table border=\"1\" class=\"dataframe\">\n",
       "  <thead>\n",
       "    <tr style=\"text-align: right;\">\n",
       "      <th></th>\n",
       "      <th>neg</th>\n",
       "      <th>neu</th>\n",
       "      <th>pos</th>\n",
       "      <th>sentiment_score</th>\n",
       "    </tr>\n",
       "    <tr>\n",
       "      <th>datetime</th>\n",
       "      <th></th>\n",
       "      <th></th>\n",
       "      <th></th>\n",
       "      <th></th>\n",
       "    </tr>\n",
       "  </thead>\n",
       "  <tbody>\n",
       "    <tr>\n",
       "      <th>2023-06-16 10:00:00</th>\n",
       "      <td>0.121000</td>\n",
       "      <td>0.879000</td>\n",
       "      <td>0.000000</td>\n",
       "      <td>-0.246950</td>\n",
       "    </tr>\n",
       "    <tr>\n",
       "      <th>2023-06-16 11:00:00</th>\n",
       "      <td>0.000000</td>\n",
       "      <td>0.767600</td>\n",
       "      <td>0.232400</td>\n",
       "      <td>0.334920</td>\n",
       "    </tr>\n",
       "    <tr>\n",
       "      <th>2023-06-16 12:00:00</th>\n",
       "      <td>0.000000</td>\n",
       "      <td>0.756000</td>\n",
       "      <td>0.244000</td>\n",
       "      <td>0.669700</td>\n",
       "    </tr>\n",
       "    <tr>\n",
       "      <th>2023-06-16 13:00:00</th>\n",
       "      <td>0.182000</td>\n",
       "      <td>0.716500</td>\n",
       "      <td>0.101500</td>\n",
       "      <td>-0.177700</td>\n",
       "    </tr>\n",
       "    <tr>\n",
       "      <th>2023-06-16 14:00:00</th>\n",
       "      <td>0.089500</td>\n",
       "      <td>0.831000</td>\n",
       "      <td>0.079500</td>\n",
       "      <td>-0.038600</td>\n",
       "    </tr>\n",
       "    <tr>\n",
       "      <th>...</th>\n",
       "      <td>...</td>\n",
       "      <td>...</td>\n",
       "      <td>...</td>\n",
       "      <td>...</td>\n",
       "    </tr>\n",
       "    <tr>\n",
       "      <th>2023-06-20 12:00:00</th>\n",
       "      <td>0.000000</td>\n",
       "      <td>0.851000</td>\n",
       "      <td>0.149000</td>\n",
       "      <td>0.236150</td>\n",
       "    </tr>\n",
       "    <tr>\n",
       "      <th>2023-06-20 13:00:00</th>\n",
       "      <td>0.025429</td>\n",
       "      <td>0.910571</td>\n",
       "      <td>0.064000</td>\n",
       "      <td>0.084771</td>\n",
       "    </tr>\n",
       "    <tr>\n",
       "      <th>2023-06-20 14:00:00</th>\n",
       "      <td>0.000000</td>\n",
       "      <td>1.000000</td>\n",
       "      <td>0.000000</td>\n",
       "      <td>0.000000</td>\n",
       "    </tr>\n",
       "    <tr>\n",
       "      <th>2023-06-20 15:00:00</th>\n",
       "      <td>0.000000</td>\n",
       "      <td>0.831167</td>\n",
       "      <td>0.168833</td>\n",
       "      <td>0.186100</td>\n",
       "    </tr>\n",
       "    <tr>\n",
       "      <th>2023-06-20 16:00:00</th>\n",
       "      <td>0.085250</td>\n",
       "      <td>0.914750</td>\n",
       "      <td>0.000000</td>\n",
       "      <td>-0.142300</td>\n",
       "    </tr>\n",
       "  </tbody>\n",
       "</table>\n",
       "<p>103 rows × 4 columns</p>\n",
       "</div>"
      ],
      "text/plain": [
       "                          neg       neu       pos  sentiment_score\n",
       "datetime                                                          \n",
       "2023-06-16 10:00:00  0.121000  0.879000  0.000000        -0.246950\n",
       "2023-06-16 11:00:00  0.000000  0.767600  0.232400         0.334920\n",
       "2023-06-16 12:00:00  0.000000  0.756000  0.244000         0.669700\n",
       "2023-06-16 13:00:00  0.182000  0.716500  0.101500        -0.177700\n",
       "2023-06-16 14:00:00  0.089500  0.831000  0.079500        -0.038600\n",
       "...                       ...       ...       ...              ...\n",
       "2023-06-20 12:00:00  0.000000  0.851000  0.149000         0.236150\n",
       "2023-06-20 13:00:00  0.025429  0.910571  0.064000         0.084771\n",
       "2023-06-20 14:00:00  0.000000  1.000000  0.000000         0.000000\n",
       "2023-06-20 15:00:00  0.000000  0.831167  0.168833         0.186100\n",
       "2023-06-20 16:00:00  0.085250  0.914750  0.000000        -0.142300\n",
       "\n",
       "[103 rows x 4 columns]"
      ]
     },
     "execution_count": 55,
     "metadata": {},
     "output_type": "execute_result"
    }
   ],
   "source": [
    "mean_scores = parsed_and_scored_news.drop('headline', axis=1).resample('H').mean()\n",
    "\n",
    "mean_scores"
   ]
  },
  {
   "attachments": {},
   "cell_type": "markdown",
   "metadata": {},
   "source": [
    "## Hourly Sentiment "
   ]
  },
  {
   "cell_type": "code",
   "execution_count": 60,
   "metadata": {},
   "outputs": [
    {
     "data": {
      "application/vnd.plotly.v1+json": {
       "config": {
        "plotlyServerURL": "https://plot.ly"
       },
       "data": [
        {
         "marker": {
          "color": [
           "red",
           "green",
           "green",
           "red",
           "red",
           "red",
           "red",
           "red",
           "red",
           "red",
           "red",
           "red",
           "red",
           "red",
           "red",
           "red",
           "red",
           "red",
           "red",
           "red",
           "red",
           "red",
           "red",
           "green",
           "red",
           "red",
           "red",
           "green",
           "red",
           "red",
           "red",
           "red",
           "red",
           "green",
           "red",
           "red",
           "red",
           "red",
           "red",
           "red",
           "red",
           "red",
           "green",
           "red",
           "red",
           "red",
           "green",
           "red",
           "red",
           "red",
           "red",
           "red",
           "red",
           "red",
           "green",
           "green",
           "red",
           "red",
           "red",
           "red",
           "red",
           "red",
           "red",
           "red",
           "red",
           "red",
           "red",
           "red",
           "red",
           "red",
           "red",
           "green",
           "red",
           "green",
           "red",
           "red",
           "red",
           "green",
           "red",
           "red",
           "red",
           "red",
           "red",
           "red",
           "red",
           "red",
           "red",
           "red",
           "red",
           "red",
           "red",
           "red",
           "green",
           "red",
           "green",
           "red",
           "green",
           "green",
           "green",
           "green",
           "red",
           "green",
           "red"
          ]
         },
         "type": "bar",
         "x": [
          "2023-06-16T10:00:00",
          "2023-06-16T11:00:00",
          "2023-06-16T12:00:00",
          "2023-06-16T13:00:00",
          "2023-06-16T14:00:00",
          "2023-06-16T15:00:00",
          "2023-06-16T16:00:00",
          "2023-06-16T17:00:00",
          "2023-06-16T18:00:00",
          "2023-06-16T19:00:00",
          "2023-06-16T20:00:00",
          "2023-06-16T21:00:00",
          "2023-06-16T22:00:00",
          "2023-06-16T23:00:00",
          "2023-06-17T00:00:00",
          "2023-06-17T01:00:00",
          "2023-06-17T02:00:00",
          "2023-06-17T03:00:00",
          "2023-06-17T04:00:00",
          "2023-06-17T05:00:00",
          "2023-06-17T06:00:00",
          "2023-06-17T07:00:00",
          "2023-06-17T08:00:00",
          "2023-06-17T09:00:00",
          "2023-06-17T10:00:00",
          "2023-06-17T11:00:00",
          "2023-06-17T12:00:00",
          "2023-06-17T13:00:00",
          "2023-06-17T14:00:00",
          "2023-06-17T15:00:00",
          "2023-06-17T16:00:00",
          "2023-06-17T17:00:00",
          "2023-06-17T18:00:00",
          "2023-06-17T19:00:00",
          "2023-06-17T20:00:00",
          "2023-06-17T21:00:00",
          "2023-06-17T22:00:00",
          "2023-06-17T23:00:00",
          "2023-06-18T00:00:00",
          "2023-06-18T01:00:00",
          "2023-06-18T02:00:00",
          "2023-06-18T03:00:00",
          "2023-06-18T04:00:00",
          "2023-06-18T05:00:00",
          "2023-06-18T06:00:00",
          "2023-06-18T07:00:00",
          "2023-06-18T08:00:00",
          "2023-06-18T09:00:00",
          "2023-06-18T10:00:00",
          "2023-06-18T11:00:00",
          "2023-06-18T12:00:00",
          "2023-06-18T13:00:00",
          "2023-06-18T14:00:00",
          "2023-06-18T15:00:00",
          "2023-06-18T16:00:00",
          "2023-06-18T17:00:00",
          "2023-06-18T18:00:00",
          "2023-06-18T19:00:00",
          "2023-06-18T20:00:00",
          "2023-06-18T21:00:00",
          "2023-06-18T22:00:00",
          "2023-06-18T23:00:00",
          "2023-06-19T00:00:00",
          "2023-06-19T01:00:00",
          "2023-06-19T02:00:00",
          "2023-06-19T03:00:00",
          "2023-06-19T04:00:00",
          "2023-06-19T05:00:00",
          "2023-06-19T06:00:00",
          "2023-06-19T07:00:00",
          "2023-06-19T08:00:00",
          "2023-06-19T09:00:00",
          "2023-06-19T10:00:00",
          "2023-06-19T11:00:00",
          "2023-06-19T12:00:00",
          "2023-06-19T13:00:00",
          "2023-06-19T14:00:00",
          "2023-06-19T15:00:00",
          "2023-06-19T16:00:00",
          "2023-06-19T17:00:00",
          "2023-06-19T18:00:00",
          "2023-06-19T19:00:00",
          "2023-06-19T20:00:00",
          "2023-06-19T21:00:00",
          "2023-06-19T22:00:00",
          "2023-06-19T23:00:00",
          "2023-06-20T00:00:00",
          "2023-06-20T01:00:00",
          "2023-06-20T02:00:00",
          "2023-06-20T03:00:00",
          "2023-06-20T04:00:00",
          "2023-06-20T05:00:00",
          "2023-06-20T06:00:00",
          "2023-06-20T07:00:00",
          "2023-06-20T08:00:00",
          "2023-06-20T09:00:00",
          "2023-06-20T10:00:00",
          "2023-06-20T11:00:00",
          "2023-06-20T12:00:00",
          "2023-06-20T13:00:00",
          "2023-06-20T14:00:00",
          "2023-06-20T15:00:00",
          "2023-06-20T16:00:00"
         ],
         "y": [
          -0.24695,
          0.33492,
          0.6697,
          -0.17770000000000002,
          -0.0386,
          -0.2182,
          -0.008671428571428583,
          null,
          null,
          null,
          null,
          null,
          null,
          null,
          null,
          null,
          -0.4019,
          null,
          null,
          -0.0703,
          null,
          null,
          null,
          0.4939,
          0,
          0,
          null,
          0.2023,
          null,
          null,
          0,
          null,
          null,
          0.7506,
          null,
          null,
          null,
          0,
          null,
          null,
          null,
          null,
          0.5859,
          null,
          null,
          0,
          0.6705,
          0,
          null,
          null,
          null,
          null,
          null,
          -0.2263,
          0.5574,
          0.1027,
          0,
          null,
          null,
          null,
          null,
          null,
          null,
          null,
          null,
          null,
          0,
          null,
          0,
          null,
          null,
          0.1909,
          -0.5095,
          0.8074,
          null,
          null,
          null,
          0.0498,
          null,
          null,
          null,
          null,
          null,
          null,
          null,
          null,
          null,
          0,
          null,
          0,
          0,
          -0.2787,
          0.6124,
          -0.2986,
          0.30989999999999995,
          -0.2961666666666667,
          0.055014285714285724,
          0.17263333333333333,
          0.23614999999999997,
          0.08477142857142858,
          0,
          0.18610000000000002,
          -0.14229999999999998
         ]
        }
       ],
       "layout": {
        "coloraxis": {
         "colorbar": {
          "len": 0.6,
          "thickness": 15,
          "tickfont": {
           "color": "#f4f4f4"
          },
          "tickmode": "array",
          "ticks": "outside",
          "ticktext": [
           "Negative",
           "Neutral",
           "Positive"
          ],
          "tickvals": [
           -1,
           0,
           1
          ],
          "title": {
           "text": "Sentiment"
          }
         }
        },
        "font": {
         "color": "#f4f4f4"
        },
        "paper_bgcolor": "#01111b",
        "plot_bgcolor": "#01111b",
        "template": {
         "data": {
          "bar": [
           {
            "error_x": {
             "color": "#2a3f5f"
            },
            "error_y": {
             "color": "#2a3f5f"
            },
            "marker": {
             "line": {
              "color": "#E5ECF6",
              "width": 0.5
             },
             "pattern": {
              "fillmode": "overlay",
              "size": 10,
              "solidity": 0.2
             }
            },
            "type": "bar"
           }
          ],
          "barpolar": [
           {
            "marker": {
             "line": {
              "color": "#E5ECF6",
              "width": 0.5
             },
             "pattern": {
              "fillmode": "overlay",
              "size": 10,
              "solidity": 0.2
             }
            },
            "type": "barpolar"
           }
          ],
          "carpet": [
           {
            "aaxis": {
             "endlinecolor": "#2a3f5f",
             "gridcolor": "white",
             "linecolor": "white",
             "minorgridcolor": "white",
             "startlinecolor": "#2a3f5f"
            },
            "baxis": {
             "endlinecolor": "#2a3f5f",
             "gridcolor": "white",
             "linecolor": "white",
             "minorgridcolor": "white",
             "startlinecolor": "#2a3f5f"
            },
            "type": "carpet"
           }
          ],
          "choropleth": [
           {
            "colorbar": {
             "outlinewidth": 0,
             "ticks": ""
            },
            "type": "choropleth"
           }
          ],
          "contour": [
           {
            "colorbar": {
             "outlinewidth": 0,
             "ticks": ""
            },
            "colorscale": [
             [
              0,
              "#0d0887"
             ],
             [
              0.1111111111111111,
              "#46039f"
             ],
             [
              0.2222222222222222,
              "#7201a8"
             ],
             [
              0.3333333333333333,
              "#9c179e"
             ],
             [
              0.4444444444444444,
              "#bd3786"
             ],
             [
              0.5555555555555556,
              "#d8576b"
             ],
             [
              0.6666666666666666,
              "#ed7953"
             ],
             [
              0.7777777777777778,
              "#fb9f3a"
             ],
             [
              0.8888888888888888,
              "#fdca26"
             ],
             [
              1,
              "#f0f921"
             ]
            ],
            "type": "contour"
           }
          ],
          "contourcarpet": [
           {
            "colorbar": {
             "outlinewidth": 0,
             "ticks": ""
            },
            "type": "contourcarpet"
           }
          ],
          "heatmap": [
           {
            "colorbar": {
             "outlinewidth": 0,
             "ticks": ""
            },
            "colorscale": [
             [
              0,
              "#0d0887"
             ],
             [
              0.1111111111111111,
              "#46039f"
             ],
             [
              0.2222222222222222,
              "#7201a8"
             ],
             [
              0.3333333333333333,
              "#9c179e"
             ],
             [
              0.4444444444444444,
              "#bd3786"
             ],
             [
              0.5555555555555556,
              "#d8576b"
             ],
             [
              0.6666666666666666,
              "#ed7953"
             ],
             [
              0.7777777777777778,
              "#fb9f3a"
             ],
             [
              0.8888888888888888,
              "#fdca26"
             ],
             [
              1,
              "#f0f921"
             ]
            ],
            "type": "heatmap"
           }
          ],
          "heatmapgl": [
           {
            "colorbar": {
             "outlinewidth": 0,
             "ticks": ""
            },
            "colorscale": [
             [
              0,
              "#0d0887"
             ],
             [
              0.1111111111111111,
              "#46039f"
             ],
             [
              0.2222222222222222,
              "#7201a8"
             ],
             [
              0.3333333333333333,
              "#9c179e"
             ],
             [
              0.4444444444444444,
              "#bd3786"
             ],
             [
              0.5555555555555556,
              "#d8576b"
             ],
             [
              0.6666666666666666,
              "#ed7953"
             ],
             [
              0.7777777777777778,
              "#fb9f3a"
             ],
             [
              0.8888888888888888,
              "#fdca26"
             ],
             [
              1,
              "#f0f921"
             ]
            ],
            "type": "heatmapgl"
           }
          ],
          "histogram": [
           {
            "marker": {
             "pattern": {
              "fillmode": "overlay",
              "size": 10,
              "solidity": 0.2
             }
            },
            "type": "histogram"
           }
          ],
          "histogram2d": [
           {
            "colorbar": {
             "outlinewidth": 0,
             "ticks": ""
            },
            "colorscale": [
             [
              0,
              "#0d0887"
             ],
             [
              0.1111111111111111,
              "#46039f"
             ],
             [
              0.2222222222222222,
              "#7201a8"
             ],
             [
              0.3333333333333333,
              "#9c179e"
             ],
             [
              0.4444444444444444,
              "#bd3786"
             ],
             [
              0.5555555555555556,
              "#d8576b"
             ],
             [
              0.6666666666666666,
              "#ed7953"
             ],
             [
              0.7777777777777778,
              "#fb9f3a"
             ],
             [
              0.8888888888888888,
              "#fdca26"
             ],
             [
              1,
              "#f0f921"
             ]
            ],
            "type": "histogram2d"
           }
          ],
          "histogram2dcontour": [
           {
            "colorbar": {
             "outlinewidth": 0,
             "ticks": ""
            },
            "colorscale": [
             [
              0,
              "#0d0887"
             ],
             [
              0.1111111111111111,
              "#46039f"
             ],
             [
              0.2222222222222222,
              "#7201a8"
             ],
             [
              0.3333333333333333,
              "#9c179e"
             ],
             [
              0.4444444444444444,
              "#bd3786"
             ],
             [
              0.5555555555555556,
              "#d8576b"
             ],
             [
              0.6666666666666666,
              "#ed7953"
             ],
             [
              0.7777777777777778,
              "#fb9f3a"
             ],
             [
              0.8888888888888888,
              "#fdca26"
             ],
             [
              1,
              "#f0f921"
             ]
            ],
            "type": "histogram2dcontour"
           }
          ],
          "mesh3d": [
           {
            "colorbar": {
             "outlinewidth": 0,
             "ticks": ""
            },
            "type": "mesh3d"
           }
          ],
          "parcoords": [
           {
            "line": {
             "colorbar": {
              "outlinewidth": 0,
              "ticks": ""
             }
            },
            "type": "parcoords"
           }
          ],
          "pie": [
           {
            "automargin": true,
            "type": "pie"
           }
          ],
          "scatter": [
           {
            "fillpattern": {
             "fillmode": "overlay",
             "size": 10,
             "solidity": 0.2
            },
            "type": "scatter"
           }
          ],
          "scatter3d": [
           {
            "line": {
             "colorbar": {
              "outlinewidth": 0,
              "ticks": ""
             }
            },
            "marker": {
             "colorbar": {
              "outlinewidth": 0,
              "ticks": ""
             }
            },
            "type": "scatter3d"
           }
          ],
          "scattercarpet": [
           {
            "marker": {
             "colorbar": {
              "outlinewidth": 0,
              "ticks": ""
             }
            },
            "type": "scattercarpet"
           }
          ],
          "scattergeo": [
           {
            "marker": {
             "colorbar": {
              "outlinewidth": 0,
              "ticks": ""
             }
            },
            "type": "scattergeo"
           }
          ],
          "scattergl": [
           {
            "marker": {
             "colorbar": {
              "outlinewidth": 0,
              "ticks": ""
             }
            },
            "type": "scattergl"
           }
          ],
          "scattermapbox": [
           {
            "marker": {
             "colorbar": {
              "outlinewidth": 0,
              "ticks": ""
             }
            },
            "type": "scattermapbox"
           }
          ],
          "scatterpolar": [
           {
            "marker": {
             "colorbar": {
              "outlinewidth": 0,
              "ticks": ""
             }
            },
            "type": "scatterpolar"
           }
          ],
          "scatterpolargl": [
           {
            "marker": {
             "colorbar": {
              "outlinewidth": 0,
              "ticks": ""
             }
            },
            "type": "scatterpolargl"
           }
          ],
          "scatterternary": [
           {
            "marker": {
             "colorbar": {
              "outlinewidth": 0,
              "ticks": ""
             }
            },
            "type": "scatterternary"
           }
          ],
          "surface": [
           {
            "colorbar": {
             "outlinewidth": 0,
             "ticks": ""
            },
            "colorscale": [
             [
              0,
              "#0d0887"
             ],
             [
              0.1111111111111111,
              "#46039f"
             ],
             [
              0.2222222222222222,
              "#7201a8"
             ],
             [
              0.3333333333333333,
              "#9c179e"
             ],
             [
              0.4444444444444444,
              "#bd3786"
             ],
             [
              0.5555555555555556,
              "#d8576b"
             ],
             [
              0.6666666666666666,
              "#ed7953"
             ],
             [
              0.7777777777777778,
              "#fb9f3a"
             ],
             [
              0.8888888888888888,
              "#fdca26"
             ],
             [
              1,
              "#f0f921"
             ]
            ],
            "type": "surface"
           }
          ],
          "table": [
           {
            "cells": {
             "fill": {
              "color": "#EBF0F8"
             },
             "line": {
              "color": "white"
             }
            },
            "header": {
             "fill": {
              "color": "#C8D4E3"
             },
             "line": {
              "color": "white"
             }
            },
            "type": "table"
           }
          ]
         },
         "layout": {
          "annotationdefaults": {
           "arrowcolor": "#2a3f5f",
           "arrowhead": 0,
           "arrowwidth": 1
          },
          "autotypenumbers": "strict",
          "coloraxis": {
           "colorbar": {
            "outlinewidth": 0,
            "ticks": ""
           }
          },
          "colorscale": {
           "diverging": [
            [
             0,
             "#8e0152"
            ],
            [
             0.1,
             "#c51b7d"
            ],
            [
             0.2,
             "#de77ae"
            ],
            [
             0.3,
             "#f1b6da"
            ],
            [
             0.4,
             "#fde0ef"
            ],
            [
             0.5,
             "#f7f7f7"
            ],
            [
             0.6,
             "#e6f5d0"
            ],
            [
             0.7,
             "#b8e186"
            ],
            [
             0.8,
             "#7fbc41"
            ],
            [
             0.9,
             "#4d9221"
            ],
            [
             1,
             "#276419"
            ]
           ],
           "sequential": [
            [
             0,
             "#0d0887"
            ],
            [
             0.1111111111111111,
             "#46039f"
            ],
            [
             0.2222222222222222,
             "#7201a8"
            ],
            [
             0.3333333333333333,
             "#9c179e"
            ],
            [
             0.4444444444444444,
             "#bd3786"
            ],
            [
             0.5555555555555556,
             "#d8576b"
            ],
            [
             0.6666666666666666,
             "#ed7953"
            ],
            [
             0.7777777777777778,
             "#fb9f3a"
            ],
            [
             0.8888888888888888,
             "#fdca26"
            ],
            [
             1,
             "#f0f921"
            ]
           ],
           "sequentialminus": [
            [
             0,
             "#0d0887"
            ],
            [
             0.1111111111111111,
             "#46039f"
            ],
            [
             0.2222222222222222,
             "#7201a8"
            ],
            [
             0.3333333333333333,
             "#9c179e"
            ],
            [
             0.4444444444444444,
             "#bd3786"
            ],
            [
             0.5555555555555556,
             "#d8576b"
            ],
            [
             0.6666666666666666,
             "#ed7953"
            ],
            [
             0.7777777777777778,
             "#fb9f3a"
            ],
            [
             0.8888888888888888,
             "#fdca26"
            ],
            [
             1,
             "#f0f921"
            ]
           ]
          },
          "colorway": [
           "#636efa",
           "#EF553B",
           "#00cc96",
           "#ab63fa",
           "#FFA15A",
           "#19d3f3",
           "#FF6692",
           "#B6E880",
           "#FF97FF",
           "#FECB52"
          ],
          "font": {
           "color": "#2a3f5f"
          },
          "geo": {
           "bgcolor": "white",
           "lakecolor": "white",
           "landcolor": "#E5ECF6",
           "showlakes": true,
           "showland": true,
           "subunitcolor": "white"
          },
          "hoverlabel": {
           "align": "left"
          },
          "hovermode": "closest",
          "mapbox": {
           "style": "light"
          },
          "paper_bgcolor": "white",
          "plot_bgcolor": "#E5ECF6",
          "polar": {
           "angularaxis": {
            "gridcolor": "white",
            "linecolor": "white",
            "ticks": ""
           },
           "bgcolor": "#E5ECF6",
           "radialaxis": {
            "gridcolor": "white",
            "linecolor": "white",
            "ticks": ""
           }
          },
          "scene": {
           "xaxis": {
            "backgroundcolor": "#E5ECF6",
            "gridcolor": "white",
            "gridwidth": 2,
            "linecolor": "white",
            "showbackground": true,
            "ticks": "",
            "zerolinecolor": "white"
           },
           "yaxis": {
            "backgroundcolor": "#E5ECF6",
            "gridcolor": "white",
            "gridwidth": 2,
            "linecolor": "white",
            "showbackground": true,
            "ticks": "",
            "zerolinecolor": "white"
           },
           "zaxis": {
            "backgroundcolor": "#E5ECF6",
            "gridcolor": "white",
            "gridwidth": 2,
            "linecolor": "white",
            "showbackground": true,
            "ticks": "",
            "zerolinecolor": "white"
           }
          },
          "shapedefaults": {
           "line": {
            "color": "#2a3f5f"
           }
          },
          "ternary": {
           "aaxis": {
            "gridcolor": "white",
            "linecolor": "white",
            "ticks": ""
           },
           "baxis": {
            "gridcolor": "white",
            "linecolor": "white",
            "ticks": ""
           },
           "bgcolor": "#E5ECF6",
           "caxis": {
            "gridcolor": "white",
            "linecolor": "white",
            "ticks": ""
           }
          },
          "title": {
           "x": 0.05
          },
          "xaxis": {
           "automargin": true,
           "gridcolor": "white",
           "linecolor": "white",
           "ticks": "",
           "title": {
            "standoff": 15
           },
           "zerolinecolor": "white",
           "zerolinewidth": 2
          },
          "yaxis": {
           "automargin": true,
           "gridcolor": "white",
           "linecolor": "white",
           "ticks": "",
           "title": {
            "standoff": 15
           },
           "zerolinecolor": "white",
           "zerolinewidth": 2
          }
         }
        },
        "title": {
         "text": "TSLA Hourly Sentiment Scores"
        },
        "xaxis": {
         "title": {
          "text": "Date and Time"
         }
        },
        "yaxis": {
         "title": {
          "text": "Sentiment Score"
         }
        }
       }
      }
     },
     "metadata": {},
     "output_type": "display_data"
    }
   ],
   "source": [
    "import plotly.graph_objects as go\n",
    "import numpy as np\n",
    "\n",
    "def plot_hourly_sentiment(parsed_and_scored_news, ticker):\n",
    "    # Group by date and ticker columns from parsed_and_scored_news and calculate the mean\n",
    "    mean_scores = parsed_and_scored_news.drop('headline', axis=1).resample('H').mean()\n",
    "    \n",
    "    # Create a new column called 'color' that maps positive sentiment scores to green and negative scores to red\n",
    "    mean_scores['color'] = np.where(mean_scores['sentiment_score'] > 0, 'green', 'red')\n",
    "\n",
    "    # Plot a bar chart with plotly, setting the color of each bar based on the 'color' column\n",
    "    fig = go.Figure(data=go.Bar(x=mean_scores.index, y=mean_scores['sentiment_score'],\n",
    "                               marker_color=mean_scores['color']))\n",
    "\n",
    "    # Update the layout to apply a dark theme\n",
    "    fig.update_layout(\n",
    "        title=ticker + ' Hourly Sentiment Scores',\n",
    "        xaxis_title='Date and Time',\n",
    "        yaxis_title='Sentiment Score',\n",
    "        plot_bgcolor='#01111b',\n",
    "        paper_bgcolor='#01111b',\n",
    "        font_color='#f4f4f4'\n",
    "    )\n",
    "\n",
    "    # Add custom labels for positive and negative sentiment scores\n",
    "    fig.update_layout(\n",
    "        coloraxis_colorbar=dict(\n",
    "            title='Sentiment',\n",
    "            tickvals=[-1, 0, 1],\n",
    "            ticktext=['Negative', 'Neutral', 'Positive'],\n",
    "            tickmode='array',\n",
    "            ticks='outside',\n",
    "            len=0.6,\n",
    "            thickness=15,\n",
    "            tickfont=dict(color='#f4f4f4')\n",
    "        )\n",
    "    )\n",
    "\n",
    "    return fig\n",
    "\n",
    "fig = plot_hourly_sentiment(parsed_and_scored_news, ticker)\n",
    "fig.show()\n"
   ]
  },
  {
   "attachments": {},
   "cell_type": "markdown",
   "metadata": {},
   "source": [
    "## Daily Sentiment"
   ]
  },
  {
   "cell_type": "code",
   "execution_count": 61,
   "metadata": {},
   "outputs": [
    {
     "data": {
      "application/vnd.plotly.v1+json": {
       "config": {
        "plotlyServerURL": "https://plot.ly"
       },
       "data": [
        {
         "marker": {
          "color": "coral"
         },
         "type": "bar",
         "x": [
          "2023-06-16T00:00:00",
          "2023-06-17T00:00:00",
          "2023-06-18T00:00:00",
          "2023-06-19T00:00:00",
          "2023-06-20T00:00:00"
         ],
         "y": [
          0.04384285714285714,
          0.09043000000000001,
          0.211275,
          0.10421428571428572,
          0.05201111111111111
         ]
        }
       ],
       "layout": {
        "font": {
         "color": "#f4f4f4"
        },
        "paper_bgcolor": "#01111b",
        "plot_bgcolor": "#01111b",
        "template": {
         "data": {
          "bar": [
           {
            "error_x": {
             "color": "#2a3f5f"
            },
            "error_y": {
             "color": "#2a3f5f"
            },
            "marker": {
             "line": {
              "color": "#E5ECF6",
              "width": 0.5
             },
             "pattern": {
              "fillmode": "overlay",
              "size": 10,
              "solidity": 0.2
             }
            },
            "type": "bar"
           }
          ],
          "barpolar": [
           {
            "marker": {
             "line": {
              "color": "#E5ECF6",
              "width": 0.5
             },
             "pattern": {
              "fillmode": "overlay",
              "size": 10,
              "solidity": 0.2
             }
            },
            "type": "barpolar"
           }
          ],
          "carpet": [
           {
            "aaxis": {
             "endlinecolor": "#2a3f5f",
             "gridcolor": "white",
             "linecolor": "white",
             "minorgridcolor": "white",
             "startlinecolor": "#2a3f5f"
            },
            "baxis": {
             "endlinecolor": "#2a3f5f",
             "gridcolor": "white",
             "linecolor": "white",
             "minorgridcolor": "white",
             "startlinecolor": "#2a3f5f"
            },
            "type": "carpet"
           }
          ],
          "choropleth": [
           {
            "colorbar": {
             "outlinewidth": 0,
             "ticks": ""
            },
            "type": "choropleth"
           }
          ],
          "contour": [
           {
            "colorbar": {
             "outlinewidth": 0,
             "ticks": ""
            },
            "colorscale": [
             [
              0,
              "#0d0887"
             ],
             [
              0.1111111111111111,
              "#46039f"
             ],
             [
              0.2222222222222222,
              "#7201a8"
             ],
             [
              0.3333333333333333,
              "#9c179e"
             ],
             [
              0.4444444444444444,
              "#bd3786"
             ],
             [
              0.5555555555555556,
              "#d8576b"
             ],
             [
              0.6666666666666666,
              "#ed7953"
             ],
             [
              0.7777777777777778,
              "#fb9f3a"
             ],
             [
              0.8888888888888888,
              "#fdca26"
             ],
             [
              1,
              "#f0f921"
             ]
            ],
            "type": "contour"
           }
          ],
          "contourcarpet": [
           {
            "colorbar": {
             "outlinewidth": 0,
             "ticks": ""
            },
            "type": "contourcarpet"
           }
          ],
          "heatmap": [
           {
            "colorbar": {
             "outlinewidth": 0,
             "ticks": ""
            },
            "colorscale": [
             [
              0,
              "#0d0887"
             ],
             [
              0.1111111111111111,
              "#46039f"
             ],
             [
              0.2222222222222222,
              "#7201a8"
             ],
             [
              0.3333333333333333,
              "#9c179e"
             ],
             [
              0.4444444444444444,
              "#bd3786"
             ],
             [
              0.5555555555555556,
              "#d8576b"
             ],
             [
              0.6666666666666666,
              "#ed7953"
             ],
             [
              0.7777777777777778,
              "#fb9f3a"
             ],
             [
              0.8888888888888888,
              "#fdca26"
             ],
             [
              1,
              "#f0f921"
             ]
            ],
            "type": "heatmap"
           }
          ],
          "heatmapgl": [
           {
            "colorbar": {
             "outlinewidth": 0,
             "ticks": ""
            },
            "colorscale": [
             [
              0,
              "#0d0887"
             ],
             [
              0.1111111111111111,
              "#46039f"
             ],
             [
              0.2222222222222222,
              "#7201a8"
             ],
             [
              0.3333333333333333,
              "#9c179e"
             ],
             [
              0.4444444444444444,
              "#bd3786"
             ],
             [
              0.5555555555555556,
              "#d8576b"
             ],
             [
              0.6666666666666666,
              "#ed7953"
             ],
             [
              0.7777777777777778,
              "#fb9f3a"
             ],
             [
              0.8888888888888888,
              "#fdca26"
             ],
             [
              1,
              "#f0f921"
             ]
            ],
            "type": "heatmapgl"
           }
          ],
          "histogram": [
           {
            "marker": {
             "pattern": {
              "fillmode": "overlay",
              "size": 10,
              "solidity": 0.2
             }
            },
            "type": "histogram"
           }
          ],
          "histogram2d": [
           {
            "colorbar": {
             "outlinewidth": 0,
             "ticks": ""
            },
            "colorscale": [
             [
              0,
              "#0d0887"
             ],
             [
              0.1111111111111111,
              "#46039f"
             ],
             [
              0.2222222222222222,
              "#7201a8"
             ],
             [
              0.3333333333333333,
              "#9c179e"
             ],
             [
              0.4444444444444444,
              "#bd3786"
             ],
             [
              0.5555555555555556,
              "#d8576b"
             ],
             [
              0.6666666666666666,
              "#ed7953"
             ],
             [
              0.7777777777777778,
              "#fb9f3a"
             ],
             [
              0.8888888888888888,
              "#fdca26"
             ],
             [
              1,
              "#f0f921"
             ]
            ],
            "type": "histogram2d"
           }
          ],
          "histogram2dcontour": [
           {
            "colorbar": {
             "outlinewidth": 0,
             "ticks": ""
            },
            "colorscale": [
             [
              0,
              "#0d0887"
             ],
             [
              0.1111111111111111,
              "#46039f"
             ],
             [
              0.2222222222222222,
              "#7201a8"
             ],
             [
              0.3333333333333333,
              "#9c179e"
             ],
             [
              0.4444444444444444,
              "#bd3786"
             ],
             [
              0.5555555555555556,
              "#d8576b"
             ],
             [
              0.6666666666666666,
              "#ed7953"
             ],
             [
              0.7777777777777778,
              "#fb9f3a"
             ],
             [
              0.8888888888888888,
              "#fdca26"
             ],
             [
              1,
              "#f0f921"
             ]
            ],
            "type": "histogram2dcontour"
           }
          ],
          "mesh3d": [
           {
            "colorbar": {
             "outlinewidth": 0,
             "ticks": ""
            },
            "type": "mesh3d"
           }
          ],
          "parcoords": [
           {
            "line": {
             "colorbar": {
              "outlinewidth": 0,
              "ticks": ""
             }
            },
            "type": "parcoords"
           }
          ],
          "pie": [
           {
            "automargin": true,
            "type": "pie"
           }
          ],
          "scatter": [
           {
            "fillpattern": {
             "fillmode": "overlay",
             "size": 10,
             "solidity": 0.2
            },
            "type": "scatter"
           }
          ],
          "scatter3d": [
           {
            "line": {
             "colorbar": {
              "outlinewidth": 0,
              "ticks": ""
             }
            },
            "marker": {
             "colorbar": {
              "outlinewidth": 0,
              "ticks": ""
             }
            },
            "type": "scatter3d"
           }
          ],
          "scattercarpet": [
           {
            "marker": {
             "colorbar": {
              "outlinewidth": 0,
              "ticks": ""
             }
            },
            "type": "scattercarpet"
           }
          ],
          "scattergeo": [
           {
            "marker": {
             "colorbar": {
              "outlinewidth": 0,
              "ticks": ""
             }
            },
            "type": "scattergeo"
           }
          ],
          "scattergl": [
           {
            "marker": {
             "colorbar": {
              "outlinewidth": 0,
              "ticks": ""
             }
            },
            "type": "scattergl"
           }
          ],
          "scattermapbox": [
           {
            "marker": {
             "colorbar": {
              "outlinewidth": 0,
              "ticks": ""
             }
            },
            "type": "scattermapbox"
           }
          ],
          "scatterpolar": [
           {
            "marker": {
             "colorbar": {
              "outlinewidth": 0,
              "ticks": ""
             }
            },
            "type": "scatterpolar"
           }
          ],
          "scatterpolargl": [
           {
            "marker": {
             "colorbar": {
              "outlinewidth": 0,
              "ticks": ""
             }
            },
            "type": "scatterpolargl"
           }
          ],
          "scatterternary": [
           {
            "marker": {
             "colorbar": {
              "outlinewidth": 0,
              "ticks": ""
             }
            },
            "type": "scatterternary"
           }
          ],
          "surface": [
           {
            "colorbar": {
             "outlinewidth": 0,
             "ticks": ""
            },
            "colorscale": [
             [
              0,
              "#0d0887"
             ],
             [
              0.1111111111111111,
              "#46039f"
             ],
             [
              0.2222222222222222,
              "#7201a8"
             ],
             [
              0.3333333333333333,
              "#9c179e"
             ],
             [
              0.4444444444444444,
              "#bd3786"
             ],
             [
              0.5555555555555556,
              "#d8576b"
             ],
             [
              0.6666666666666666,
              "#ed7953"
             ],
             [
              0.7777777777777778,
              "#fb9f3a"
             ],
             [
              0.8888888888888888,
              "#fdca26"
             ],
             [
              1,
              "#f0f921"
             ]
            ],
            "type": "surface"
           }
          ],
          "table": [
           {
            "cells": {
             "fill": {
              "color": "#EBF0F8"
             },
             "line": {
              "color": "white"
             }
            },
            "header": {
             "fill": {
              "color": "#C8D4E3"
             },
             "line": {
              "color": "white"
             }
            },
            "type": "table"
           }
          ]
         },
         "layout": {
          "annotationdefaults": {
           "arrowcolor": "#2a3f5f",
           "arrowhead": 0,
           "arrowwidth": 1
          },
          "autotypenumbers": "strict",
          "coloraxis": {
           "colorbar": {
            "outlinewidth": 0,
            "ticks": ""
           }
          },
          "colorscale": {
           "diverging": [
            [
             0,
             "#8e0152"
            ],
            [
             0.1,
             "#c51b7d"
            ],
            [
             0.2,
             "#de77ae"
            ],
            [
             0.3,
             "#f1b6da"
            ],
            [
             0.4,
             "#fde0ef"
            ],
            [
             0.5,
             "#f7f7f7"
            ],
            [
             0.6,
             "#e6f5d0"
            ],
            [
             0.7,
             "#b8e186"
            ],
            [
             0.8,
             "#7fbc41"
            ],
            [
             0.9,
             "#4d9221"
            ],
            [
             1,
             "#276419"
            ]
           ],
           "sequential": [
            [
             0,
             "#0d0887"
            ],
            [
             0.1111111111111111,
             "#46039f"
            ],
            [
             0.2222222222222222,
             "#7201a8"
            ],
            [
             0.3333333333333333,
             "#9c179e"
            ],
            [
             0.4444444444444444,
             "#bd3786"
            ],
            [
             0.5555555555555556,
             "#d8576b"
            ],
            [
             0.6666666666666666,
             "#ed7953"
            ],
            [
             0.7777777777777778,
             "#fb9f3a"
            ],
            [
             0.8888888888888888,
             "#fdca26"
            ],
            [
             1,
             "#f0f921"
            ]
           ],
           "sequentialminus": [
            [
             0,
             "#0d0887"
            ],
            [
             0.1111111111111111,
             "#46039f"
            ],
            [
             0.2222222222222222,
             "#7201a8"
            ],
            [
             0.3333333333333333,
             "#9c179e"
            ],
            [
             0.4444444444444444,
             "#bd3786"
            ],
            [
             0.5555555555555556,
             "#d8576b"
            ],
            [
             0.6666666666666666,
             "#ed7953"
            ],
            [
             0.7777777777777778,
             "#fb9f3a"
            ],
            [
             0.8888888888888888,
             "#fdca26"
            ],
            [
             1,
             "#f0f921"
            ]
           ]
          },
          "colorway": [
           "#636efa",
           "#EF553B",
           "#00cc96",
           "#ab63fa",
           "#FFA15A",
           "#19d3f3",
           "#FF6692",
           "#B6E880",
           "#FF97FF",
           "#FECB52"
          ],
          "font": {
           "color": "#2a3f5f"
          },
          "geo": {
           "bgcolor": "white",
           "lakecolor": "white",
           "landcolor": "#E5ECF6",
           "showlakes": true,
           "showland": true,
           "subunitcolor": "white"
          },
          "hoverlabel": {
           "align": "left"
          },
          "hovermode": "closest",
          "mapbox": {
           "style": "light"
          },
          "paper_bgcolor": "white",
          "plot_bgcolor": "#E5ECF6",
          "polar": {
           "angularaxis": {
            "gridcolor": "white",
            "linecolor": "white",
            "ticks": ""
           },
           "bgcolor": "#E5ECF6",
           "radialaxis": {
            "gridcolor": "white",
            "linecolor": "white",
            "ticks": ""
           }
          },
          "scene": {
           "xaxis": {
            "backgroundcolor": "#E5ECF6",
            "gridcolor": "white",
            "gridwidth": 2,
            "linecolor": "white",
            "showbackground": true,
            "ticks": "",
            "zerolinecolor": "white"
           },
           "yaxis": {
            "backgroundcolor": "#E5ECF6",
            "gridcolor": "white",
            "gridwidth": 2,
            "linecolor": "white",
            "showbackground": true,
            "ticks": "",
            "zerolinecolor": "white"
           },
           "zaxis": {
            "backgroundcolor": "#E5ECF6",
            "gridcolor": "white",
            "gridwidth": 2,
            "linecolor": "white",
            "showbackground": true,
            "ticks": "",
            "zerolinecolor": "white"
           }
          },
          "shapedefaults": {
           "line": {
            "color": "#2a3f5f"
           }
          },
          "ternary": {
           "aaxis": {
            "gridcolor": "white",
            "linecolor": "white",
            "ticks": ""
           },
           "baxis": {
            "gridcolor": "white",
            "linecolor": "white",
            "ticks": ""
           },
           "bgcolor": "#E5ECF6",
           "caxis": {
            "gridcolor": "white",
            "linecolor": "white",
            "ticks": ""
           }
          },
          "title": {
           "x": 0.05
          },
          "xaxis": {
           "automargin": true,
           "gridcolor": "white",
           "linecolor": "white",
           "ticks": "",
           "title": {
            "standoff": 15
           },
           "zerolinecolor": "white",
           "zerolinewidth": 2
          },
          "yaxis": {
           "automargin": true,
           "gridcolor": "white",
           "linecolor": "white",
           "ticks": "",
           "title": {
            "standoff": 15
           },
           "zerolinecolor": "white",
           "zerolinewidth": 2
          }
         }
        },
        "title": {
         "text": "TSLA Daily Sentiment Scores"
        },
        "xaxis": {
         "title": {
          "text": "Date"
         }
        },
        "yaxis": {
         "title": {
          "text": "Sentiment Score"
         }
        }
       }
      }
     },
     "metadata": {},
     "output_type": "display_data"
    }
   ],
   "source": [
    "import plotly.graph_objects as go\n",
    "\n",
    "def plot_daily_sentiment(parsed_and_scored_news, ticker):\n",
    "    mean_scores = parsed_and_scored_news.drop('headline', axis=1).resample('D').mean()\n",
    "\n",
    "    # Plot a bar chart with plotly\n",
    "    fig = go.Figure(data=go.Bar(x=mean_scores.index, y=mean_scores['sentiment_score'],\n",
    "                               marker_color='coral'))\n",
    "\n",
    "    # Update the layout to apply a dark theme\n",
    "    fig.update_layout(\n",
    "        title=ticker + ' Daily Sentiment Scores',\n",
    "        xaxis_title='Date',\n",
    "        yaxis_title='Sentiment Score',\n",
    "        plot_bgcolor='#01111b',\n",
    "        paper_bgcolor='#01111b',\n",
    "        font_color='#f4f4f4'\n",
    "    )\n",
    "\n",
    "    return fig\n",
    "\n",
    "fig = plot_daily_sentiment(parsed_and_scored_news, ticker)\n",
    "fig.show()\n"
   ]
  }
 ],
 "metadata": {
  "kernelspec": {
   "display_name": "Python 3",
   "language": "python",
   "name": "python3"
  },
  "language_info": {
   "codemirror_mode": {
    "name": "ipython",
    "version": 3
   },
   "file_extension": ".py",
   "mimetype": "text/x-python",
   "name": "python",
   "nbconvert_exporter": "python",
   "pygments_lexer": "ipython3",
   "version": "3.10.11"
  },
  "orig_nbformat": 4
 },
 "nbformat": 4,
 "nbformat_minor": 2
}
